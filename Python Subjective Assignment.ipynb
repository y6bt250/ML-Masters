{
 "cells": [
  {
   "cell_type": "markdown",
   "metadata": {},
   "source": [
    "### Q1. Write a Python program to get the string from the given string where all the occurrence of its first char has been changed to except first char itself?"
   ]
  },
  {
   "cell_type": "code",
   "execution_count": 1,
   "metadata": {},
   "outputs": [],
   "source": [
    "def change_string(str):\n",
    "    s=list(str)\n",
    "    changed_str=\"\"\n",
    "    first_ch=s[0]\n",
    "    for i in range(1,len(s)):\n",
    "        if s[i]==first_ch:\n",
    "            s[i]='$'\n",
    "    return changed_str.join(s)"
   ]
  },
  {
   "cell_type": "code",
   "execution_count": 2,
   "metadata": {},
   "outputs": [
    {
     "data": {
      "text/plain": [
       "'pros$ect'"
      ]
     },
     "execution_count": 2,
     "metadata": {},
     "output_type": "execute_result"
    }
   ],
   "source": [
    "change_string('prospect')"
   ]
  },
  {
   "cell_type": "markdown",
   "metadata": {},
   "source": [
    "### Q2. Write a Python program to get the single string from the two given strings, and separated by the space and swap the first two characters of each string?"
   ]
  },
  {
   "cell_type": "code",
   "execution_count": 3,
   "metadata": {},
   "outputs": [],
   "source": [
    "def combine(str1,str2):\n",
    "    new_str1=str2[0:2]+str1[2:]\n",
    "    new_str2=str1[0:2]+str2[2:]\n",
    "    return new_str1+\" \"+new_str2 "
   ]
  },
  {
   "cell_type": "code",
   "execution_count": 4,
   "metadata": {},
   "outputs": [
    {
     "data": {
      "text/plain": [
       "'xyc abz'"
      ]
     },
     "execution_count": 4,
     "metadata": {},
     "output_type": "execute_result"
    }
   ],
   "source": [
    "combine('abc','xyz')"
   ]
  },
  {
   "cell_type": "markdown",
   "metadata": {},
   "source": [
    "### Q3. Write the Python program to add 'ing' at the end of the given string (length of the string should be at least 3). If given string already ends with 'ing,' then add 'ly' instead. If string length of the given string is less than 3, leave it unchanged?"
   ]
  },
  {
   "cell_type": "code",
   "execution_count": 5,
   "metadata": {},
   "outputs": [],
   "source": [
    "def extend_string(str):\n",
    "    if len(str)>=3:\n",
    "        if str[-3:]=='ing':\n",
    "            str+='ly'\n",
    "        else:\n",
    "            str+='ing'\n",
    "    \n",
    "    return str"
   ]
  },
  {
   "cell_type": "code",
   "execution_count": 6,
   "metadata": {},
   "outputs": [
    {
     "name": "stdout",
     "output_type": "stream",
     "text": [
      "ab\n",
      "abcing\n",
      "stringly\n"
     ]
    }
   ],
   "source": [
    "print(extend_string('ab'))\n",
    "print(extend_string('abc'))\n",
    "print(extend_string('string'))"
   ]
  },
  {
   "cell_type": "markdown",
   "metadata": {},
   "source": [
    "### Q4. Write the Python program to find the first appearance of the substring 'not' and 'poor' from the given string, if 'not' follows the 'poor', replace the whole 'not'...' poor' substring with 'good'.Return the resulting string."
   ]
  },
  {
   "cell_type": "code",
   "execution_count": 7,
   "metadata": {},
   "outputs": [],
   "source": [
    "def Str_replace(str):\n",
    "    I_not=str.find('not')\n",
    "    I_poor=str.find('poor')\n",
    "    if I_poor>I_not and I_not>0 and I_poor>0:\n",
    "        str=str.replace(str[I_not:(I_poor+4)],'good')\n",
    "        return str\n",
    "    else:\n",
    "        return str"
   ]
  },
  {
   "cell_type": "code",
   "execution_count": 8,
   "metadata": {},
   "outputs": [
    {
     "name": "stdout",
     "output_type": "stream",
     "text": [
      "The lyrics are good!\n",
      "The lyrics are poor!\n"
     ]
    }
   ],
   "source": [
    "print(Str_replace('The lyrics are not that poor!'))\n",
    "print(Str_replace('The lyrics are poor!'))"
   ]
  },
  {
   "cell_type": "markdown",
   "metadata": {},
   "source": [
    "### Q5. Write the Python program to remove the characters which have odd index values of a given string"
   ]
  },
  {
   "cell_type": "code",
   "execution_count": 9,
   "metadata": {},
   "outputs": [],
   "source": [
    "def even_string(str):\n",
    "    new_str=\"\"\n",
    "    for i in range(len(str)):\n",
    "        if i%2==0:\n",
    "            new_str+=str[i]\n",
    "    return new_str"
   ]
  },
  {
   "cell_type": "code",
   "execution_count": 10,
   "metadata": {},
   "outputs": [
    {
     "name": "stdout",
     "output_type": "stream",
     "text": [
      "catna\n",
      "aceg\n"
     ]
    }
   ],
   "source": [
    "print(even_string('chaitanya'))\n",
    "print(even_string('abcdefgh'))"
   ]
  },
  {
   "cell_type": "markdown",
   "metadata": {},
   "source": [
    "### Q6. Write the Python function to get a string made of 4 copies of the last two characters of the specified string (length must be at least 2)."
   ]
  },
  {
   "cell_type": "code",
   "execution_count": 11,
   "metadata": {},
   "outputs": [],
   "source": [
    "def str_extend(str):\n",
    "    last_two=str[-2:]\n",
    "    if len(str)>2:\n",
    "        return last_two*4\n",
    "    else:\n",
    "        return str"
   ]
  },
  {
   "cell_type": "code",
   "execution_count": 12,
   "metadata": {},
   "outputs": [
    {
     "name": "stdout",
     "output_type": "stream",
     "text": [
      "onononon\n",
      "eseseses\n",
      "me\n"
     ]
    }
   ],
   "source": [
    "print(str_extend('python'))\n",
    "print(str_extend('excercises'))\n",
    "print(str_extend('me'))"
   ]
  },
  {
   "cell_type": "markdown",
   "metadata": {},
   "source": [
    "### Q7. Write the python function to get a string made of its first three characters of a specified string. If the length of the string is less than 3 then return the original string."
   ]
  },
  {
   "cell_type": "code",
   "execution_count": 13,
   "metadata": {},
   "outputs": [],
   "source": [
    "def first_three(str):\n",
    "    if len(str)>=3:\n",
    "        return str[0:3]\n",
    "    else:\n",
    "        return str"
   ]
  },
  {
   "cell_type": "code",
   "execution_count": 14,
   "metadata": {},
   "outputs": [
    {
     "data": {
      "text/plain": [
       "'ipy'"
      ]
     },
     "execution_count": 14,
     "metadata": {},
     "output_type": "execute_result"
    },
    {
     "data": {
      "text/plain": [
       "'pyt'"
      ]
     },
     "execution_count": 14,
     "metadata": {},
     "output_type": "execute_result"
    }
   ],
   "source": [
    "first_three('ipy')\n",
    "first_three('python')"
   ]
  },
  {
   "cell_type": "markdown",
   "metadata": {},
   "source": [
    "### Q8. Write the python program to print the following floating numbers up to 2 decimal places?"
   ]
  },
  {
   "cell_type": "code",
   "execution_count": 15,
   "metadata": {},
   "outputs": [
    {
     "name": "stdout",
     "output_type": "stream",
     "text": [
      "\n",
      "original number: 1.23456\n",
      "Formatted number:1.23\n",
      "\n",
      "original number: 2.99999\n",
      "Formatted number:3.00\n"
     ]
    }
   ],
   "source": [
    "a=1.23456\n",
    "b=2.99999\n",
    "print(\"\\noriginal number:\",a)\n",
    "print(\"Formatted number:\"+\"{:.2f}\".format(a))\n",
    "print(\"\\noriginal number:\",b)\n",
    "print(\"Formatted number:\"+\"{:.2f}\".format(b))"
   ]
  },
  {
   "cell_type": "markdown",
   "metadata": {},
   "source": [
    "### Q9. Write the Python program to format a number with a percentage?"
   ]
  },
  {
   "cell_type": "code",
   "execution_count": 16,
   "metadata": {},
   "outputs": [
    {
     "name": "stdout",
     "output_type": "stream",
     "text": [
      "\n",
      "original number: 0.5\n",
      "Formatted number with percentage:50.00%\n",
      "\n",
      "original number: 0.75\n",
      "Formatted number with percentage:75.00%\n"
     ]
    }
   ],
   "source": [
    "a=0.50\n",
    "b=0.75\n",
    "print(\"\\noriginal number:\",a)\n",
    "print(\"Formatted number with percentage:\"+\"{:.2%}\".format(a))\n",
    "print(\"\\noriginal number:\",b)\n",
    "print(\"Formatted number with percentage:\"+\"{:.2%}\".format(b))"
   ]
  },
  {
   "cell_type": "markdown",
   "metadata": {},
   "source": [
    "### Q10. Write the Python program to count occurrences of a substring in a String?"
   ]
  },
  {
   "cell_type": "code",
   "execution_count": 17,
   "metadata": {},
   "outputs": [],
   "source": [
    "def str_count(str,sub_str):\n",
    "    return str.count(sub_str)"
   ]
  },
  {
   "cell_type": "code",
   "execution_count": 18,
   "metadata": {},
   "outputs": [
    {
     "data": {
      "text/plain": [
       "2"
      ]
     },
     "execution_count": 18,
     "metadata": {},
     "output_type": "execute_result"
    }
   ],
   "source": [
    "str_count('my name is chaitanya and what is your name?','name')"
   ]
  },
  {
   "cell_type": "markdown",
   "metadata": {},
   "source": [
    "### Q11. Write the Python program to count repeated characters in a string."
   ]
  },
  {
   "cell_type": "code",
   "execution_count": 19,
   "metadata": {},
   "outputs": [],
   "source": [
    "import collections\n",
    "def ch_count(str):\n",
    "    s=collections.Counter(str).most_common(6)\n",
    "    for i in range(len(s)):\n",
    "        if s[i][1]>1:\n",
    "            print('%s %d' %(s[i][0],s[i][1]))"
   ]
  },
  {
   "cell_type": "code",
   "execution_count": 20,
   "metadata": {},
   "outputs": [
    {
     "name": "stdout",
     "output_type": "stream",
     "text": [
      "o 4\n",
      "e 3\n",
      "t 2\n",
      "h 2\n",
      "u 2\n",
      "r 2\n"
     ]
    }
   ],
   "source": [
    "ch_count('thequickbrownfoxjumpsoverthelazydog')"
   ]
  },
  {
   "cell_type": "markdown",
   "metadata": {},
   "source": [
    "### Q12. Write the Python program to print the square and cube symbol in the area of a rectangle and volume of a cylinder?"
   ]
  },
  {
   "cell_type": "code",
   "execution_count": 21,
   "metadata": {},
   "outputs": [
    {
     "name": "stdout",
     "output_type": "stream",
     "text": [
      "the area of rectangle is 256.45cm²\n",
      "the volume of cylinder is 567.564cm³\n"
     ]
    }
   ],
   "source": [
    "area=256.45\n",
    "volume=567.564\n",
    "decimals=2\n",
    "print(\"the area of rectangle is {0:.{1}f}cm\\u00b2\".format(area,decimals))\n",
    "decimals=3\n",
    "print(\"the volume of cylinder is {0:.{1}f}cm\\u00b3\".format(volume,decimals))"
   ]
  },
  {
   "cell_type": "markdown",
   "metadata": {},
   "source": [
    "### Q13. Write the Python program to check if a string contains all letters of the alphabet?(pangram)"
   ]
  },
  {
   "cell_type": "code",
   "execution_count": 22,
   "metadata": {},
   "outputs": [],
   "source": [
    "import string\n",
    "alphabet=set(string.ascii_lowercase)\n",
    "def is_pangram(str):\n",
    "    return not alphabet-set(str.lower())"
   ]
  },
  {
   "cell_type": "code",
   "execution_count": 23,
   "metadata": {},
   "outputs": [
    {
     "data": {
      "text/plain": [
       "True"
      ]
     },
     "execution_count": 23,
     "metadata": {},
     "output_type": "execute_result"
    },
    {
     "data": {
      "text/plain": [
       "False"
      ]
     },
     "execution_count": 23,
     "metadata": {},
     "output_type": "execute_result"
    }
   ],
   "source": [
    "str='The quick brown fox jumps over the lazy dog'\n",
    "is_pangram(str)\n",
    "str='The quick brown fox jumps over the lazy cat'\n",
    "is_pangram(str)"
   ]
  },
  {
   "cell_type": "markdown",
   "metadata": {},
   "source": [
    "### Q14. Write the Python program to find the second most repeated word in a given string?"
   ]
  },
  {
   "cell_type": "code",
   "execution_count": 24,
   "metadata": {},
   "outputs": [],
   "source": [
    "def second_Frequent(str):\n",
    " counts = dict()\n",
    " words = str.split()\n",
    " for word in words:\n",
    "    if word in counts:\n",
    "        counts[word] += 1\n",
    "    else:\n",
    "        counts[word] = 1\n",
    " counts_x = sorted(counts.items(), key=lambda kv: kv[1])\n",
    " #print(counts_x)\n",
    " return counts_x[-2]"
   ]
  },
  {
   "cell_type": "code",
   "execution_count": 25,
   "metadata": {},
   "outputs": [
    {
     "name": "stdout",
     "output_type": "stream",
     "text": [
      "('of', 4)\n"
     ]
    }
   ],
   "source": [
    "print(second_Frequent(\"\"\"Both of these issues are fixed by postponing the evaluation of\n",
    "annotations. Instead of compiling code which executes expressions in annotations\n",
    "at their definition time, the compiler stores the annotation in a string form\n",
    "equivalent to the AST of the expression in question. If needed, annotations can be\n",
    "resolved at runtime using typing.get_type_hints(). In the common case where this is\n",
    "not required, the annotations are cheaper to store (since short strings are interned by\n",
    "the interpreter) and make startup time faster.\"\"\"))"
   ]
  },
  {
   "cell_type": "markdown",
   "metadata": {},
   "source": [
    "### Q15. Write the Python program to find the minimum window in the given string, which will contains all the characters of another given strings?"
   ]
  },
  {
   "cell_type": "code",
   "execution_count": 26,
   "metadata": {},
   "outputs": [],
   "source": [
    "import collections\n",
    "def min_window(str1, str2):\n",
    " result_char, missing_char = collections.Counter(str2), len(str2)\n",
    " i = p = q = 0\n",
    " for j, c in enumerate(str1, 1):\n",
    "     missing_char -= result_char[c] > 0\n",
    "     result_char[c] -= 1\n",
    "     if not missing_char:\n",
    "         while i < q and result_char[str1 [i]] < 0:\n",
    "             result_char[str1[i]] += 1\n",
    "             i += 1\n",
    "         if not q or j - i <= q - p:\n",
    "             p, q = i, j\n",
    " return str1 [p:q]"
   ]
  },
  {
   "cell_type": "code",
   "execution_count": 27,
   "metadata": {},
   "outputs": [
    {
     "name": "stdout",
     "output_type": "stream",
     "text": [
      "Original Strings:\n",
      " PRWSOERIUSFK \n",
      " OSU\n",
      "Minimum window:\n",
      "OERIUS\n"
     ]
    }
   ],
   "source": [
    "str1 = \"PRWSOERIUSFK\"\n",
    "str2 = \"OSU\"\n",
    "print(\"Original Strings:\\n\",str1,\"\\n\",str2)\n",
    "print(\"Minimum window:\")\n",
    "print(min_window(str1,str2))"
   ]
  },
  {
   "cell_type": "markdown",
   "metadata": {},
   "source": [
    "### Q16. Write the Python program to find smallest window that contains all characters of the given string?"
   ]
  },
  {
   "cell_type": "code",
   "execution_count": 28,
   "metadata": {},
   "outputs": [],
   "source": [
    "from collections import defaultdict\n",
    "def find_sub_string(str):\n",
    " str_len = len(str)\n",
    "\n",
    " dist_count_char = len(set([x for x in str]))\n",
    " ctr, start_pos, start_pos_index, min_len = 0, 0, -1, 9999999999\n",
    " curr_count = defaultdict(lambda: 0)\n",
    " for i in range(str_len):\n",
    "     curr_count[str[i]] += 1\n",
    "     if curr_count[str[i]] == 1:\n",
    "         ctr += 1\n",
    "     if ctr == dist_count_char:\n",
    "         while curr_count[str[start_pos]] > 1:\n",
    "             if curr_count[str[start_pos]] > 1:\n",
    "                 curr_count[str[start_pos]] -= 1\n",
    "             start_pos += 1\n",
    "         len_window = i - start_pos + 1\n",
    "         if min_len > len_window:\n",
    "            min_len = len_window\n",
    "            start_pos_index = start_pos\n",
    " return str[start_pos_index: start_pos_index + min_len]"
   ]
  },
  {
   "cell_type": "code",
   "execution_count": 29,
   "metadata": {},
   "outputs": [
    {
     "name": "stdout",
     "output_type": "stream",
     "text": [
      "Original Strings:\n",
      " asdaewsqgtwwsa\n",
      "\n",
      "Smallest window that contains all characters of the said string:\n",
      "daewsqgt\n"
     ]
    }
   ],
   "source": [
    "str1 = \"asdaewsqgtwwsa\"\n",
    "print(\"Original Strings:\\n\",str1)\n",
    "print(\"\\nSmallest window that contains all characters of the said string:\")\n",
    "print(find_sub_string(str1))"
   ]
  },
  {
   "cell_type": "markdown",
   "metadata": {},
   "source": [
    "### Q17. Write the Python program to count number of substrings from a given string of lowercase alphabets with exactly k distinct (given) characters?"
   ]
  },
  {
   "cell_type": "code",
   "execution_count": 30,
   "metadata": {},
   "outputs": [],
   "source": [
    "def count_k_dist(str1, k): \n",
    "  str_len = len(str1) \n",
    "  result = 0\n",
    "  ctr = [0] * 27\n",
    "  for i in range(0, str_len): \n",
    "       dist_ctr = 0\n",
    "       ctr = [0] * 27\n",
    "       for j in range(i, str_len): \n",
    "            if(ctr[ord(str1[j]) - 97] == 0): \n",
    "                dist_ctr += 1\n",
    "                ctr[ord(str1[j]) - 97] += 1\n",
    "                if(dist_ctr == k): \n",
    "                    result += 1\n",
    "                    if(dist_ctr > k): \n",
    "                        break\n",
    "  return result "
   ]
  },
  {
   "cell_type": "code",
   "execution_count": 31,
   "metadata": {},
   "outputs": [
    {
     "name": "stdout",
     "output_type": "stream",
     "text": [
      "Input a string (lowercase alphabets):chaitanya\n",
      "Input k: 4\n",
      "Number of substrings with exactly 4 distinct characters : 5\n"
     ]
    }
   ],
   "source": [
    "str1 = input(\"Input a string (lowercase alphabets):\")\n",
    "k = int(input(\"Input k: \"))\n",
    "print(\"Number of substrings with exactly\", k, \"distinct characters : \", end = \"\") \n",
    "print(count_k_dist(str1, k))"
   ]
  },
  {
   "cell_type": "markdown",
   "metadata": {},
   "source": [
    "### Q18. Write the Python program to count number of non-empty substrings of the given string?"
   ]
  },
  {
   "cell_type": "code",
   "execution_count": 32,
   "metadata": {},
   "outputs": [
    {
     "name": "stdout",
     "output_type": "stream",
     "text": [
      "Enter a string:chaitanya\n"
     ]
    },
    {
     "data": {
      "text/plain": [
       "45"
      ]
     },
     "execution_count": 32,
     "metadata": {},
     "output_type": "execute_result"
    }
   ],
   "source": [
    "str=input(\"Enter a string:\")\n",
    "def non_empty_substrs(str):\n",
    "    g = len(str)\n",
    "    return int(g*(g+1)/2)\n",
    "non_empty_substrs(str)"
   ]
  },
  {
   "cell_type": "markdown",
   "metadata": {},
   "source": [
    "### Q19. Write the Python program to count number of substrings with same first and last characters of the given string?"
   ]
  },
  {
   "cell_type": "code",
   "execution_count": 33,
   "metadata": {},
   "outputs": [
    {
     "name": "stdout",
     "output_type": "stream",
     "text": [
      "7\n"
     ]
    }
   ],
   "source": [
    "def countSubstringWithEqualEnds(s): \n",
    "  \n",
    "    result = 0; \n",
    "    n = len(s); \n",
    "    for i in range(n): \n",
    "        for j in range(i, n): \n",
    "            if (s[i] == s[j]): \n",
    "                result = result + 1\n",
    "  \n",
    "    return result \n",
    "  \n",
    "s = \"abcab\"; \n",
    "print(countSubstringWithEqualEnds(s)) "
   ]
  },
  {
   "cell_type": "markdown",
   "metadata": {},
   "source": [
    "### Q20. Write the Python program to count the number of strings where the string length is 2 or more, and first and last character are same from a given list of strings."
   ]
  },
  {
   "cell_type": "code",
   "execution_count": 34,
   "metadata": {},
   "outputs": [
    {
     "name": "stdout",
     "output_type": "stream",
     "text": [
      "2\n"
     ]
    }
   ],
   "source": [
    "def match_words(words):\n",
    " ctr = 0\n",
    " for word in words:\n",
    "     if len(word) > 1 and word[0] == word[-1]:\n",
    "         ctr += 1\n",
    " return ctr\n",
    "print(match_words(['abc', 'xyz', 'aba', '1221']))"
   ]
  },
  {
   "cell_type": "markdown",
   "metadata": {},
   "source": [
    "### Q21. Write the Python program to get a list, sorted in increasing order by the last element in each tuple from the given list of non-empty tuples?"
   ]
  },
  {
   "cell_type": "code",
   "execution_count": 35,
   "metadata": {},
   "outputs": [
    {
     "name": "stdout",
     "output_type": "stream",
     "text": [
      "[(2, 1), (1, 2), (2, 3), (4, 4), (2, 5)]\n"
     ]
    }
   ],
   "source": [
    "def lastkey(n):\n",
    "    return n[-1]\n",
    "m=[(2, 5), (1, 2), (4, 4), (2, 3), (2, 1)]\n",
    "print(sorted(m,key = lastkey))\n"
   ]
  },
  {
   "cell_type": "markdown",
   "metadata": {},
   "source": [
    "### Q22. Write the Python program to remove duplicates from a list?"
   ]
  },
  {
   "cell_type": "code",
   "execution_count": 36,
   "metadata": {},
   "outputs": [
    {
     "data": {
      "text/plain": [
       "[40, 10, 80, 50, 20, 60, 30]"
      ]
     },
     "execution_count": 36,
     "metadata": {},
     "output_type": "execute_result"
    }
   ],
   "source": [
    "def remove_dupliate(lst):\n",
    "    dup_items = set()\n",
    "    uniq_items = []\n",
    "    for x in lst:\n",
    "         if x not in dup_items:\n",
    "             uniq_items.append(x)\n",
    "             dup_items.add(x)\n",
    "    return list(dup_items)\n",
    "remove_dupliate([10,20,30,20,10,50,60,40,80,50,40])"
   ]
  },
  {
   "cell_type": "markdown",
   "metadata": {},
   "source": [
    "### Q23. Write the Python program to find the list of words that are longer than n from a given list of words?"
   ]
  },
  {
   "cell_type": "code",
   "execution_count": 37,
   "metadata": {},
   "outputs": [
    {
     "data": {
      "text/plain": [
       "['Green', 'White', 'Black', 'Yellow']"
      ]
     },
     "execution_count": 37,
     "metadata": {},
     "output_type": "execute_result"
    }
   ],
   "source": [
    "def longer_than_n(n,lst):\n",
    "    new_list=[]\n",
    "    for word in lst:\n",
    "        if len(word)>n:\n",
    "            new_list.append(word)\n",
    "    return new_list\n",
    "longer_than_n(4,['Red', 'Green', 'White', 'Black', 'Pink', 'Yellow'])"
   ]
  },
  {
   "cell_type": "markdown",
   "metadata": {},
   "source": [
    "### Q24. Write the Python program to print a specified list after removing the 0th, 4th, and 5th elements?"
   ]
  },
  {
   "cell_type": "code",
   "execution_count": 38,
   "metadata": {},
   "outputs": [
    {
     "name": "stdout",
     "output_type": "stream",
     "text": [
      "['Green', 'White', 'Black']\n"
     ]
    }
   ],
   "source": [
    "p = ['Red', 'Green', 'White', 'Black', 'Pink', 'Yellow']\n",
    "print([x for (i,x) in enumerate(p) if i not in (0,4,5)])"
   ]
  },
  {
   "cell_type": "markdown",
   "metadata": {},
   "source": [
    "### Q25. Write the Python program to generate all permutations of a list in Python?"
   ]
  },
  {
   "cell_type": "code",
   "execution_count": 39,
   "metadata": {},
   "outputs": [
    {
     "name": "stdout",
     "output_type": "stream",
     "text": [
      "[(1, 2, 3), (1, 3, 2), (2, 1, 3), (2, 3, 1), (3, 1, 2), (3, 2, 1)]\n"
     ]
    }
   ],
   "source": [
    "import itertools\n",
    "print(list(itertools.permutations([1,2,3])))"
   ]
  },
  {
   "cell_type": "markdown",
   "metadata": {},
   "source": [
    "### Q26. Write the Python program to convert a pair of values into a sorted unique array?"
   ]
  },
  {
   "cell_type": "code",
   "execution_count": 40,
   "metadata": {},
   "outputs": [
    {
     "name": "stdout",
     "output_type": "stream",
     "text": [
      "Original List:  [(1, 2), (3, 4), (1, 2), (5, 6), (7, 8), (1, 2), (3, 4), (3, 4), (7, 8), (9, 10)]\n",
      "Sorted Unique Data: [1, 2, 3, 4, 5, 6, 7, 8, 9, 10]\n"
     ]
    }
   ],
   "source": [
    "lst = [(1, 2), (3, 4), (1, 2), (5, 6), (7, 8), (1, 2), (3, 4), (3, 4),(7, 8), (9, 10)]\n",
    "print(\"Original List: \", lst)\n",
    "print(\"Sorted Unique Data:\",sorted(set().union(*lst)))"
   ]
  },
  {
   "cell_type": "markdown",
   "metadata": {},
   "source": [
    "### Q27. Write the Python class to convert an integer to a roman numeral?"
   ]
  },
  {
   "cell_type": "code",
   "execution_count": 41,
   "metadata": {},
   "outputs": [
    {
     "name": "stdout",
     "output_type": "stream",
     "text": [
      "I\n",
      "MMMM\n"
     ]
    }
   ],
   "source": [
    "class Intor:\n",
    " def int_to_Roman(self,num):\n",
    "        val = [\n",
    "            1000, 900, 500, 400,\n",
    "            100, 90, 50, 40,\n",
    "            10, 9, 5, 4,\n",
    "            1\n",
    "            ]\n",
    "        syb = [\n",
    "            \"M\", \"CM\", \"D\", \"CD\",\n",
    "            \"C\", \"XC\", \"L\", \"XL\",\n",
    "            \"X\", \"IX\", \"V\", \"IV\",\n",
    "            \"I\"\n",
    "            ]\n",
    "        roman_num = ''\n",
    "        i = 0\n",
    "        while  num > 0:\n",
    "            for _ in range(num // val[i]):\n",
    "                roman_num += syb[i]\n",
    "                num -= val[i]\n",
    "            i += 1\n",
    "        return roman_num\n",
    "print(Intor().int_to_Roman(1))\n",
    "print(Intor().int_to_Roman(4000))"
   ]
  },
  {
   "cell_type": "markdown",
   "metadata": {},
   "source": [
    "### Q28 Write the Python class to convert a Roman numeral to an integer?"
   ]
  },
  {
   "cell_type": "code",
   "execution_count": 42,
   "metadata": {},
   "outputs": [
    {
     "name": "stdout",
     "output_type": "stream",
     "text": [
      "3986\n",
      "4000\n",
      "100\n"
     ]
    }
   ],
   "source": [
    "class solution:\n",
    "    def roman_to_int(self, s):\n",
    "        rom_val = {'I': 1, 'V': 5, 'X': 10, 'L': 50, 'C': 100, 'D': 500, 'M': 1000}\n",
    "        int_val = 0\n",
    "        for i in range(len(s)):\n",
    "            if i > 0 and rom_val[s[i]] > rom_val[s[i - 1]]:\n",
    "                int_val += rom_val[s[i]] - 2 * rom_val[s[i - 1]]\n",
    "            else:\n",
    "                int_val += rom_val[s[i]]\n",
    "        return int_val\n",
    "\n",
    "print(solution().roman_to_int('MMMCMLXXXVI'))\n",
    "print(solution().roman_to_int('MMMM'))\n",
    "print(solution().roman_to_int('C'))"
   ]
  },
  {
   "cell_type": "markdown",
   "metadata": {},
   "source": [
    "### Q29. Write the Python class to find the validity of the string of the parentheses, '(', ')', '{', '}', '[' and '] and the brackets must be closed in the correct order, example - \"()\" and \"()[]{}\" are valid but \"[)\", \"({[)]\" and \"{{{\" are invalid."
   ]
  },
  {
   "cell_type": "code",
   "execution_count": 43,
   "metadata": {},
   "outputs": [
    {
     "name": "stdout",
     "output_type": "stream",
     "text": [
      "True\n",
      "False\n",
      "True\n"
     ]
    }
   ],
   "source": [
    "class solution:\n",
    "   def is_valid_parenthese(self, str1):\n",
    "        stack, pchar = [], {\"(\":\")\", \"{\":\"}\", \"[\":\"]\"}\n",
    "       \n",
    "        for parenthese in str1:\n",
    "            if parenthese in pchar:\n",
    "                stack.append(parenthese)\n",
    "            elif len(stack) == 0 or pchar[stack.pop()] != parenthese:\n",
    "                return False\n",
    "        return len(stack) == 0\n",
    "\n",
    "print(solution().is_valid_parenthese(\"(){}[]\"))\n",
    "print(solution().is_valid_parenthese(\"()[{)}\"))\n",
    "print(solution().is_valid_parenthese(\"()\"))"
   ]
  },
  {
   "cell_type": "markdown",
   "metadata": {},
   "source": [
    "### Q30. Write the Python class to get all possible unique subsets from a set of distinct integers?"
   ]
  },
  {
   "cell_type": "code",
   "execution_count": 44,
   "metadata": {},
   "outputs": [
    {
     "name": "stdout",
     "output_type": "stream",
     "text": [
      "[[], [6], [5], [5, 6], [4], [4, 6], [4, 5], [4, 5, 6]]\n"
     ]
    }
   ],
   "source": [
    "class sub:  \n",
    "    def f1(self, s1):  \n",
    "        return self.f2([], sorted(s1))  \n",
    " \n",
    "    def f2(self, curr, s1):  \n",
    "        if s1:  \n",
    "            return self.f2(curr, s1[1:]) + self.f2(curr + [s1[0]], s1[1:])  \n",
    "        return [curr]  \n",
    "print(sub().f1([4,5,6]))"
   ]
  },
  {
   "cell_type": "markdown",
   "metadata": {},
   "source": [
    "### Q31. Write the Python class to find a pair of elements (indices of the two numbers) from a given array whose sum equals the specific target number?"
   ]
  },
  {
   "cell_type": "code",
   "execution_count": 45,
   "metadata": {},
   "outputs": [
    {
     "name": "stdout",
     "output_type": "stream",
     "text": [
      "index1=2, index2=3\n"
     ]
    }
   ],
   "source": [
    "class solution:\n",
    " def twoSum(self, nums, target):\n",
    "    lookup = {}\n",
    "    for i, num in enumerate(nums):\n",
    "         if target - num in lookup:\n",
    "             return (lookup[target - num], i )\n",
    "         lookup[num] = i\n",
    "print(\"index1=%d, index2=%d\" % solution().twoSum((10,20,10,40,50,60,70),50))"
   ]
  },
  {
   "cell_type": "markdown",
   "metadata": {},
   "source": [
    "### Q32. Write the Python class to find the three elements that sum to zero from the set of n real numbers?"
   ]
  },
  {
   "cell_type": "code",
   "execution_count": 46,
   "metadata": {},
   "outputs": [
    {
     "name": "stdout",
     "output_type": "stream",
     "text": [
      "[[-10, 2, 8], [-7, -3, 10]]\n"
     ]
    }
   ],
   "source": [
    "class solution:\n",
    " def threeSum(self, nums):\n",
    "        nums, result, i = sorted(nums), [], 0\n",
    "        while i < len(nums) - 2:\n",
    "            j, k = i + 1, len(nums) - 1\n",
    "            while j < k:\n",
    "                if nums[i] + nums[j] + nums[k] < 0:\n",
    "                    j += 1\n",
    "                elif nums[i] + nums[j] + nums[k] > 0:\n",
    "                    k -= 1\n",
    "                else:\n",
    "                    result.append([nums[i], nums[j], nums[k]])\n",
    "                    j, k = j + 1, k - 1\n",
    "                    while j < k and nums[j] == nums[j - 1]:\n",
    "                        j += 1\n",
    "                    while j < k and nums[k] == nums[k + 1]:\n",
    "                        k -= 1\n",
    "            i += 1\n",
    "            while i < len(nums) - 2 and nums[i] == nums[i - 1]:\n",
    "                i += 1\n",
    "        return result\n",
    "\n",
    "print(solution().threeSum([-25, -10, -7, -3, 2, 4, 8, 10]))"
   ]
  },
  {
   "cell_type": "markdown",
   "metadata": {},
   "source": [
    "### Q33. Write the Python class to implement pow(x, n)?"
   ]
  },
  {
   "cell_type": "code",
   "execution_count": 47,
   "metadata": {},
   "outputs": [
    {
     "name": "stdout",
     "output_type": "stream",
     "text": [
      "0.125\n",
      "243\n",
      "1\n"
     ]
    }
   ],
   "source": [
    "class solution:\n",
    "   def pow(self, x, n):\n",
    "        if x==0 or x==1 or n==1:\n",
    "            return x \n",
    "\n",
    "        if x==-1:\n",
    "            if n%2 ==0:\n",
    "                return 1\n",
    "            else:\n",
    "                return -1\n",
    "        if n==0:\n",
    "            return 1\n",
    "        if n<0:\n",
    "            return 1/self.pow(x,-n)\n",
    "        val = self.pow(x,n//2)\n",
    "        if n%2 ==0:\n",
    "            return val*val\n",
    "        return val*val*x\n",
    "\n",
    "print(solution().pow(2, -3))\n",
    "print(solution().pow(3, 5))\n",
    "print(solution().pow(100, 0))"
   ]
  },
  {
   "cell_type": "markdown",
   "metadata": {},
   "source": [
    "### Q34. Write the Python class which has two methods get_String and print_String. get_String accept the string from the user and print_String print the string in upper case."
   ]
  },
  {
   "cell_type": "code",
   "execution_count": 48,
   "metadata": {},
   "outputs": [
    {
     "name": "stdout",
     "output_type": "stream",
     "text": [
      "chaitanya\n",
      "CHAITANYA\n"
     ]
    }
   ],
   "source": [
    "class IOString():\n",
    "    def __init__(self):\n",
    "        self.str1 = \"\"\n",
    "\n",
    "    def get_String(self):\n",
    "        self.str1 = input()\n",
    "\n",
    "    def print_String(self):\n",
    "        print(self.str1.upper())\n",
    "\n",
    "str1 = IOString()\n",
    "str1.get_String()\n",
    "str1.print_String()"
   ]
  },
  {
   "cell_type": "markdown",
   "metadata": {},
   "source": [
    "### Q35. Write the Python class named Rectangle constructed by a length and width and the method which will compute the area of the rectangle?"
   ]
  },
  {
   "cell_type": "code",
   "execution_count": 49,
   "metadata": {},
   "outputs": [
    {
     "data": {
      "text/plain": [
       "200"
      ]
     },
     "execution_count": 49,
     "metadata": {},
     "output_type": "execute_result"
    }
   ],
   "source": [
    "class rectangle:\n",
    "    def __init__(self,l,w):\n",
    "        self.l = l\n",
    "        self.w = w\n",
    "    def area(self):\n",
    "        return self.l*self.w\n",
    "r = rectangle(10,20)\n",
    "r.area()"
   ]
  },
  {
   "cell_type": "markdown",
   "metadata": {},
   "source": [
    "### Q36. Write the Python class named Circle constructed by the radius and two methods which will compute the area and perimeter of the circle?"
   ]
  },
  {
   "cell_type": "code",
   "execution_count": 50,
   "metadata": {},
   "outputs": [
    {
     "name": "stdout",
     "output_type": "stream",
     "text": [
      "50.24\n",
      "25.12\n"
     ]
    }
   ],
   "source": [
    "class cir:\n",
    "    def __init__(self,r):\n",
    "        self.r = r\n",
    "    def are(self):\n",
    "        area = self.r**2*3.14\n",
    "        return area\n",
    "    def peri(self):\n",
    "        perim = 2*self.r*3.14\n",
    "        return perim\n",
    "c = cir(4)\n",
    "print(c.are())\n",
    "print(c.peri())"
   ]
  },
  {
   "cell_type": "markdown",
   "metadata": {},
   "source": [
    "### Q37. Write the Python program to get the class name of an instance in Python?"
   ]
  },
  {
   "cell_type": "code",
   "execution_count": 51,
   "metadata": {},
   "outputs": [
    {
     "name": "stdout",
     "output_type": "stream",
     "text": [
      "cycle\n"
     ]
    }
   ],
   "source": [
    "import itertools\n",
    "x = itertools.cycle('ABCD')\n",
    "print(type(x).__name__)"
   ]
  },
  {
   "cell_type": "markdown",
   "metadata": {},
   "source": [
    "### Q38. Write the Python program to count the number of students of individual class?"
   ]
  },
  {
   "cell_type": "code",
   "execution_count": 52,
   "metadata": {},
   "outputs": [
    {
     "name": "stdout",
     "output_type": "stream",
     "text": [
      "Counter({'VI': 3, 'V': 2, 'VII': 1})\n"
     ]
    }
   ],
   "source": [
    "from collections import Counter\n",
    "classes = (\n",
    "    ('V', 1),\n",
    "    ('VI', 1),\n",
    "    ('V', 2),\n",
    "    ('VI', 2),\n",
    "    ('VI', 3),\n",
    "    ('VII', 1),\n",
    ")\n",
    "students = Counter(i for i, j in classes)\n",
    "print(students)"
   ]
  },
  {
   "cell_type": "markdown",
   "metadata": {},
   "source": [
    "### Q39. Write the Python program to create an instance of an OrderedDict using the given dictionary and sort dictionary during the creation and print members of the dictionary in reverse order?"
   ]
  },
  {
   "cell_type": "code",
   "execution_count": 53,
   "metadata": {},
   "outputs": [
    {
     "name": "stdout",
     "output_type": "stream",
     "text": [
      "Afghanistan 93\n",
      "Albania 355\n",
      "Algeria 213\n",
      "Andorra 376\n",
      "Angola 244\n",
      "\n",
      "In reverse order:\n",
      "Angola 244\n",
      "Andorra 376\n",
      "Algeria 213\n",
      "Albania 355\n",
      "Afghanistan 93\n"
     ]
    }
   ],
   "source": [
    "from collections import OrderedDict\n",
    "dict = {'Afghanistan': 93, 'Albania': 355, 'Algeria': 213, 'Andorra': 376, 'Angola': 244}\n",
    "new_dict = OrderedDict(dict.items())\n",
    "for key in new_dict:\n",
    "    print (key, new_dict[key])\n",
    "\n",
    "print(\"\\nIn reverse order:\")\n",
    "for key in reversed(new_dict):\n",
    "    print (key, new_dict[key])"
   ]
  },
  {
   "cell_type": "markdown",
   "metadata": {},
   "source": [
    "### Q40. Write the Python program to compare two unordered lists (not sets)?"
   ]
  },
  {
   "cell_type": "code",
   "execution_count": 54,
   "metadata": {},
   "outputs": [
    {
     "name": "stdout",
     "output_type": "stream",
     "text": [
      "False\n"
     ]
    }
   ],
   "source": [
    "from collections import Counter\n",
    "def compare_lists(x, y):\n",
    "    return Counter(x) == Counter(y)\n",
    "n1 = [20, 10, 30, 10, 20, 30]\n",
    "n2 = [30, 20, 10, 30, 20, 50]\n",
    "print(compare_lists(n1, n2))"
   ]
  },
  {
   "cell_type": "markdown",
   "metadata": {},
   "source": [
    "### Q41. Write the Python program to get an array buffer information?"
   ]
  },
  {
   "cell_type": "code",
   "execution_count": 55,
   "metadata": {},
   "outputs": [
    {
     "name": "stdout",
     "output_type": "stream",
     "text": [
      "Array buffer start address in memory and number of elements.\n",
      "(2236760332656, 2)\n"
     ]
    }
   ],
   "source": [
    "from array import array\n",
    "a = array(\"I\", (12,25))\n",
    "print(\"Array buffer start address in memory and number of elements.\")\n",
    "print(a.buffer_info())"
   ]
  },
  {
   "cell_type": "markdown",
   "metadata": {},
   "source": [
    "### Q42. Write the Python program to convert an array to an array of machine values and return the bytes representation?"
   ]
  },
  {
   "cell_type": "code",
   "execution_count": 56,
   "metadata": {},
   "outputs": [
    {
     "name": "stdout",
     "output_type": "stream",
     "text": [
      "Original array:\n",
      "A1: array('i', [1, 2, 3, 4, 5, 6])\n",
      "Array of bytes: b'010000000200000003000000040000000500000006000000'\n"
     ]
    }
   ],
   "source": [
    "from array import array\n",
    "import binascii\n",
    "a = array('i', [1,2,3,4,5,6])\n",
    "print(\"Original array:\")\n",
    "print('A1:', a)\n",
    "bytes_array = a.tobytes()\n",
    "print('Array of bytes:', binascii.hexlify(bytes_array))"
   ]
  },
  {
   "cell_type": "markdown",
   "metadata": {},
   "source": [
    "### Q43. Write the Python program to read a string and interpreting the string as an array of machine values?"
   ]
  },
  {
   "cell_type": "code",
   "execution_count": 57,
   "metadata": {},
   "outputs": [
    {
     "name": "stdout",
     "output_type": "stream",
     "text": [
      "array1: array('i', [7, 8, 9, 10])\n",
      "Bytes: b'0700000008000000090000000a000000'\n",
      "array2: array('i', [7, 8, 9, 10])\n"
     ]
    }
   ],
   "source": [
    "from array import array\n",
    "import binascii\n",
    "array1 = array('i', [7, 8, 9, 10])\n",
    "print('array1:', array1)\n",
    "as_bytes = array1.tobytes()\n",
    "print('Bytes:', binascii.hexlify(as_bytes))\n",
    "array2 = array('i')\n",
    "array2.frombytes(as_bytes)\n",
    "print('array2:', array2)"
   ]
  },
  {
   "cell_type": "markdown",
   "metadata": {},
   "source": [
    "### Q44. Write the Python program to push three items into the heap and return the smallest item from the heap. Also, return and pop the smallest item from the heap?"
   ]
  },
  {
   "cell_type": "code",
   "execution_count": 58,
   "metadata": {},
   "outputs": [
    {
     "name": "stdout",
     "output_type": "stream",
     "text": [
      "Items in the heap:\n",
      "('V', 1)\n",
      "('V', 3)\n",
      "('V', 2)\n",
      "----------------------\n",
      "The smallest item in the heap:\n",
      "('V', 1)\n",
      "----------------------\n",
      "Pop the smallest item in the heap:\n"
     ]
    },
    {
     "data": {
      "text/plain": [
       "('V', 1)"
      ]
     },
     "execution_count": 58,
     "metadata": {},
     "output_type": "execute_result"
    },
    {
     "name": "stdout",
     "output_type": "stream",
     "text": [
      "('V', 2)\n",
      "('V', 3)\n"
     ]
    }
   ],
   "source": [
    "import heapq\n",
    "heap = []\n",
    "heapq.heappush(heap, ('V', 3))\n",
    "heapq.heappush(heap, ('V', 2))\n",
    "heapq.heappush(heap, ('V', 1))\n",
    "print(\"Items in the heap:\")\n",
    "for a in heap:\n",
    "    print(a)\n",
    "print(\"----------------------\")\n",
    "print(\"The smallest item in the heap:\")\n",
    "print(heap[0])\n",
    "print(\"----------------------\")\n",
    "print(\"Pop the smallest item in the heap:\")\n",
    "heapq.heappop(heap)\n",
    "for a in heap:\n",
    "    print(a)"
   ]
  },
  {
   "cell_type": "markdown",
   "metadata": {},
   "source": [
    "### Q45. Write the Python program to locate the left insertion point for a specified value in sorted order?"
   ]
  },
  {
   "cell_type": "code",
   "execution_count": 59,
   "metadata": {},
   "outputs": [
    {
     "name": "stdout",
     "output_type": "stream",
     "text": [
      "4\n",
      "2\n"
     ]
    }
   ],
   "source": [
    "import bisect\n",
    "def index(a, x):\n",
    "    i = bisect.bisect_left(a, x)\n",
    "    return i\n",
    "    \n",
    "a = [1,2,4,5]\n",
    "print(index(a, 6))\n",
    "print(index(a, 3))"
   ]
  },
  {
   "cell_type": "markdown",
   "metadata": {},
   "source": [
    "### Q46. Write the Python program to create the FIFO queue?"
   ]
  },
  {
   "cell_type": "code",
   "execution_count": 65,
   "metadata": {},
   "outputs": [
    {
     "name": "stdout",
     "output_type": "stream",
     "text": [
      "0 1 2 3 \n",
      "\n"
     ]
    }
   ],
   "source": [
    "import queue\n",
    "q = queue.Queue()\n",
    "#insert items at the end of the queue \n",
    "for x in range(4):\n",
    "    q.put(x)\n",
    "#remove items from the head of the queue \n",
    "while not q.empty():\n",
    "    print(q.get(), end=\" \")\n",
    "print(\"\\n\")"
   ]
  },
  {
   "cell_type": "markdown",
   "metadata": {},
   "source": [
    "### Q47. Write the Python program to calculate the harmonic sum of n-1."
   ]
  },
  {
   "cell_type": "code",
   "execution_count": 62,
   "metadata": {},
   "outputs": [
    {
     "name": "stdout",
     "output_type": "stream",
     "text": [
      "2.5928571428571425\n",
      "2.083333333333333\n"
     ]
    }
   ],
   "source": [
    "def harmonic_sum(n):\n",
    "  if n < 2:\n",
    "    return 1\n",
    "  else:\n",
    "    return 1 / n + (harmonic_sum(n - 1))\n",
    "    \n",
    "print(harmonic_sum(7))\n",
    "print(harmonic_sum(4))"
   ]
  },
  {
   "cell_type": "markdown",
   "metadata": {},
   "source": [
    "### Q48. Write the NumPy program to create a 2d array with 6 on the border and 0 inside?"
   ]
  },
  {
   "cell_type": "code",
   "execution_count": 66,
   "metadata": {},
   "outputs": [
    {
     "name": "stdout",
     "output_type": "stream",
     "text": [
      "[[6 6 6 6 6]\n",
      " [6 0 0 0 6]\n",
      " [6 0 0 0 6]\n",
      " [6 0 0 0 6]\n",
      " [6 6 6 6 6]]\n"
     ]
    }
   ],
   "source": [
    "import numpy as np\n",
    "a = np.full((5,5),6)\n",
    "a[1:-1,1:-1] = 0\n",
    "print(a)"
   ]
  },
  {
   "cell_type": "markdown",
   "metadata": {},
   "source": [
    "### Q49. Write the NumPy program to create a 8x8 matrix and fill it with the checkerboard pattern?"
   ]
  },
  {
   "cell_type": "code",
   "execution_count": 67,
   "metadata": {},
   "outputs": [
    {
     "name": "stdout",
     "output_type": "stream",
     "text": [
      "[[3 9 3 9 3 9 3 9]\n",
      " [9 3 9 3 9 3 9 3]\n",
      " [3 9 3 9 3 9 3 9]\n",
      " [9 3 9 3 9 3 9 3]\n",
      " [3 9 3 9 3 9 3 9]\n",
      " [9 3 9 3 9 3 9 3]\n",
      " [3 9 3 9 3 9 3 9]\n",
      " [9 3 9 3 9 3 9 3]]\n"
     ]
    }
   ],
   "source": [
    "b = np.full((8,8),3)\n",
    "#print(b)\n",
    "b[1::2,::2] = 9\n",
    "b[::2,1::2]=9\n",
    "print(b)"
   ]
  },
  {
   "cell_type": "markdown",
   "metadata": {},
   "source": [
    "### Q50. Write the NumPy program to create an empty and a full array."
   ]
  },
  {
   "cell_type": "code",
   "execution_count": 68,
   "metadata": {},
   "outputs": [
    {
     "name": "stdout",
     "output_type": "stream",
     "text": [
      "[[5.e-324 5.e-324]\n",
      " [0.e+000 0.e+000]]\n",
      "[[4 4]\n",
      " [4 4]]\n"
     ]
    }
   ],
   "source": [
    "c = np.empty((2,2))\n",
    "d = np.full((2,2),4)\n",
    "print(c)\n",
    "print(d)"
   ]
  },
  {
   "cell_type": "markdown",
   "metadata": {},
   "source": [
    "### Q51. Write the NumPy program to convert the values of Centigrade degrees into the Fahrenheit degrees and the centigrade values are stored in the NumPy array."
   ]
  },
  {
   "cell_type": "code",
   "execution_count": 69,
   "metadata": {},
   "outputs": [
    {
     "name": "stdout",
     "output_type": "stream",
     "text": [
      "Values in Fahrenheit degrees:\n",
      "[ 0.   12.   45.21 34.   99.91]\n",
      "Values in  Centigrade degrees:\n",
      "[-17.77777778 -11.11111111   7.33888889   1.11111111  37.72777778]\n"
     ]
    }
   ],
   "source": [
    "fvalues = [0, 12, 45.21, 34, 99.91]\n",
    "F = np.array(fvalues)\n",
    "print(\"Values in Fahrenheit degrees:\")\n",
    "print(F)\n",
    "print(\"Values in  Centigrade degrees:\") \n",
    "print(5*F/9 - 5*32/9)"
   ]
  },
  {
   "cell_type": "markdown",
   "metadata": {},
   "source": [
    "### Q52. Write the NumPy program to find the real and imaginary parts of an array of complex numbers?"
   ]
  },
  {
   "cell_type": "code",
   "execution_count": 70,
   "metadata": {},
   "outputs": [
    {
     "name": "stdout",
     "output_type": "stream",
     "text": [
      "Original array:x  [1.+0.j]\n",
      "Original array:y  [0.70710678+0.70710678j]\n",
      "Real part of the array:\n",
      "[1.]\n",
      "[0.70710678]\n",
      "Imaginary part of the array:\n",
      "[0.]\n",
      "[0.70710678]\n"
     ]
    }
   ],
   "source": [
    "x = np.sqrt([1+0j])\n",
    "y = np.sqrt([0+1j])\n",
    "print(\"Original array:x \",x)\n",
    "print(\"Original array:y \",y)\n",
    "print(\"Real part of the array:\")\n",
    "print(x.real)\n",
    "print(y.real)\n",
    "print(\"Imaginary part of the array:\")\n",
    "print(x.imag)\n",
    "print(y.imag)"
   ]
  },
  {
   "cell_type": "markdown",
   "metadata": {},
   "source": [
    "### Q53. Write the NumPy program to test whether each element of a 1 -D array is also present in the second array?"
   ]
  },
  {
   "cell_type": "code",
   "execution_count": 71,
   "metadata": {},
   "outputs": [
    {
     "name": "stdout",
     "output_type": "stream",
     "text": [
      "Array1:  [ 0 10 20 40 60]\n",
      "Array2:  [0, 40]\n",
      "Compare each element of array1 and array2\n",
      "[ True False False  True False]\n"
     ]
    }
   ],
   "source": [
    "array1 = np.array([0, 10, 20, 40, 60])\n",
    "print(\"Array1: \",array1)\n",
    "array2 = [0, 40]\n",
    "print(\"Array2: \",array2)\n",
    "print(\"Compare each element of array1 and array2\")\n",
    "print(np.in1d(array1, array2))"
   ]
  },
  {
   "cell_type": "markdown",
   "metadata": {},
   "source": [
    "### Q54. Write the NumPy program to find common values between two arrays?"
   ]
  },
  {
   "cell_type": "code",
   "execution_count": 72,
   "metadata": {},
   "outputs": [
    {
     "name": "stdout",
     "output_type": "stream",
     "text": [
      "Array1:  [ 0 10 20 40 60]\n",
      "Array2:  [10, 30, 40]\n",
      "Common values between two arrays:\n",
      "[10 40]\n"
     ]
    }
   ],
   "source": [
    "array1 = np.array([0, 10, 20, 40, 60])\n",
    "print(\"Array1: \",array1)\n",
    "array2 = [10, 30, 40]\n",
    "print(\"Array2: \",array2)\n",
    "print(\"Common values between two arrays:\")\n",
    "print(np.intersect1d(array1, array2))"
   ]
  },
  {
   "cell_type": "markdown",
   "metadata": {},
   "source": [
    "### Q55. Write the NumPy program to get the unique elements of an array?"
   ]
  },
  {
   "cell_type": "code",
   "execution_count": 73,
   "metadata": {},
   "outputs": [
    {
     "name": "stdout",
     "output_type": "stream",
     "text": [
      "Original array:\n",
      "[10 10 20 20 30 30]\n",
      "Unique elements of the above array:\n",
      "[10 20 30]\n"
     ]
    }
   ],
   "source": [
    "x = np.array([10, 10, 20, 20, 30, 30])\n",
    "print(\"Original array:\")\n",
    "print(x)\n",
    "print(\"Unique elements of the above array:\")\n",
    "print(np.unique(x))"
   ]
  },
  {
   "cell_type": "markdown",
   "metadata": {},
   "source": [
    "### Q56. Write the NumPy program to find the set exclusive-or of two arrays. Set exclusive-or will return the sorted, unique values that are in only one (not both) of the input arrays?"
   ]
  },
  {
   "cell_type": "code",
   "execution_count": 74,
   "metadata": {},
   "outputs": [
    {
     "name": "stdout",
     "output_type": "stream",
     "text": [
      "Array1:  [ 0 10 20 40 60 80]\n",
      "Array2:  [10, 30, 40, 50, 70]\n",
      "Unique values in array1 that are not in array2:\n",
      "[ 0 20 30 50 60 70 80]\n"
     ]
    }
   ],
   "source": [
    "import numpy as np\n",
    "array1 = np.array([0, 10, 20, 40, 60, 80])\n",
    "print(\"Array1: \",array1)\n",
    "array2 = [10, 30, 40, 50, 70]\n",
    "print(\"Array2: \",array2)\n",
    "print(\"Unique values in array1 that are not in array2:\")\n",
    "print(np.setxor1d(array1, array2))"
   ]
  },
  {
   "cell_type": "markdown",
   "metadata": {},
   "source": [
    "### Q57. Write the NumPy program to test if all elements in an array evaluate to True ?"
   ]
  },
  {
   "cell_type": "code",
   "execution_count": 75,
   "metadata": {},
   "outputs": [
    {
     "name": "stdout",
     "output_type": "stream",
     "text": [
      "False\n",
      "True\n",
      "False\n",
      "True\n"
     ]
    }
   ],
   "source": [
    "print(np.all([[False,False],[False,False]]))\n",
    "print(np.all([[True,True],[True,True]]))\n",
    "print(np.all([10, 20, 0, -50]))\n",
    "print(np.all([10, 20, -50]))"
   ]
  },
  {
   "cell_type": "markdown",
   "metadata": {},
   "source": [
    "### Q58 Write the NumPy program to test whether any array element along the given axis evaluates to True?"
   ]
  },
  {
   "cell_type": "code",
   "execution_count": 76,
   "metadata": {},
   "outputs": [
    {
     "name": "stdout",
     "output_type": "stream",
     "text": [
      "False\n",
      "True\n",
      "True\n",
      "True\n"
     ]
    }
   ],
   "source": [
    "print(np.any([[False,False],[False,False]]))\n",
    "print(np.any([[True,True],[True,True]]))\n",
    "print(np.any([10, 20, 0, -50]))\n",
    "print(np.any([10, 20, -50]))"
   ]
  },
  {
   "cell_type": "markdown",
   "metadata": {},
   "source": [
    "### Q59. Write the NumPy program to construct an array by repeating?"
   ]
  },
  {
   "cell_type": "code",
   "execution_count": 77,
   "metadata": {},
   "outputs": [
    {
     "name": "stdout",
     "output_type": "stream",
     "text": [
      "[1 2 3 4 1 2 3 4]\n",
      "[1 2 3 4 1 2 3 4 1 2 3 4]\n"
     ]
    }
   ],
   "source": [
    "a = [1,2,3,4]\n",
    "print(np.tile(a,2))\n",
    "print(np.tile(a,3))"
   ]
  },
  {
   "cell_type": "markdown",
   "metadata": {},
   "source": [
    "### Q60. Write the NumPy program to find the indices of the maximum and minimum values with the given axis of an array?"
   ]
  },
  {
   "cell_type": "code",
   "execution_count": 78,
   "metadata": {},
   "outputs": [
    {
     "name": "stdout",
     "output_type": "stream",
     "text": [
      "5\n",
      "0\n"
     ]
    }
   ],
   "source": [
    "a = np.array([1,2,3,4,5,6])\n",
    "print(np.argmax(a))\n",
    "print(np.argmin(a))"
   ]
  },
  {
   "cell_type": "markdown",
   "metadata": {},
   "source": [
    "### Q61. Write the NumPy program compare two arrays using numpy?"
   ]
  },
  {
   "cell_type": "code",
   "execution_count": 79,
   "metadata": {},
   "outputs": [
    {
     "name": "stdout",
     "output_type": "stream",
     "text": [
      "Array a:  [1 2]\n",
      "Array b:  [4 5]\n",
      "a > b\n",
      "[False False]\n",
      "a >= b\n",
      "[False False]\n",
      "a < b\n",
      "[ True  True]\n",
      "a <= b\n",
      "[ True  True]\n"
     ]
    }
   ],
   "source": [
    "a = np.array([1, 2])\n",
    "b = np.array([4, 5])\n",
    "print(\"Array a: \",a)\n",
    "print(\"Array b: \",b)\n",
    "print(\"a > b\")\n",
    "print(np.greater(a, b))\n",
    "print(\"a >= b\")\n",
    "print(np.greater_equal(a, b))\n",
    "print(\"a < b\")\n",
    "print(np.less(a, b))\n",
    "print(\"a <= b\")\n",
    "print(np.less_equal(a, b))"
   ]
  },
  {
   "cell_type": "markdown",
   "metadata": {},
   "source": [
    "### Q62. Write the NumPy program to sort an along the first, last axis of an array?"
   ]
  },
  {
   "cell_type": "code",
   "execution_count": 80,
   "metadata": {},
   "outputs": [
    {
     "name": "stdout",
     "output_type": "stream",
     "text": [
      "[[4 6]\n",
      " [1 2]]\n",
      "[[2 1]\n",
      " [4 6]]\n"
     ]
    }
   ],
   "source": [
    "a = np.array([[4, 6],[2, 1]])\n",
    "print(np.sort(a,axis = 1))\n",
    "print(np.sort(a,axis = 0))"
   ]
  },
  {
   "cell_type": "markdown",
   "metadata": {},
   "source": [
    "### Q63. Write the NumPy program to sort pairs of first name and last name return their indices (first by last name, then by first name)"
   ]
  },
  {
   "cell_type": "code",
   "execution_count": 81,
   "metadata": {},
   "outputs": [
    {
     "name": "stdout",
     "output_type": "stream",
     "text": [
      "['Betsey' 'Genesis' 'Lanell' 'Margery' 'Shelley']\n",
      "['Battle' 'Brien' 'Plotner' 'Stahl' 'Woolum']\n",
      "[1 3 2 4 0]\n"
     ]
    }
   ],
   "source": [
    "first_names =    ('Margery', 'Betsey', 'Shelley', 'Lanell', 'Genesis')\n",
    "print(np.sort(first_names))\n",
    "last_names = ('Woolum', 'Battle', 'Plotner', 'Brien', 'Stahl')\n",
    "print(np.sort(last_names))\n",
    "x = np.lexsort((first_names,last_names))\n",
    "print(x)"
   ]
  },
  {
   "cell_type": "markdown",
   "metadata": {},
   "source": [
    "### Q64. Write the NumPy program to get the values and indices of the elements that are bigger than 10 in the given array?"
   ]
  },
  {
   "cell_type": "code",
   "execution_count": 82,
   "metadata": {},
   "outputs": [
    {
     "name": "stdout",
     "output_type": "stream",
     "text": [
      "Original array: \n",
      "[[ 0 10 20]\n",
      " [20 30 40]]\n",
      "Values bigger than 10 = [20 20 30 40]\n",
      "Their indices are  (array([0, 1, 1, 1], dtype=int64), array([2, 0, 1, 2], dtype=int64))\n"
     ]
    }
   ],
   "source": [
    "x = np.array([[0, 10, 20], [20, 30, 40]])\n",
    "print(\"Original array: \")\n",
    "print(x)\n",
    "print(\"Values bigger than 10 =\", x[x>10])\n",
    "print(\"Their indices are \", np.nonzero(x > 10))"
   ]
  },
  {
   "cell_type": "markdown",
   "metadata": {},
   "source": [
    "### Q65. Write the NumPy program to find the memory size of a NumPy array?"
   ]
  },
  {
   "cell_type": "code",
   "execution_count": 83,
   "metadata": {},
   "outputs": [
    {
     "name": "stdout",
     "output_type": "stream",
     "text": [
      "128 bytes\n"
     ]
    }
   ],
   "source": [
    "import numpy as np\n",
    "n = np.zeros((4,4))\n",
    "print(\"%d bytes\" % (n.size * n.itemsize))"
   ]
  },
  {
   "cell_type": "markdown",
   "metadata": {},
   "source": [
    "### Q66. Write the NumPy program to create an array of ones and an array of zeros?"
   ]
  },
  {
   "cell_type": "code",
   "execution_count": 84,
   "metadata": {},
   "outputs": [
    {
     "name": "stdout",
     "output_type": "stream",
     "text": [
      "Create an array of zeros\n",
      "Default type is float\n",
      "[[0. 0.]]\n",
      "Type changes to int\n",
      "[[0 0]]\n",
      "Create an array of ones\n",
      "Default type is float\n",
      "[[1. 1.]]\n",
      "Type changes to int\n",
      "[[1 1]]\n"
     ]
    }
   ],
   "source": [
    "print(\"Create an array of zeros\")\n",
    "x = np.zeros((1,2))\n",
    "print(\"Default type is float\")\n",
    "print(x)\n",
    "print(\"Type changes to int\")\n",
    "x = np.zeros((1,2), dtype = np.int)\n",
    "print(x)\n",
    "print(\"Create an array of ones\")\n",
    "y= np.ones((1,2)) \n",
    "print(\"Default type is float\")\n",
    "print(y)\n",
    "print(\"Type changes to int\")\n",
    "y = np.ones((1,2), dtype = np.int)\n",
    "print(y)"
   ]
  },
  {
   "cell_type": "markdown",
   "metadata": {},
   "source": [
    "### Q67. Write the NumPy program to change the dimension of an array?"
   ]
  },
  {
   "cell_type": "code",
   "execution_count": 85,
   "metadata": {},
   "outputs": [
    {
     "name": "stdout",
     "output_type": "stream",
     "text": [
      "6 rows and 0 columns\n",
      "(6,)\n",
      "(3, 3) -> 3 rows and 3 columns \n",
      "[[1 2 3]\n",
      " [4 5 6]\n",
      " [7 8 9]]\n",
      "Change array shape to (3, 3) -> 3 rows and 3 columns \n",
      "[[1 2 3]\n",
      " [4 5 6]\n",
      " [7 8 9]]\n"
     ]
    }
   ],
   "source": [
    "import numpy as np\n",
    "x = np.array([1, 2, 3, 4, 5, 6])\n",
    "print(\"6 rows and 0 columns\")\n",
    "print(x.shape)\n",
    "\n",
    "y = np.array([[1, 2, 3],[4, 5, 6],[7,8,9]])\n",
    "print(\"(3, 3) -> 3 rows and 3 columns \")\n",
    "print(y)\n",
    "\n",
    "x = np.array([1,2,3,4,5,6,7,8,9])\n",
    "print(\"Change array shape to (3, 3) -> 3 rows and 3 columns \")\n",
    "x.shape = (3, 3)\n",
    "print(x)"
   ]
  },
  {
   "cell_type": "markdown",
   "metadata": {},
   "source": [
    "### Q68. Write the NumPy program to create a new shape to an array without changing its data ?"
   ]
  },
  {
   "cell_type": "code",
   "execution_count": 86,
   "metadata": {},
   "outputs": [
    {
     "name": "stdout",
     "output_type": "stream",
     "text": [
      "Reshape 3x2:\n",
      "[[1 2]\n",
      " [3 4]\n",
      " [5 6]]\n",
      "Reshape 2x3:\n",
      "[[1 2 3]\n",
      " [4 5 6]]\n"
     ]
    }
   ],
   "source": [
    "import numpy as np\n",
    "x = np.array([1, 2, 3, 4, 5, 6])\n",
    "y = np.reshape(x,(3,2))\n",
    "print(\"Reshape 3x2:\")\n",
    "print(y)\n",
    "z = np.reshape(x,(2,3))\n",
    "print(\"Reshape 2x3:\")\n",
    "print(z)"
   ]
  },
  {
   "cell_type": "markdown",
   "metadata": {},
   "source": [
    "### Q69. Write the NumPy program to create a new array of 3*5, filled with 2?"
   ]
  },
  {
   "cell_type": "code",
   "execution_count": 87,
   "metadata": {},
   "outputs": [
    {
     "name": "stdout",
     "output_type": "stream",
     "text": [
      "[[2 2 2 2 2]\n",
      " [2 2 2 2 2]\n",
      " [2 2 2 2 2]]\n",
      "[[2 2 2 2 2]\n",
      " [2 2 2 2 2]\n",
      " [2 2 2 2 2]]\n"
     ]
    }
   ],
   "source": [
    "print(np.full((3,5),2))\n",
    "print(np.ones([3,5],dtype = np.int)*2)"
   ]
  },
  {
   "cell_type": "markdown",
   "metadata": {},
   "source": [
    "### Q70. Write the NumPy program to create a 3-D array with ones on a diagonal and zeros elsewhere?"
   ]
  },
  {
   "cell_type": "code",
   "execution_count": 88,
   "metadata": {},
   "outputs": [
    {
     "name": "stdout",
     "output_type": "stream",
     "text": [
      "[[1. 0. 0.]\n",
      " [0. 1. 0.]\n",
      " [0. 0. 1.]]\n"
     ]
    }
   ],
   "source": [
    "print(np.eye(3))"
   ]
  },
  {
   "cell_type": "markdown",
   "metadata": {},
   "source": [
    "### Q71 . Write the NumPy program to split an array of 14 elements into the 3 arrays and each of which has 2, 4, and 8 elements in original order?"
   ]
  },
  {
   "cell_type": "code",
   "execution_count": 89,
   "metadata": {},
   "outputs": [
    {
     "name": "stdout",
     "output_type": "stream",
     "text": [
      "Original array: [ 1  2  3  4  5  6  7  8  9 10 11 12 13 14]\n",
      "After splitting:\n",
      "[array([1, 2]), array([3, 4, 5, 6]), array([ 7,  8,  9, 10, 11, 12, 13, 14])]\n"
     ]
    }
   ],
   "source": [
    "x = np.arange(1, 15)\n",
    "print(\"Original array:\",x)\n",
    "print(\"After splitting:\")\n",
    "print(np.split(x, [2, 6]))"
   ]
  },
  {
   "cell_type": "markdown",
   "metadata": {},
   "source": [
    "### Q72. Write the NumPy program to split of an array of shape 4x4 it into two arrays along the second axis ?"
   ]
  },
  {
   "cell_type": "code",
   "execution_count": 90,
   "metadata": {},
   "outputs": [
    {
     "name": "stdout",
     "output_type": "stream",
     "text": [
      "Original array: [[ 0  1  2  3]\n",
      " [ 4  5  6  7]\n",
      " [ 8  9 10 11]\n",
      " [12 13 14 15]]\n",
      "After splitting horizontally:\n",
      "[array([[ 0,  1],\n",
      "       [ 4,  5],\n",
      "       [ 8,  9],\n",
      "       [12, 13]]), array([[ 2,  3],\n",
      "       [ 6,  7],\n",
      "       [10, 11],\n",
      "       [14, 15]])]\n"
     ]
    }
   ],
   "source": [
    "x = np.arange(16).reshape((4, 4))\n",
    "print(\"Original array:\",x)\n",
    "print(\"After splitting horizontally:\")\n",
    "print(np.hsplit(x, 2))"
   ]
  },
  {
   "cell_type": "markdown",
   "metadata": {},
   "source": [
    "### Q73. Write the NumPy program to create a 5x5 matrix with row values ranging from 0 to 4?"
   ]
  },
  {
   "cell_type": "code",
   "execution_count": 91,
   "metadata": {},
   "outputs": [
    {
     "name": "stdout",
     "output_type": "stream",
     "text": [
      "Original array:\n",
      "[[0. 0. 0. 0. 0.]\n",
      " [0. 0. 0. 0. 0.]\n",
      " [0. 0. 0. 0. 0.]\n",
      " [0. 0. 0. 0. 0.]\n",
      " [0. 0. 0. 0. 0.]]\n",
      "Row values ranging from 0 to 4.\n",
      "[[0. 1. 2. 3. 4.]\n",
      " [0. 1. 2. 3. 4.]\n",
      " [0. 1. 2. 3. 4.]\n",
      " [0. 1. 2. 3. 4.]\n",
      " [0. 1. 2. 3. 4.]]\n"
     ]
    }
   ],
   "source": [
    "x = np.zeros((5,5))\n",
    "print(\"Original array:\")\n",
    "print(x)\n",
    "print(\"Row values ranging from 0 to 4.\")\n",
    "x += np.arange(5)\n",
    "print(x)"
   ]
  },
  {
   "cell_type": "markdown",
   "metadata": {},
   "source": [
    "### Q74. Write the NumPy program to create an array of zeros and three column types (integer, float, character)?"
   ]
  },
  {
   "cell_type": "code",
   "execution_count": 92,
   "metadata": {},
   "outputs": [
    {
     "name": "stdout",
     "output_type": "stream",
     "text": [
      "[(1, 2., b'Albert Einstein') (2, 2., b'Edmond Halley')\n",
      " (3, 3., b'Gertrude B. Elion')]\n"
     ]
    }
   ],
   "source": [
    "x = np.zeros((3,), dtype=('i4,f4,a40'))\n",
    "new_data = [(1, 2., \"Albert Einstein\"), (2, 2., \"Edmond Halley\"), (3, 3., \"Gertrude B. Elion\")]\n",
    "x[:] = new_data\n",
    "print(x)"
   ]
  },
  {
   "cell_type": "markdown",
   "metadata": {},
   "source": [
    "### Q75. Write the NumPy program to remove the negative values in the numpy array with 0?"
   ]
  },
  {
   "cell_type": "code",
   "execution_count": 93,
   "metadata": {},
   "outputs": [
    {
     "name": "stdout",
     "output_type": "stream",
     "text": [
      "[0 0 0 2 3 4 5 0]\n"
     ]
    }
   ],
   "source": [
    "x = np.array([-1, -4, 0, 2, 3, 4, 5, -6])\n",
    "x[x<0] = 0\n",
    "print(x)"
   ]
  },
  {
   "cell_type": "markdown",
   "metadata": {},
   "source": [
    "### Q76. Write the NumPy program to compute the histogram of a set of data?"
   ]
  },
  {
   "cell_type": "code",
   "execution_count": 94,
   "metadata": {},
   "outputs": [
    {
     "data": {
      "text/plain": [
       "(array([0., 2., 1., 0.]), array([0, 1, 2, 3, 4]), <a list of 4 Patch objects>)"
      ]
     },
     "execution_count": 94,
     "metadata": {},
     "output_type": "execute_result"
    },
    {
     "data": {
      "image/png": "[encoded data removed]",
      "text/plain": [
       "<Figure size 432x288 with 1 Axes>"
      ]
     },
     "metadata": {
      "needs_background": "light"
     },
     "output_type": "display_data"
    }
   ],
   "source": [
    "import matplotlib.pyplot as plt\n",
    "%matplotlib inline\n",
    "plt.hist([1, 2, 1], bins=[0, 1, 2, 3, 4])"
   ]
  },
  {
   "cell_type": "markdown",
   "metadata": {},
   "source": [
    "### Q77. Write the NumPy program to compute the line graph of a set of data?"
   ]
  },
  {
   "cell_type": "code",
   "execution_count": 95,
   "metadata": {},
   "outputs": [
    {
     "data": {
      "text/plain": [
       "[<matplotlib.lines.Line2D at 0x208cbc21ef0>]"
      ]
     },
     "execution_count": 95,
     "metadata": {},
     "output_type": "execute_result"
    },
    {
     "name": "stderr",
     "output_type": "stream",
     "text": [
      "C:\\Users\\Chaitanya\\Anaconda3\\lib\\site-packages\\ipykernel_launcher.py:6: UserWarning: Matplotlib is currently using module://ipykernel.pylab.backend_inline, which is a non-GUI backend, so cannot show the figure.\n",
      "  \n"
     ]
    },
    {
     "data": {
      "image/png": "[encoded data removed]",
      "text/plain": [
       "<Figure size 432x288 with 1 Axes>"
      ]
     },
     "metadata": {
      "needs_background": "light"
     },
     "output_type": "display_data"
    }
   ],
   "source": [
    "import numpy as np\n",
    "arr = np.random.randint(1, 50, 10)\n",
    "y, x = np.histogram(arr, bins=np.arange(51))\n",
    "fig, ax = plt.subplots()\n",
    "ax.plot(x[:-1], y)\n",
    "fig.show()"
   ]
  },
  {
   "cell_type": "markdown",
   "metadata": {},
   "source": [
    "### Q78. Write the NumPy program to extracts all the elements from second row from given (4x4) array?"
   ]
  },
  {
   "cell_type": "code",
   "execution_count": 96,
   "metadata": {},
   "outputs": [
    {
     "data": {
      "text/plain": [
       "array([[ 0,  1,  2,  3],\n",
       "       [ 4,  5,  6,  7],\n",
       "       [ 8,  9, 10, 11],\n",
       "       [12, 13, 14, 15]])"
      ]
     },
     "execution_count": 96,
     "metadata": {},
     "output_type": "execute_result"
    },
    {
     "name": "stdout",
     "output_type": "stream",
     "text": [
      "[4 5 6 7]\n"
     ]
    }
   ],
   "source": [
    "d = np.arange(0,16).reshape((4, 4))\n",
    "d\n",
    "print(d[1,:])"
   ]
  },
  {
   "cell_type": "markdown",
   "metadata": {},
   "source": [
    "### Q79. Write the NumPy program to extract first element of the second row and fourth element of fourth row from a given (4x4) array?"
   ]
  },
  {
   "cell_type": "code",
   "execution_count": 97,
   "metadata": {},
   "outputs": [
    {
     "data": {
      "text/plain": [
       "array([[ 0,  1,  2,  3],\n",
       "       [ 4,  5,  6,  7],\n",
       "       [ 8,  9, 10, 11],\n",
       "       [12, 13, 14, 15]])"
      ]
     },
     "execution_count": 97,
     "metadata": {},
     "output_type": "execute_result"
    },
    {
     "name": "stdout",
     "output_type": "stream",
     "text": [
      "[4, 15]\n"
     ]
    }
   ],
   "source": [
    "d = np.arange(0,16).reshape((4, 4))\n",
    "d\n",
    "print([d[1,0],d[3,3]])"
   ]
  },
  {
   "cell_type": "markdown",
   "metadata": {},
   "source": [
    "### Q80. Write the NumPy program to add two arrays A and B of sizes (3,3) and (,3)?"
   ]
  },
  {
   "cell_type": "code",
   "execution_count": 98,
   "metadata": {},
   "outputs": [
    {
     "name": "stdout",
     "output_type": "stream",
     "text": [
      "Original array:\n",
      "Array-1\n",
      "[[1. 1. 1.]\n",
      " [1. 1. 1.]\n",
      " [1. 1. 1.]]\n",
      "Array-2\n",
      "[0 1 2]\n",
      "A + B:\n",
      "[[1. 2. 3.]\n",
      " [1. 2. 3.]\n",
      " [1. 2. 3.]]\n"
     ]
    }
   ],
   "source": [
    "A = np.ones((3,3))\n",
    "B = np.arange(3)\n",
    "print(\"Original array:\")\n",
    "print(\"Array-1\")\n",
    "print(A)\n",
    "print(\"Array-2\")\n",
    "print(B)\n",
    "print(\"A + B:\")\n",
    "new_array = A + B\n",
    "print(new_array)"
   ]
  },
  {
   "cell_type": "markdown",
   "metadata": {},
   "source": [
    "### Q81. Write the NumPy program to copy data from a given array to another array?"
   ]
  },
  {
   "cell_type": "code",
   "execution_count": 99,
   "metadata": {},
   "outputs": [
    {
     "name": "stdout",
     "output_type": "stream",
     "text": [
      "[24 27 30 29 18 14]\n"
     ]
    }
   ],
   "source": [
    "x = np.array([24, 27, 30, 29, 18, 14])\n",
    "y = np.empty_like(x)\n",
    "y[:] = x\n",
    "print(y)"
   ]
  },
  {
   "cell_type": "markdown",
   "metadata": {},
   "source": [
    "### Q82. Write the NumPy program to calculate the sum of all columns of the 2D numpy array?"
   ]
  },
  {
   "cell_type": "code",
   "execution_count": 100,
   "metadata": {},
   "outputs": [
    {
     "name": "stdout",
     "output_type": "stream",
     "text": [
      "Original array:\n",
      "[[ 0  1  2  3  4  5  6  7  8]\n",
      " [ 9 10 11 12 13 14 15 16 17]\n",
      " [18 19 20 21 22 23 24 25 26]\n",
      " [27 28 29 30 31 32 33 34 35]]\n",
      "\n",
      "Sum of all columns:\n",
      "[54 58 62 66 70 74 78 82 86]\n"
     ]
    }
   ],
   "source": [
    "import numpy as np\n",
    "num = np.arange(36)\n",
    "arr1 = np.reshape(num, [4, 9])\n",
    "print(\"Original array:\")\n",
    "print(arr1)\n",
    "result  = arr1.sum(axis=0)\n",
    "print(\"\\nSum of all columns:\")\n",
    "print(result)"
   ]
  },
  {
   "cell_type": "markdown",
   "metadata": {},
   "source": [
    "### Q83. Write the NumPy program to calculate averages without NaNs along the given array?"
   ]
  },
  {
   "cell_type": "code",
   "execution_count": 101,
   "metadata": {},
   "outputs": [
    {
     "name": "stdout",
     "output_type": "stream",
     "text": [
      "Original array:\n",
      "[[10. 20. 30.]\n",
      " [40. 50. nan]\n",
      " [nan  6. nan]\n",
      " [nan nan nan]]\n"
     ]
    },
    {
     "data": {
      "text/plain": [
       "masked_array(\n",
       "  data=[[10.0, 20.0, 30.0],\n",
       "        [40.0, 50.0, --],\n",
       "        [--, 6.0, --],\n",
       "        [--, --, --]],\n",
       "  mask=[[False, False, False],\n",
       "        [False, False,  True],\n",
       "        [ True, False,  True],\n",
       "        [ True,  True,  True]],\n",
       "  fill_value=1e+20)"
      ]
     },
     "execution_count": 101,
     "metadata": {},
     "output_type": "execute_result"
    },
    {
     "name": "stdout",
     "output_type": "stream",
     "text": [
      "Averages without NaNs along the said array:\n",
      "[20. 45.  6. nan]\n"
     ]
    }
   ],
   "source": [
    "arr1 = np.array([[10, 20 ,30], [40, 50, np.nan], [np.nan, 6, np.nan], [np.nan, np.nan, np.nan]])\n",
    "print(\"Original array:\")\n",
    "print(arr1)\n",
    "temp = np.ma.masked_array(arr1,np.isnan(arr1))\n",
    "temp\n",
    "result = np.mean(temp, axis=1)\n",
    "print(\"Averages without NaNs along the said array:\")\n",
    "print(result.filled(np.nan))"
   ]
  },
  {
   "cell_type": "markdown",
   "metadata": {},
   "source": [
    "### Q84. Create two arrays of six elements. Write the NumPy program to count the number of instances of a value occurring in one array on the condition of another array."
   ]
  },
  {
   "cell_type": "code",
   "execution_count": 102,
   "metadata": {},
   "outputs": [
    {
     "name": "stdout",
     "output_type": "stream",
     "text": [
      "Original arrays:\n",
      "[ 10 -10  10 -10 -10  10]\n",
      "[0.85 0.45 0.9  0.8  0.12 0.6 ]\n",
      "\n",
      "Number of instances of a value occurring in one array on the condition of another array:\n",
      "3\n"
     ]
    }
   ],
   "source": [
    "x = np.array([10,-10,10,-10,-10,10])\n",
    "y = np.array([.85,.45,.9,.8,.12,.6])\n",
    "print(\"Original arrays:\")\n",
    "print(x)\n",
    "print(y)\n",
    "result = np.sum((x == 10) & (y > .5))\n",
    "print(\"\\nNumber of instances of a value occurring in one array on the condition of another array:\")\n",
    "print(result)"
   ]
  },
  {
   "cell_type": "markdown",
   "metadata": {},
   "source": [
    "### Q85. Write the NumPy program to convert a Python dictionary to a Numpy ndarray ?"
   ]
  },
  {
   "cell_type": "code",
   "execution_count": 103,
   "metadata": {},
   "outputs": [
    {
     "name": "stdout",
     "output_type": "stream",
     "text": [
      "\n",
      "Original dictionary:\n",
      "{'column0': {'a': 1, 'b': 0.0, 'c': 0.0, 'd': 2.0}, 'column1': {'a': 3.0, 'b': 1, 'c': 0.0, 'd': -1.0}, 'column2': {'a': 4, 'b': 1, 'c': 5.0, 'd': -1.0}, 'column3': {'a': 3.0, 'b': -1.0, 'c': -1.0, 'd': -1.0}}\n",
      "Type:  <class 'dict'>\n",
      "\n",
      "ndarray:\n",
      "[[ 1.  0.  0.  2.]\n",
      " [ 3.  1.  0. -1.]\n",
      " [ 4.  1.  5. -1.]\n",
      " [ 3. -1. -1. -1.]]\n",
      "Type:  <class 'numpy.ndarray'>\n"
     ]
    }
   ],
   "source": [
    "from ast import literal_eval\n",
    "udict = \"\"\"{\"column0\":{\"a\":1,\"b\":0.0,\"c\":0.0,\"d\":2.0},\n",
    "   \"column1\":{\"a\":3.0,\"b\":1,\"c\":0.0,\"d\":-1.0},\n",
    "   \"column2\":{\"a\":4,\"b\":1,\"c\":5.0,\"d\":-1.0},\n",
    "   \"column3\":{\"a\":3.0,\"b\":-1.0,\"c\":-1.0,\"d\":-1.0}\n",
    "  }\"\"\"\n",
    "t = literal_eval(udict)\n",
    "print(\"\\nOriginal dictionary:\")\n",
    "print(t)\n",
    "print(\"Type: \",type(t))\n",
    "result_nparra = np.array([[v[j] for j in ['a', 'b', 'c', 'd']] for k, v in t.items()])\n",
    "print(\"\\nndarray:\")\n",
    "print(result_nparra)\n",
    "print(\"Type: \",type(result_nparra))"
   ]
  },
  {
   "cell_type": "markdown",
   "metadata": {},
   "source": [
    "### Q86. Write the Numpy program to find and store the non-zero unique rows in an array after comparing each row with other row in the given matrix?"
   ]
  },
  {
   "cell_type": "code",
   "execution_count": 104,
   "metadata": {},
   "outputs": [
    {
     "name": "stdout",
     "output_type": "stream",
     "text": [
      "Original array:\n",
      "[[ 1  1  0]\n",
      " [ 0  0  0]\n",
      " [ 0  2  3]\n",
      " [ 0  0  0]\n",
      " [ 0 -1  1]\n",
      " [ 0  0  0]]\n",
      "\n",
      "Non-zero unique rows:\n",
      "[[ 1  1  0]\n",
      " [ 0  2  3]\n",
      " [ 0 -1  1]]\n"
     ]
    }
   ],
   "source": [
    "import numpy as np\n",
    "arra = np.array([[ 1,  1,  0],\n",
    "                 [ 0,  0,  0],\n",
    "                 [ 0,  2,  3],\n",
    "                 [ 0,  0,  0],\n",
    "                 [ 0, -1,  1],\n",
    "                 [ 0,  0,  0]])\n",
    "\n",
    "print(\"Original array:\")\n",
    "print(arra)\n",
    "temp = {(0, 0, 0)}\n",
    "result = []\n",
    "for idx, row in enumerate(map(tuple, arra)):\n",
    "    if row not in temp:\n",
    "        result.append(idx)\n",
    "print(\"\\nNon-zero unique rows:\")\n",
    "print(arra[result])"
   ]
  },
  {
   "cell_type": "markdown",
   "metadata": {},
   "source": [
    "### Q87. Write the NumPy program to multiply the matrix by another matrix of complex numbers and create a new matrix of complex numbers?"
   ]
  },
  {
   "cell_type": "code",
   "execution_count": 105,
   "metadata": {},
   "outputs": [
    {
     "name": "stdout",
     "output_type": "stream",
     "text": [
      "First array:\n",
      "[1.+2.j 3.+4.j]\n",
      "Second array:\n",
      "[5.+6.j 7.+8.j]\n",
      "Product of above two arrays:\n",
      "(70-8j)\n"
     ]
    }
   ],
   "source": [
    "x = np.array([1+2j,3+4j])\n",
    "print(\"First array:\")\n",
    "print(x)\n",
    "y = np.array([5+6j,7+8j])\n",
    "print(\"Second array:\")\n",
    "print(y)\n",
    "z = np.vdot(x, y)\n",
    "print(\"Product of above two arrays:\")\n",
    "print(z)"
   ]
  },
  {
   "cell_type": "markdown",
   "metadata": {},
   "source": [
    "### Q88. Write a NumPy program to generate the matrix product of two Arrays?"
   ]
  },
  {
   "cell_type": "code",
   "execution_count": 106,
   "metadata": {},
   "outputs": [
    {
     "name": "stdout",
     "output_type": "stream",
     "text": [
      "Matrices and vectors.\n",
      "x:\n",
      "[[1, 0], [1, 1]]\n",
      "y:\n",
      "[[3, 1], [2, 2]]\n",
      "Matrix product of above two arrays:\n",
      "[[3 1]\n",
      " [5 3]]\n"
     ]
    }
   ],
   "source": [
    "x = [[1, 0], [1, 1]]\n",
    "y = [[3, 1], [2, 2]]\n",
    "print(\"Matrices and vectors.\")\n",
    "print(\"x:\")\n",
    "print(x)\n",
    "print(\"y:\")\n",
    "print(y)\n",
    "print(\"Matrix product of above two arrays:\")\n",
    "print(np.matmul(x, y))"
   ]
  },
  {
   "cell_type": "markdown",
   "metadata": {},
   "source": [
    "### Q89. Write the NumPy program to find roots of the following Polynomials?"
   ]
  },
  {
   "cell_type": "code",
   "execution_count": 107,
   "metadata": {},
   "outputs": [
    {
     "name": "stdout",
     "output_type": "stream",
     "text": [
      "Roots of the first polynomial:\n",
      "[1. 1.]\n",
      "Roots of the second polynomial:\n",
      "[11.04461946+0.j        -0.8711421 +0.j         0.91326132+0.4531004j\n",
      "  0.91326132-0.4531004j]\n"
     ]
    }
   ],
   "source": [
    "print(\"Roots of the first polynomial:\")\n",
    "print(np.roots([1, -2, 1]))\n",
    "print(\"Roots of the second polynomial:\")\n",
    "print(np.roots([1, -12, 10, 7, -10]))"
   ]
  },
  {
   "cell_type": "markdown",
   "metadata": {},
   "source": [
    "### Q90. Write the NumPy program to calculate inverse of sine, cosine, and inverse tangent for all elements in a given array?"
   ]
  },
  {
   "cell_type": "code",
   "execution_count": 108,
   "metadata": {},
   "outputs": [
    {
     "name": "stdout",
     "output_type": "stream",
     "text": [
      "Inverse sine: [-1.57079633  0.          1.57079633]\n",
      "Inverse cosine: [3.14159265 1.57079633 0.        ]\n",
      "Inverse tangent: [-0.78539816  0.          0.78539816]\n"
     ]
    }
   ],
   "source": [
    "x = np.array([-1., 0, 1.])\n",
    "print(\"Inverse sine:\", np.arcsin(x))\n",
    "print(\"Inverse cosine:\", np.arccos(x))\n",
    "print(\"Inverse tangent:\", np.arctan(x))"
   ]
  },
  {
   "cell_type": "markdown",
   "metadata": {},
   "source": [
    "### Q91. Write the NumPy program to calculate the difference between in neighbouring elements, element-wise of a given array?"
   ]
  },
  {
   "cell_type": "code",
   "execution_count": 109,
   "metadata": {},
   "outputs": [
    {
     "name": "stdout",
     "output_type": "stream",
     "text": [
      "Original array: \n",
      "[1 3 5 7 0]\n",
      "Difference between neighboring elements, element-wise of the said array.\n",
      "[ 2  2  2 -7]\n"
     ]
    }
   ],
   "source": [
    "x = np.array([1, 3, 5, 7, 0])\n",
    "print(\"Original array: \")\n",
    "print(x)\n",
    "print(\"Difference between neighboring elements, element-wise of the said array.\")\n",
    "print(np.diff(x))"
   ]
  },
  {
   "cell_type": "markdown",
   "metadata": {},
   "source": [
    "### Q92. Write the Python program to find the maximum and the minimum value of a given flattened array?"
   ]
  },
  {
   "cell_type": "code",
   "execution_count": 110,
   "metadata": {},
   "outputs": [
    {
     "name": "stdout",
     "output_type": "stream",
     "text": [
      "Original flattened array:\n",
      "[[0 1]\n",
      " [2 3]]\n",
      "Maximum value of the above flattened array:\n",
      "3\n",
      "Minimum value of the above flattened array:\n",
      "0\n"
     ]
    }
   ],
   "source": [
    "a = np.arange(4).reshape((2,2))\n",
    "print(\"Original flattened array:\")\n",
    "print(a)\n",
    "print(\"Maximum value of the above flattened array:\")\n",
    "print(np.amax(a))\n",
    "print(\"Minimum value of the above flattened array:\")\n",
    "print(np.amin(a))"
   ]
  },
  {
   "cell_type": "markdown",
   "metadata": {},
   "source": [
    "### Q93. Write the NumPy program to calculate the difference between in the maximum and the minimum values of a given array along the second axis ?"
   ]
  },
  {
   "cell_type": "code",
   "execution_count": 111,
   "metadata": {},
   "outputs": [
    {
     "name": "stdout",
     "output_type": "stream",
     "text": [
      "\n",
      "Original array:\n",
      "[[ 0  1  2  3  4  5]\n",
      " [ 6  7  8  9 10 11]]\n",
      "\n",
      "Difference between the maximum and the minimum values of the said array:\n",
      "[5 5]\n"
     ]
    }
   ],
   "source": [
    "x = np.arange(12).reshape((2, 6))\n",
    "print(\"\\nOriginal array:\")\n",
    "print(x)\n",
    "r1 = np.ptp(x, 1)\n",
    "r2 = np.amax(x, 1) - np.amin(x, 1)\n",
    "assert np.allclose(r1, r2)\n",
    "print(\"\\nDifference between the maximum and the minimum values of the said array:\")\n",
    "print(r1)"
   ]
  },
  {
   "cell_type": "markdown",
   "metadata": {},
   "source": [
    "### Q94. Write the NumPy program to compute the weighted average of the given array ?"
   ]
  },
  {
   "cell_type": "code",
   "execution_count": 112,
   "metadata": {},
   "outputs": [
    {
     "name": "stdout",
     "output_type": "stream",
     "text": [
      "\n",
      "Original array:\n",
      "[0 1 2 3 4]\n",
      "\n",
      "Weighted average of the said array:\n",
      "2.6666666666666665\n"
     ]
    }
   ],
   "source": [
    "x = np.arange(5)\n",
    "print(\"\\nOriginal array:\")\n",
    "print(x)\n",
    "weights = np.arange(1, 6)\n",
    "r1 = np.average(x, weights=weights)\n",
    "r2 = (x*(weights/weights.sum())).sum()\n",
    "assert np.allclose(r1, r2)\n",
    "print(\"\\nWeighted average of the said array:\")\n",
    "print(r1)"
   ]
  },
  {
   "cell_type": "markdown",
   "metadata": {},
   "source": [
    "### Q95. Write the NumPy program to compute the mean, standard deviation, and the variance of a given array along the second axis?"
   ]
  },
  {
   "cell_type": "code",
   "execution_count": 113,
   "metadata": {},
   "outputs": [
    {
     "name": "stdout",
     "output_type": "stream",
     "text": [
      "\n",
      "Original array:\n",
      "[0 1 2 3 4 5]\n",
      "\n",
      "Mean:  2.5\n",
      "\n",
      "std:  1\n",
      "\n",
      "variance:  2.9166666666666665\n"
     ]
    }
   ],
   "source": [
    "x = np.arange(6)\n",
    "print(\"\\nOriginal array:\")\n",
    "print(x)\n",
    "r1 = np.mean(x)\n",
    "r2 = np.average(x)\n",
    "assert np.allclose(r1, r2)\n",
    "print(\"\\nMean: \", r1)\n",
    "r1 = np.std(x)\n",
    "r2 = np.sqrt(np.mean((x - np.mean(x)) ** 2 ))\n",
    "assert np.allclose(r1, r2)\n",
    "print(\"\\nstd: \", 1)\n",
    "r1= np.var(x)\n",
    "r2 = np.mean((x - np.mean(x)) ** 2 )\n",
    "assert np.allclose(r1, r2)\n",
    "print(\"\\nvariance: \", r1)"
   ]
  },
  {
   "cell_type": "markdown",
   "metadata": {},
   "source": [
    "### Q96. Write the Numpy program to compute the covariance matrix of the two given arrays?"
   ]
  },
  {
   "cell_type": "code",
   "execution_count": 114,
   "metadata": {},
   "outputs": [
    {
     "name": "stdout",
     "output_type": "stream",
     "text": [
      "\n",
      "Original array1:\n",
      "[0 1 2]\n",
      "\n",
      "Original array1:\n",
      "[2 1 0]\n",
      "\n",
      "Covariance matrix of the said arrays:\n",
      " [[ 1. -1.]\n",
      " [-1.  1.]]\n"
     ]
    }
   ],
   "source": [
    "x = np.array([0, 1, 2])\n",
    "y = np.array([2, 1, 0])\n",
    "print(\"\\nOriginal array1:\")\n",
    "print(x)\n",
    "print(\"\\nOriginal array1:\")\n",
    "print(y)\n",
    "print(\"\\nCovariance matrix of the said arrays:\\n\",np.cov(x, y))"
   ]
  },
  {
   "cell_type": "markdown",
   "metadata": {},
   "source": [
    "### Q97. Write a NumPy program to compute the cross-correlation of two given arrays ?"
   ]
  },
  {
   "cell_type": "code",
   "execution_count": 115,
   "metadata": {},
   "outputs": [
    {
     "name": "stdout",
     "output_type": "stream",
     "text": [
      "\n",
      "Original array1:\n",
      "[0 1 3]\n",
      "\n",
      "Original array1:\n",
      "[2 4 5]\n",
      "\n",
      "Cross-correlation of the said arrays:\n",
      " [19]\n"
     ]
    }
   ],
   "source": [
    "x = np.array([0, 1, 3])\n",
    "y = np.array([2, 4, 5])\n",
    "print(\"\\nOriginal array1:\")\n",
    "print(x)\n",
    "print(\"\\nOriginal array1:\")\n",
    "print(y)\n",
    "print(\"\\nCross-correlation of the said arrays:\\n\",np.correlate(x, y))"
   ]
  },
  {
   "cell_type": "markdown",
   "metadata": {},
   "source": [
    "### Q98. Write the NumPy program to compute Pearson product-moment correlation coefficients of two given arrays?"
   ]
  },
  {
   "cell_type": "code",
   "execution_count": 116,
   "metadata": {},
   "outputs": [
    {
     "name": "stdout",
     "output_type": "stream",
     "text": [
      "\n",
      "Original array1:\n",
      "[0 1 3]\n",
      "\n",
      "Original array1:\n",
      "[2 4 5]\n",
      "\n",
      "Pearson product-moment correlation coefficients of the said arrays:\n",
      " [[1.         0.92857143]\n",
      " [0.92857143 1.        ]]\n"
     ]
    }
   ],
   "source": [
    "x = np.array([0, 1, 3])\n",
    "y = np.array([2, 4, 5])\n",
    "print(\"\\nOriginal array1:\")\n",
    "print(x)\n",
    "print(\"\\nOriginal array1:\")\n",
    "print(y)\n",
    "print(\"\\nPearson product-moment correlation coefficients of the said arrays:\\n\",np.corrcoef(x, y))"
   ]
  },
  {
   "cell_type": "markdown",
   "metadata": {},
   "source": [
    "### Q99. Write the python program to count the number of occurrences of each value in a given array of non-negative integers?"
   ]
  },
  {
   "cell_type": "code",
   "execution_count": 117,
   "metadata": {},
   "outputs": [
    {
     "name": "stdout",
     "output_type": "stream",
     "text": [
      "Original array:\n",
      "[0, 1, 6, 1, 4, 1, 2, 2, 7]\n",
      "Number of occurrences of each value in array: \n",
      "[1 3 2 0 1 0 1 1]\n"
     ]
    }
   ],
   "source": [
    "array1 = [0, 1, 6, 1, 4, 1, 2, 2, 7] \n",
    "print(\"Original array:\")\n",
    "print(array1)\n",
    "print(\"Number of occurrences of each value in array: \")\n",
    "print(np.bincount(array1))"
   ]
  },
  {
   "cell_type": "markdown",
   "metadata": {},
   "source": [
    "### Q100. Write a Numpy program to compute the histogram of nums against the bins?"
   ]
  },
  {
   "cell_type": "code",
   "execution_count": 118,
   "metadata": {},
   "outputs": [
    {
     "name": "stdout",
     "output_type": "stream",
     "text": [
      "nums:  [0.5 0.7 1.  1.2 1.3 2.1]\n",
      "bins:  [0 1 2 3]\n"
     ]
    },
    {
     "data": {
      "text/plain": [
       "(array([2., 3., 1.]), array([0, 1, 2, 3]), <a list of 3 Patch objects>)"
      ]
     },
     "execution_count": 118,
     "metadata": {},
     "output_type": "execute_result"
    },
    {
     "data": {
      "image/png": "[encoded data removed]",
      "text/plain": [
       "<Figure size 432x288 with 1 Axes>"
      ]
     },
     "metadata": {
      "needs_background": "light"
     },
     "output_type": "display_data"
    }
   ],
   "source": [
    "nums = np.array([0.5, 0.7, 1.0, 1.2, 1.3, 2.1])\n",
    "bins = np.array([0, 1, 2, 3])\n",
    "print(\"nums: \",nums)\n",
    "print(\"bins: \",bins)\n",
    "plt.hist(nums, bins=bins)"
   ]
  },
  {
   "cell_type": "markdown",
   "metadata": {},
   "source": [
    "### Q101. Write the Python program to add, subtract, multiply and divide two pandas series ?"
   ]
  },
  {
   "cell_type": "code",
   "execution_count": 119,
   "metadata": {},
   "outputs": [
    {
     "name": "stdout",
     "output_type": "stream",
     "text": [
      "0     3\n",
      "1     7\n",
      "2    11\n",
      "3    15\n",
      "4    19\n",
      "dtype: int64\n",
      "0    1\n",
      "1    1\n",
      "2    1\n",
      "3    1\n",
      "4    1\n",
      "dtype: int64\n",
      "0     2\n",
      "1    12\n",
      "2    30\n",
      "3    56\n",
      "4    90\n",
      "dtype: int64\n",
      "0    2.000000\n",
      "1    1.333333\n",
      "2    1.200000\n",
      "3    1.142857\n",
      "4    1.111111\n",
      "dtype: float64\n"
     ]
    }
   ],
   "source": [
    "import pandas as pd\n",
    "s = pd.Series([2, 4, 6, 8, 10])\n",
    "r = pd.Series([1, 3, 5, 7, 9])\n",
    "print(s+r)\n",
    "print(s-r)\n",
    "print(s*r)\n",
    "print(s/r)"
   ]
  },
  {
   "cell_type": "markdown",
   "metadata": {},
   "source": [
    "### Q102. Write a Python program to convert a dictionary to the Pandas Series?"
   ]
  },
  {
   "cell_type": "code",
   "execution_count": 120,
   "metadata": {},
   "outputs": [
    {
     "name": "stdout",
     "output_type": "stream",
     "text": [
      "a    100\n",
      "b    200\n",
      "c    300\n",
      "d    400\n",
      "e    800\n",
      "dtype: int64\n"
     ]
    }
   ],
   "source": [
    "b = {'a': 100, 'b': 200, 'c': 300, 'd': 400, 'e': 800}\n",
    "print(pd.Series(b))"
   ]
  },
  {
   "cell_type": "markdown",
   "metadata": {},
   "source": [
    "### Q103. Write a python program to change the data type of given a column or a Series?"
   ]
  },
  {
   "cell_type": "code",
   "execution_count": 121,
   "metadata": {},
   "outputs": [
    {
     "data": {
      "text/plain": [
       "0       100\n",
       "1       200\n",
       "2    python\n",
       "3    300.12\n",
       "4       400\n",
       "dtype: object"
      ]
     },
     "execution_count": 121,
     "metadata": {},
     "output_type": "execute_result"
    },
    {
     "name": "stdout",
     "output_type": "stream",
     "text": [
      "0    100.00\n",
      "1    200.00\n",
      "2       NaN\n",
      "3    300.12\n",
      "4    400.00\n",
      "dtype: float64\n"
     ]
    }
   ],
   "source": [
    "s1 = pd.Series(['100', '200', 'python', '300.12', '400'])\n",
    "s1\n",
    "print(pd.to_numeric(s1,errors = 'coerce'))"
   ]
  },
  {
   "cell_type": "markdown",
   "metadata": {},
   "source": [
    "### Q104. Write the python pandas program to convert the first column of a DataFrame as a Series?"
   ]
  },
  {
   "cell_type": "code",
   "execution_count": 122,
   "metadata": {},
   "outputs": [
    {
     "name": "stdout",
     "output_type": "stream",
     "text": [
      "   col1  col2  col3\n",
      "0     1     4     7\n",
      "1     2     5     5\n",
      "2     3     6     8\n",
      "3     4     9    12\n",
      "4     7     5     1\n",
      "5    11     0    11\n",
      "<class 'pandas.core.frame.DataFrame'>\n",
      "\n",
      "\n",
      "0     1\n",
      "1     2\n",
      "2     3\n",
      "3     4\n",
      "4     7\n",
      "5    11\n",
      "Name: col1, dtype: int64\n",
      "<class 'pandas.core.series.Series'>\n"
     ]
    }
   ],
   "source": [
    "s2 = {'col1': [1, 2, 3, 4, 7, 11], 'col2': [4, 5, 6, 9, 5, 0], 'col3': [7, 5, 8, 12, 1,11]}\n",
    "s2 = pd.DataFrame(s2)\n",
    "print(s2)\n",
    "print(type(s2))\n",
    "print(\"\\n\")\n",
    "s3 = pd.Series(s2.iloc[:,0])\n",
    "print(s3)\n",
    "print(type(s3))"
   ]
  },
  {
   "cell_type": "markdown",
   "metadata": {},
   "source": [
    "### Q105. Write a pandas program to create the mean and standard deviation of the data of a given Series?"
   ]
  },
  {
   "cell_type": "code",
   "execution_count": 123,
   "metadata": {},
   "outputs": [
    {
     "name": "stdout",
     "output_type": "stream",
     "text": [
      "4.818181818181818\n",
      "2.522624895547565\n"
     ]
    }
   ],
   "source": [
    "s = pd.Series(data = [1,2,3,4,5,6,7,8,9,5,3])\n",
    "print(s.mean())\n",
    "print(s.std())"
   ]
  },
  {
   "cell_type": "markdown",
   "metadata": {},
   "source": [
    "### Q106. Write a pandas program to get powers of an array values element-wise?"
   ]
  },
  {
   "cell_type": "code",
   "execution_count": 124,
   "metadata": {},
   "outputs": [
    {
     "data": {
      "text/html": [
       "<div>\n",
       "<style scoped>\n",
       "    .dataframe tbody tr th:only-of-type {\n",
       "        vertical-align: middle;\n",
       "    }\n",
       "\n",
       "    .dataframe tbody tr th {\n",
       "        vertical-align: top;\n",
       "    }\n",
       "\n",
       "    .dataframe thead th {\n",
       "        text-align: right;\n",
       "    }\n",
       "</style>\n",
       "<table border=\"1\" class=\"dataframe\">\n",
       "  <thead>\n",
       "    <tr style=\"text-align: right;\">\n",
       "      <th></th>\n",
       "      <th>A</th>\n",
       "      <th>B</th>\n",
       "      <th>C</th>\n",
       "      <th>D</th>\n",
       "    </tr>\n",
       "  </thead>\n",
       "  <tbody>\n",
       "    <tr>\n",
       "      <td>0</td>\n",
       "      <td>14</td>\n",
       "      <td>5</td>\n",
       "      <td>20</td>\n",
       "      <td>14</td>\n",
       "    </tr>\n",
       "    <tr>\n",
       "      <td>1</td>\n",
       "      <td>4</td>\n",
       "      <td>2</td>\n",
       "      <td>20</td>\n",
       "      <td>3</td>\n",
       "    </tr>\n",
       "    <tr>\n",
       "      <td>2</td>\n",
       "      <td>5</td>\n",
       "      <td>54</td>\n",
       "      <td>7</td>\n",
       "      <td>6</td>\n",
       "    </tr>\n",
       "    <tr>\n",
       "      <td>3</td>\n",
       "      <td>4</td>\n",
       "      <td>3</td>\n",
       "      <td>3</td>\n",
       "      <td>2</td>\n",
       "    </tr>\n",
       "    <tr>\n",
       "      <td>4</td>\n",
       "      <td>1</td>\n",
       "      <td>2</td>\n",
       "      <td>8</td>\n",
       "      <td>6</td>\n",
       "    </tr>\n",
       "  </tbody>\n",
       "</table>\n",
       "</div>"
      ],
      "text/plain": [
       "    A   B   C   D\n",
       "0  14   5  20  14\n",
       "1   4   2  20   3\n",
       "2   5  54   7   6\n",
       "3   4   3   3   2\n",
       "4   1   2   8   6"
      ]
     },
     "execution_count": 124,
     "metadata": {},
     "output_type": "execute_result"
    },
    {
     "data": {
      "text/plain": [
       "A    2\n",
       "B    3\n",
       "C    4\n",
       "D    2\n",
       "dtype: int64"
      ]
     },
     "execution_count": 124,
     "metadata": {},
     "output_type": "execute_result"
    },
    {
     "data": {
      "text/html": [
       "<div>\n",
       "<style scoped>\n",
       "    .dataframe tbody tr th:only-of-type {\n",
       "        vertical-align: middle;\n",
       "    }\n",
       "\n",
       "    .dataframe tbody tr th {\n",
       "        vertical-align: top;\n",
       "    }\n",
       "\n",
       "    .dataframe thead th {\n",
       "        text-align: right;\n",
       "    }\n",
       "</style>\n",
       "<table border=\"1\" class=\"dataframe\">\n",
       "  <thead>\n",
       "    <tr style=\"text-align: right;\">\n",
       "      <th></th>\n",
       "      <th>A</th>\n",
       "      <th>B</th>\n",
       "      <th>C</th>\n",
       "      <th>D</th>\n",
       "    </tr>\n",
       "  </thead>\n",
       "  <tbody>\n",
       "    <tr>\n",
       "      <td>0</td>\n",
       "      <td>196</td>\n",
       "      <td>125</td>\n",
       "      <td>160000</td>\n",
       "      <td>196</td>\n",
       "    </tr>\n",
       "    <tr>\n",
       "      <td>1</td>\n",
       "      <td>16</td>\n",
       "      <td>8</td>\n",
       "      <td>160000</td>\n",
       "      <td>9</td>\n",
       "    </tr>\n",
       "    <tr>\n",
       "      <td>2</td>\n",
       "      <td>25</td>\n",
       "      <td>157464</td>\n",
       "      <td>2401</td>\n",
       "      <td>36</td>\n",
       "    </tr>\n",
       "    <tr>\n",
       "      <td>3</td>\n",
       "      <td>16</td>\n",
       "      <td>27</td>\n",
       "      <td>81</td>\n",
       "      <td>4</td>\n",
       "    </tr>\n",
       "    <tr>\n",
       "      <td>4</td>\n",
       "      <td>1</td>\n",
       "      <td>8</td>\n",
       "      <td>4096</td>\n",
       "      <td>36</td>\n",
       "    </tr>\n",
       "  </tbody>\n",
       "</table>\n",
       "</div>"
      ],
      "text/plain": [
       "     A       B       C    D\n",
       "0  196     125  160000  196\n",
       "1   16       8  160000    9\n",
       "2   25  157464    2401   36\n",
       "3   16      27      81    4\n",
       "4    1       8    4096   36"
      ]
     },
     "execution_count": 124,
     "metadata": {},
     "output_type": "execute_result"
    }
   ],
   "source": [
    "df1 = pd.DataFrame({\"A\":[14, 4, 5, 4, 1], \n",
    "                    \"B\":[5, 2, 54, 3, 2], \n",
    "                    \"C\":[20, 20, 7, 3, 8], \n",
    "                    \"D\":[14, 3, 6, 2, 6]}) \n",
    "df1\n",
    "sr = pd.Series([2, 3, 4, 2], index =[\"A\", \"B\", \"C\", \"D\"])\n",
    "sr\n",
    "df1.pow(sr, axis = 1) "
   ]
  },
  {
   "cell_type": "markdown",
   "metadata": {},
   "source": [
    "### Q107. Write the pandas program to get the first 3 rows of a given DataFrame?"
   ]
  },
  {
   "cell_type": "code",
   "execution_count": 126,
   "metadata": {},
   "outputs": [
    {
     "name": "stdout",
     "output_type": "stream",
     "text": [
      "        name  score  attempts qualify\n",
      "a  Anastasia   12.5         1     yes\n",
      "b       Dima    9.0         3      no\n",
      "c  Katherine   16.5         2     yes\n",
      "d      James    NaN         3      no\n",
      "e      Emily    9.0         2      no\n",
      "f    Michael   20.0         3     yes\n",
      "g    Matthew   14.5         1     yes\n",
      "h      Laura    NaN         1      no\n",
      "i      Kevin    8.0         2      no\n",
      "j      Jonas   19.0         1     yes\n",
      "\n",
      "\n",
      "        name  score  attempts qualify\n",
      "a  Anastasia   12.5         1     yes\n",
      "b       Dima    9.0         3      no\n",
      "c  Katherine   16.5         2     yes\n"
     ]
    }
   ],
   "source": [
    "exam_data  = {'name': ['Anastasia', 'Dima', 'Katherine', 'James', 'Emily', 'Michael', 'Matthew', 'Laura', 'Kevin', 'Jonas'],\n",
    "              'score': [12.5, 9, 16.5, np.nan, 9, 20, 14.5, np.nan, 8, 19],\n",
    "              'attempts': [1, 3, 2, 3, 2, 3, 1, 1, 2, 1],\n",
    "              'qualify': ['yes', 'no', 'yes', 'no', 'no', 'yes', 'yes', 'no', 'no', 'yes']}\n",
    "labels = ['a', 'b', 'c', 'd', 'e', 'f', 'g', 'h', 'i', 'j']\n",
    "exd =  pd.DataFrame(exam_data,index = labels)\n",
    "print(exd)\n",
    "print('\\n')\n",
    "print(exd.iloc[:3])"
   ]
  },
  {
   "cell_type": "markdown",
   "metadata": {},
   "source": [
    "### Q108: Write the pandas program to select the specified columns and the rows from a given data frame?"
   ]
  },
  {
   "cell_type": "code",
   "execution_count": 127,
   "metadata": {},
   "outputs": [
    {
     "name": "stdout",
     "output_type": "stream",
     "text": [
      "      name  score\n",
      "b     Dima    9.0\n",
      "d    James    NaN\n",
      "f  Michael   20.0\n",
      "g  Matthew   14.5\n"
     ]
    }
   ],
   "source": [
    "print(exd.iloc[[1,3,5,6],[0,1]])"
   ]
  },
  {
   "cell_type": "markdown",
   "metadata": {},
   "source": [
    "### Q109. Write the pandas program to calculate mean score for each different student in DataFrame?"
   ]
  },
  {
   "cell_type": "code",
   "execution_count": 128,
   "metadata": {},
   "outputs": [
    {
     "name": "stdout",
     "output_type": "stream",
     "text": [
      "13.5625\n"
     ]
    }
   ],
   "source": [
    "print(exd['score'].mean())"
   ]
  },
  {
   "cell_type": "markdown",
   "metadata": {},
   "source": [
    "### Q110. Write the Pandas program to rename columns of a given DataFrame ?"
   ]
  },
  {
   "cell_type": "code",
   "execution_count": 130,
   "metadata": {},
   "outputs": [
    {
     "name": "stdout",
     "output_type": "stream",
     "text": [
      "Original DataFrame\n",
      "   col1  col2  col3\n",
      "0     1     4     7\n",
      "1     2     5     8\n",
      "2     3     6     9\n",
      "\n",
      "\n",
      "New DataFrame after renaming columns:\n",
      "   Column1  Column2  Column3\n",
      "0        1        4        7\n",
      "1        2        5        8\n",
      "2        3        6        9\n"
     ]
    }
   ],
   "source": [
    "d = {'col1': [1, 2, 3], 'col2': [4, 5, 6], 'col3': [7, 8, 9]}\n",
    "df = pd.DataFrame(data=d)\n",
    "print(\"Original DataFrame\")\n",
    "print(df)\n",
    "print(\"\\n\")\n",
    "df = df.rename(columns={'col1': 'Column1', 'col2': 'Column2', 'col3': 'Column3'})\n",
    "print(\"New DataFrame after renaming columns:\")\n",
    "print(df)"
   ]
  },
  {
   "cell_type": "markdown",
   "metadata": {},
   "source": [
    "###  Q111. Write a pandas program to count city-wise number of people from a given of data set (city, name of the person)"
   ]
  },
  {
   "cell_type": "code",
   "execution_count": 131,
   "metadata": {},
   "outputs": [
    {
     "name": "stdout",
     "output_type": "stream",
     "text": [
      "          city  Number of people\n",
      "0   California                 4\n",
      "1      Georgia                 2\n",
      "2  Los Angeles                 4\n"
     ]
    }
   ],
   "source": [
    "df1 = pd.DataFrame({'name': ['Anastasia', 'Dima', 'Katherine', 'James', 'Emily', 'Michael', 'Matthew', 'Laura', 'Kevin', 'Jonas'],\n",
    "'city': ['California', 'Los Angeles', 'California', 'California', 'California', 'Los Angeles', 'Los Angeles', 'Georgia', 'Georgia', 'Los Angeles']})\n",
    "g1 = df1.groupby([\"city\"]).size().reset_index(name='Number of people')\n",
    "print(g1)"
   ]
  },
  {
   "cell_type": "markdown",
   "metadata": {},
   "source": [
    "### Q112. Write a pandas program to widen output display to see more columns?"
   ]
  },
  {
   "cell_type": "code",
   "execution_count": 133,
   "metadata": {},
   "outputs": [
    {
     "data": {
      "text/html": [
       "<div>\n",
       "<style scoped>\n",
       "    .dataframe tbody tr th:only-of-type {\n",
       "        vertical-align: middle;\n",
       "    }\n",
       "\n",
       "    .dataframe tbody tr th {\n",
       "        vertical-align: top;\n",
       "    }\n",
       "\n",
       "    .dataframe thead th {\n",
       "        text-align: right;\n",
       "    }\n",
       "</style>\n",
       "<table border=\"1\" class=\"dataframe\">\n",
       "  <thead>\n",
       "    <tr style=\"text-align: right;\">\n",
       "      <th></th>\n",
       "      <th>col1</th>\n",
       "      <th>col2</th>\n",
       "      <th>col3</th>\n",
       "    </tr>\n",
       "  </thead>\n",
       "  <tbody>\n",
       "    <tr>\n",
       "      <td>0</td>\n",
       "      <td>1</td>\n",
       "      <td>4</td>\n",
       "      <td>7</td>\n",
       "    </tr>\n",
       "    <tr>\n",
       "      <td>1</td>\n",
       "      <td>4</td>\n",
       "      <td>5</td>\n",
       "      <td>8</td>\n",
       "    </tr>\n",
       "    <tr>\n",
       "      <td>2</td>\n",
       "      <td>3</td>\n",
       "      <td>6</td>\n",
       "      <td>9</td>\n",
       "    </tr>\n",
       "    <tr>\n",
       "      <td>3</td>\n",
       "      <td>4</td>\n",
       "      <td>7</td>\n",
       "      <td>0</td>\n",
       "    </tr>\n",
       "    <tr>\n",
       "      <td>4</td>\n",
       "      <td>5</td>\n",
       "      <td>8</td>\n",
       "      <td>1</td>\n",
       "    </tr>\n",
       "  </tbody>\n",
       "</table>\n",
       "</div>"
      ],
      "text/plain": [
       "   col1  col2  col3\n",
       "0     1     4     7\n",
       "1     4     5     8\n",
       "2     3     6     9\n",
       "3     4     7     0\n",
       "4     5     8     1"
      ]
     },
     "execution_count": 133,
     "metadata": {},
     "output_type": "execute_result"
    },
    {
     "name": "stdout",
     "output_type": "stream",
     "text": [
      "Original DataFrame\n",
      "   col1  col2  col3\n",
      "0     1     4     7\n",
      "1     4     5     8\n",
      "2     3     6     9\n",
      "3     4     7     0\n",
      "4     5     8     1\n"
     ]
    }
   ],
   "source": [
    "d = {'col1': [1, 4, 3, 4, 5], 'col2': [4, 5, 6, 7, 8], 'col3': [7, 8, 9, 0, 1]}\n",
    "df = pd.DataFrame(data=d)\n",
    "df\n",
    "pd.set_option('display.max_rows', 500)\n",
    "pd.set_option('display.max_columns', 500)\n",
    "pd.set_option('display.width', 1000)\n",
    "print(\"Original DataFrame\")\n",
    "print(df)"
   ]
  },
  {
   "cell_type": "markdown",
   "metadata": {},
   "source": [
    "### Q113. Write a pandas program to convert the data frame column type from string to DateTime?"
   ]
  },
  {
   "cell_type": "code",
   "execution_count": 134,
   "metadata": {},
   "outputs": [
    {
     "name": "stdout",
     "output_type": "stream",
     "text": [
      "           0\n",
      "0 2000-03-11\n",
      "1 2000-03-12\n",
      "2 2000-03-13\n"
     ]
    }
   ],
   "source": [
    "s = pd.Series(['3/11/2000', '3/12/2000', '3/13/2000'])\n",
    "s = pd.to_datetime(s)\n",
    "print(pd.DataFrame(s))"
   ]
  },
  {
   "cell_type": "markdown",
   "metadata": {},
   "source": [
    "### Q114. Write a pandas program to append the data to an empty DataFrame?"
   ]
  },
  {
   "cell_type": "code",
   "execution_count": 138,
   "metadata": {},
   "outputs": [
    {
     "name": "stdout",
     "output_type": "stream",
     "text": [
      "   col1  col2\n",
      "0     0     0\n",
      "1     1     1\n",
      "2     2     2\n"
     ]
    }
   ],
   "source": [
    "c = pd.DataFrame()\n",
    "d = pd.DataFrame({'col1':range(3),'col2':range(3)})\n",
    "print(c.append(d))"
   ]
  },
  {
   "cell_type": "markdown",
   "metadata": {},
   "source": [
    "### Q115. Write a pandas program to count the number of columns of a DataFrame?"
   ]
  },
  {
   "cell_type": "code",
   "execution_count": 139,
   "metadata": {},
   "outputs": [
    {
     "name": "stdout",
     "output_type": "stream",
     "text": [
      "Original DataFrame\n",
      "   col1  col2  col3\n",
      "0     1     4     7\n",
      "1     2     5     8\n",
      "2     3     6    12\n",
      "3     4     9     1\n",
      "4     7     5    11\n",
      "\n",
      "Number of columns:\n",
      "3\n"
     ]
    }
   ],
   "source": [
    "d = {'col1': [1, 2, 3, 4, 7], 'col2': [4, 5, 6, 9, 5], 'col3': [7, 8, 12, 1, 11]}\n",
    "df = pd.DataFrame(data=d)\n",
    "print(\"Original DataFrame\")\n",
    "print(df)\n",
    "print(\"\\nNumber of columns:\")\n",
    "print(len(df.columns))"
   ]
  },
  {
   "cell_type": "markdown",
   "metadata": {},
   "source": [
    "### Q116. Write a Pandas program to remove the last n rows of a given DataFrame ?"
   ]
  },
  {
   "cell_type": "code",
   "execution_count": 140,
   "metadata": {},
   "outputs": [
    {
     "name": "stdout",
     "output_type": "stream",
     "text": [
      "Original DataFrame\n",
      "   col1  col2  col3\n",
      "0     1     4     7\n",
      "1     2     5     8\n",
      "2     3     6    12\n"
     ]
    }
   ],
   "source": [
    "d = {'col1': [1, 2, 3, 4, 7,11], 'col2': [4, 5, 6, 9, 5,0], 'col3': [7, 8, 12, 1, 11,11]}\n",
    "df = pd.DataFrame(data=d)\n",
    "print(\"Original DataFrame\")\n",
    "print(df.iloc[:3])"
   ]
  },
  {
   "cell_type": "markdown",
   "metadata": {},
   "source": [
    "### Q117. Write a Pandas program to import excel data (coalpublic2013.xlsx) into a Pandas data frame."
   ]
  },
  {
   "cell_type": "code",
   "execution_count": 143,
   "metadata": {},
   "outputs": [
    {
     "data": {
      "text/html": [
       "<div>\n",
       "<style scoped>\n",
       "    .dataframe tbody tr th:only-of-type {\n",
       "        vertical-align: middle;\n",
       "    }\n",
       "\n",
       "    .dataframe tbody tr th {\n",
       "        vertical-align: top;\n",
       "    }\n",
       "\n",
       "    .dataframe thead th {\n",
       "        text-align: right;\n",
       "    }\n",
       "</style>\n",
       "<table border=\"1\" class=\"dataframe\">\n",
       "  <thead>\n",
       "    <tr style=\"text-align: right;\">\n",
       "      <th></th>\n",
       "      <th>Year</th>\n",
       "      <th>MSHA ID</th>\n",
       "      <th>Mine_Name</th>\n",
       "      <th>Production</th>\n",
       "      <th>Labor_Hours</th>\n",
       "    </tr>\n",
       "  </thead>\n",
       "  <tbody>\n",
       "    <tr>\n",
       "      <td>0</td>\n",
       "      <td>2013</td>\n",
       "      <td>103381</td>\n",
       "      <td>Tacoa Highwall Miner</td>\n",
       "      <td>56004</td>\n",
       "      <td>22392</td>\n",
       "    </tr>\n",
       "    <tr>\n",
       "      <td>1</td>\n",
       "      <td>2013</td>\n",
       "      <td>103404</td>\n",
       "      <td>Reid School Mine</td>\n",
       "      <td>28807</td>\n",
       "      <td>28447</td>\n",
       "    </tr>\n",
       "    <tr>\n",
       "      <td>2</td>\n",
       "      <td>2013</td>\n",
       "      <td>100759</td>\n",
       "      <td>North River #1 Underground Min</td>\n",
       "      <td>1440115</td>\n",
       "      <td>474784</td>\n",
       "    </tr>\n",
       "    <tr>\n",
       "      <td>3</td>\n",
       "      <td>2013</td>\n",
       "      <td>103246</td>\n",
       "      <td>Bear Creek</td>\n",
       "      <td>87587</td>\n",
       "      <td>29193</td>\n",
       "    </tr>\n",
       "    <tr>\n",
       "      <td>4</td>\n",
       "      <td>2013</td>\n",
       "      <td>103451</td>\n",
       "      <td>Knight Mine</td>\n",
       "      <td>147499</td>\n",
       "      <td>46393</td>\n",
       "    </tr>\n",
       "  </tbody>\n",
       "</table>\n",
       "</div>"
      ],
      "text/plain": [
       "   Year  MSHA ID                       Mine_Name  Production  Labor_Hours\n",
       "0  2013   103381            Tacoa Highwall Miner       56004        22392\n",
       "1  2013   103404                Reid School Mine       28807        28447\n",
       "2  2013   100759  North River #1 Underground Min     1440115       474784\n",
       "3  2013   103246                      Bear Creek       87587        29193\n",
       "4  2013   103451                     Knight Mine      147499        46393"
      ]
     },
     "execution_count": 143,
     "metadata": {},
     "output_type": "execute_result"
    }
   ],
   "source": [
    "e = pd.read_excel(\"D:/coalpublic2013.xlsx\")\n",
    "e.head()"
   ]
  },
  {
   "cell_type": "markdown",
   "metadata": {},
   "source": [
    "### Q118. Write a Pandas program to import excel data (coalpublic2013.xlsx) into a data frame and find details where \"Mine Name\" starts with \"P."
   ]
  },
  {
   "cell_type": "code",
   "execution_count": 145,
   "metadata": {},
   "outputs": [
    {
     "data": {
      "text/html": [
       "<div>\n",
       "<style scoped>\n",
       "    .dataframe tbody tr th:only-of-type {\n",
       "        vertical-align: middle;\n",
       "    }\n",
       "\n",
       "    .dataframe tbody tr th {\n",
       "        vertical-align: top;\n",
       "    }\n",
       "\n",
       "    .dataframe thead th {\n",
       "        text-align: right;\n",
       "    }\n",
       "</style>\n",
       "<table border=\"1\" class=\"dataframe\">\n",
       "  <thead>\n",
       "    <tr style=\"text-align: right;\">\n",
       "      <th></th>\n",
       "      <th>Year</th>\n",
       "      <th>MSHA ID</th>\n",
       "      <th>Mine_Name</th>\n",
       "      <th>Production</th>\n",
       "      <th>Labor_Hours</th>\n",
       "    </tr>\n",
       "  </thead>\n",
       "  <tbody>\n",
       "    <tr>\n",
       "      <td>13</td>\n",
       "      <td>2013</td>\n",
       "      <td>103332</td>\n",
       "      <td>Powhatan Mine</td>\n",
       "      <td>140521</td>\n",
       "      <td>61394</td>\n",
       "    </tr>\n",
       "    <tr>\n",
       "      <td>18</td>\n",
       "      <td>2013</td>\n",
       "      <td>102976</td>\n",
       "      <td>Piney Woods Preparation Plant</td>\n",
       "      <td>0</td>\n",
       "      <td>14828</td>\n",
       "    </tr>\n",
       "    <tr>\n",
       "      <td>19</td>\n",
       "      <td>2013</td>\n",
       "      <td>102976</td>\n",
       "      <td>Piney Woods Preparation Plant</td>\n",
       "      <td>0</td>\n",
       "      <td>23193</td>\n",
       "    </tr>\n",
       "    <tr>\n",
       "      <td>46</td>\n",
       "      <td>2013</td>\n",
       "      <td>103321</td>\n",
       "      <td>Poplar Springs</td>\n",
       "      <td>189370</td>\n",
       "      <td>76366</td>\n",
       "    </tr>\n",
       "  </tbody>\n",
       "</table>\n",
       "</div>"
      ],
      "text/plain": [
       "    Year  MSHA ID                      Mine_Name  Production  Labor_Hours\n",
       "13  2013   103332                  Powhatan Mine      140521        61394\n",
       "18  2013   102976  Piney Woods Preparation Plant           0        14828\n",
       "19  2013   102976  Piney Woods Preparation Plant           0        23193\n",
       "46  2013   103321                 Poplar Springs      189370        76366"
      ]
     },
     "execution_count": 145,
     "metadata": {},
     "output_type": "execute_result"
    }
   ],
   "source": [
    "e[e[\"Mine_Name\"].map(lambda x: x.startswith('P'))].head()"
   ]
  },
  {
   "cell_type": "markdown",
   "metadata": {},
   "source": [
    "### Q119. Write a Pandas program to import excel data (employee.xlsx ) into a Pandas dataframe and find the list of employees where hire_date> 01 -01 -07."
   ]
  },
  {
   "cell_type": "code",
   "execution_count": 146,
   "metadata": {},
   "outputs": [
    {
     "data": {
      "text/html": [
       "<div>\n",
       "<style scoped>\n",
       "    .dataframe tbody tr th:only-of-type {\n",
       "        vertical-align: middle;\n",
       "    }\n",
       "\n",
       "    .dataframe tbody tr th {\n",
       "        vertical-align: top;\n",
       "    }\n",
       "\n",
       "    .dataframe thead th {\n",
       "        text-align: right;\n",
       "    }\n",
       "</style>\n",
       "<table border=\"1\" class=\"dataframe\">\n",
       "  <thead>\n",
       "    <tr style=\"text-align: right;\">\n",
       "      <th></th>\n",
       "      <th>emp_id</th>\n",
       "      <th>first_name</th>\n",
       "      <th>last_name</th>\n",
       "      <th>hire_date</th>\n",
       "    </tr>\n",
       "  </thead>\n",
       "  <tbody>\n",
       "    <tr>\n",
       "      <td>4</td>\n",
       "      <td>104</td>\n",
       "      <td>Bruce</td>\n",
       "      <td>Ernst</td>\n",
       "      <td>2007-05-21</td>\n",
       "    </tr>\n",
       "    <tr>\n",
       "      <td>7</td>\n",
       "      <td>107</td>\n",
       "      <td>Diana</td>\n",
       "      <td>Lorentz</td>\n",
       "      <td>2007-02-07</td>\n",
       "    </tr>\n",
       "    <tr>\n",
       "      <td>13</td>\n",
       "      <td>113</td>\n",
       "      <td>Luis</td>\n",
       "      <td>Popp</td>\n",
       "      <td>2007-12-07</td>\n",
       "    </tr>\n",
       "    <tr>\n",
       "      <td>19</td>\n",
       "      <td>119</td>\n",
       "      <td>Karen</td>\n",
       "      <td>Colmenares</td>\n",
       "      <td>2007-08-10</td>\n",
       "    </tr>\n",
       "  </tbody>\n",
       "</table>\n",
       "</div>"
      ],
      "text/plain": [
       "    emp_id first_name   last_name  hire_date\n",
       "4      104      Bruce       Ernst 2007-05-21\n",
       "7      107      Diana     Lorentz 2007-02-07\n",
       "13     113       Luis        Popp 2007-12-07\n",
       "19     119      Karen  Colmenares 2007-08-10"
      ]
     },
     "execution_count": 146,
     "metadata": {},
     "output_type": "execute_result"
    }
   ],
   "source": [
    "df = pd.read_excel('D:\\employee.xlsx')\n",
    "df[df['hire_date'] >='20070101']"
   ]
  },
  {
   "cell_type": "markdown",
   "metadata": {},
   "source": [
    "### Q120. Write a Pandas program to import excel data (employee.xlsx ) into a Pandas dataframe and find a list of the employees of a specified year"
   ]
  },
  {
   "cell_type": "code",
   "execution_count": 148,
   "metadata": {},
   "outputs": [
    {
     "name": "stdout",
     "output_type": "stream",
     "text": [
      "            emp_id   first_name   last_name\n",
      "hire_date                                  \n",
      "2003-06-17     100       Steven        King\n",
      "2005-09-21     101        Neena     Kochhar\n",
      "2001-01-13     102          Lex     De Haan\n",
      "2006-01-03     103    Alexander      Hunold\n",
      "2007-05-21     104        Bruce       Ernst\n",
      "2005-06-25     105        David      Austin\n",
      "2006-02-05     106        Valli   Pataballa\n",
      "2007-02-07     107        Diana     Lorentz\n",
      "2002-08-17     108        Nancy   Greenberg\n",
      "2002-08-16     109       Daniel      Faviet\n",
      "2005-09-28     110         John        Chen\n",
      "2005-09-30     111       Ismael     Sciarra\n",
      "2006-03-07     112  Jose Manuel       Urman\n",
      "2007-12-07     113         Luis        Popp\n",
      "2002-12-07     114          Den    Raphaely\n",
      "2003-05-18     115    Alexander        Khoo\n",
      "2005-12-24     116       Shelli       Baida\n",
      "2005-07-24     117        Sigal      Tobias\n",
      "2006-11-15     118          Guy      Himuro\n",
      "2007-08-10     119        Karen  Colmenares\n"
     ]
    },
    {
     "data": {
      "text/html": [
       "<div>\n",
       "<style scoped>\n",
       "    .dataframe tbody tr th:only-of-type {\n",
       "        vertical-align: middle;\n",
       "    }\n",
       "\n",
       "    .dataframe tbody tr th {\n",
       "        vertical-align: top;\n",
       "    }\n",
       "\n",
       "    .dataframe thead th {\n",
       "        text-align: right;\n",
       "    }\n",
       "</style>\n",
       "<table border=\"1\" class=\"dataframe\">\n",
       "  <thead>\n",
       "    <tr style=\"text-align: right;\">\n",
       "      <th></th>\n",
       "      <th>emp_id</th>\n",
       "      <th>first_name</th>\n",
       "      <th>last_name</th>\n",
       "    </tr>\n",
       "    <tr>\n",
       "      <th>hire_date</th>\n",
       "      <th></th>\n",
       "      <th></th>\n",
       "      <th></th>\n",
       "    </tr>\n",
       "  </thead>\n",
       "  <tbody>\n",
       "    <tr>\n",
       "      <td>2005-09-21</td>\n",
       "      <td>101</td>\n",
       "      <td>Neena</td>\n",
       "      <td>Kochhar</td>\n",
       "    </tr>\n",
       "    <tr>\n",
       "      <td>2005-06-25</td>\n",
       "      <td>105</td>\n",
       "      <td>David</td>\n",
       "      <td>Austin</td>\n",
       "    </tr>\n",
       "    <tr>\n",
       "      <td>2005-09-28</td>\n",
       "      <td>110</td>\n",
       "      <td>John</td>\n",
       "      <td>Chen</td>\n",
       "    </tr>\n",
       "    <tr>\n",
       "      <td>2005-09-30</td>\n",
       "      <td>111</td>\n",
       "      <td>Ismael</td>\n",
       "      <td>Sciarra</td>\n",
       "    </tr>\n",
       "    <tr>\n",
       "      <td>2005-12-24</td>\n",
       "      <td>116</td>\n",
       "      <td>Shelli</td>\n",
       "      <td>Baida</td>\n",
       "    </tr>\n",
       "    <tr>\n",
       "      <td>2005-07-24</td>\n",
       "      <td>117</td>\n",
       "      <td>Sigal</td>\n",
       "      <td>Tobias</td>\n",
       "    </tr>\n",
       "  </tbody>\n",
       "</table>\n",
       "</div>"
      ],
      "text/plain": [
       "            emp_id first_name last_name\n",
       "hire_date                              \n",
       "2005-09-21     101      Neena   Kochhar\n",
       "2005-06-25     105      David    Austin\n",
       "2005-09-28     110       John      Chen\n",
       "2005-09-30     111     Ismael   Sciarra\n",
       "2005-12-24     116     Shelli     Baida\n",
       "2005-07-24     117      Sigal    Tobias"
      ]
     },
     "execution_count": 148,
     "metadata": {},
     "output_type": "execute_result"
    }
   ],
   "source": [
    "df2 = df.set_index(['hire_date'])\n",
    "print(df2)\n",
    "result = df2[\"2005\"]\n",
    "result"
   ]
  },
  {
   "cell_type": "markdown",
   "metadata": {},
   "source": [
    "### Q121. Write a pandas program to import three datasheets from a given excel data (coalpublic2013.xlsx ) in to a single dataframe."
   ]
  },
  {
   "cell_type": "code",
   "execution_count": 149,
   "metadata": {},
   "outputs": [
    {
     "data": {
      "text/html": [
       "<div>\n",
       "<style scoped>\n",
       "    .dataframe tbody tr th:only-of-type {\n",
       "        vertical-align: middle;\n",
       "    }\n",
       "\n",
       "    .dataframe tbody tr th {\n",
       "        vertical-align: top;\n",
       "    }\n",
       "\n",
       "    .dataframe thead th {\n",
       "        text-align: right;\n",
       "    }\n",
       "</style>\n",
       "<table border=\"1\" class=\"dataframe\">\n",
       "  <thead>\n",
       "    <tr style=\"text-align: right;\">\n",
       "      <th></th>\n",
       "      <th>emp_id</th>\n",
       "      <th>first_name</th>\n",
       "      <th>last_name</th>\n",
       "      <th>hire_date</th>\n",
       "    </tr>\n",
       "  </thead>\n",
       "  <tbody>\n",
       "    <tr>\n",
       "      <td>0</td>\n",
       "      <td>100</td>\n",
       "      <td>Steven</td>\n",
       "      <td>King</td>\n",
       "      <td>2003-06-17</td>\n",
       "    </tr>\n",
       "    <tr>\n",
       "      <td>1</td>\n",
       "      <td>101</td>\n",
       "      <td>Neena</td>\n",
       "      <td>Kochhar</td>\n",
       "      <td>2005-09-21</td>\n",
       "    </tr>\n",
       "    <tr>\n",
       "      <td>2</td>\n",
       "      <td>102</td>\n",
       "      <td>Lex</td>\n",
       "      <td>De Haan</td>\n",
       "      <td>2001-01-13</td>\n",
       "    </tr>\n",
       "    <tr>\n",
       "      <td>3</td>\n",
       "      <td>103</td>\n",
       "      <td>Alexander</td>\n",
       "      <td>Hunold</td>\n",
       "      <td>2006-01-03</td>\n",
       "    </tr>\n",
       "    <tr>\n",
       "      <td>4</td>\n",
       "      <td>104</td>\n",
       "      <td>Bruce</td>\n",
       "      <td>Ernst</td>\n",
       "      <td>2007-05-21</td>\n",
       "    </tr>\n",
       "    <tr>\n",
       "      <td>5</td>\n",
       "      <td>105</td>\n",
       "      <td>David</td>\n",
       "      <td>Austin</td>\n",
       "      <td>2005-06-25</td>\n",
       "    </tr>\n",
       "    <tr>\n",
       "      <td>6</td>\n",
       "      <td>106</td>\n",
       "      <td>Valli</td>\n",
       "      <td>Pataballa</td>\n",
       "      <td>2006-02-05</td>\n",
       "    </tr>\n",
       "    <tr>\n",
       "      <td>7</td>\n",
       "      <td>107</td>\n",
       "      <td>Diana</td>\n",
       "      <td>Lorentz</td>\n",
       "      <td>2007-02-07</td>\n",
       "    </tr>\n",
       "    <tr>\n",
       "      <td>8</td>\n",
       "      <td>108</td>\n",
       "      <td>Nancy</td>\n",
       "      <td>Greenberg</td>\n",
       "      <td>2002-08-17</td>\n",
       "    </tr>\n",
       "    <tr>\n",
       "      <td>9</td>\n",
       "      <td>109</td>\n",
       "      <td>Daniel</td>\n",
       "      <td>Faviet</td>\n",
       "      <td>2002-08-16</td>\n",
       "    </tr>\n",
       "    <tr>\n",
       "      <td>10</td>\n",
       "      <td>110</td>\n",
       "      <td>John</td>\n",
       "      <td>Chen</td>\n",
       "      <td>2005-09-28</td>\n",
       "    </tr>\n",
       "    <tr>\n",
       "      <td>11</td>\n",
       "      <td>111</td>\n",
       "      <td>Ismael</td>\n",
       "      <td>Sciarra</td>\n",
       "      <td>2005-09-30</td>\n",
       "    </tr>\n",
       "    <tr>\n",
       "      <td>12</td>\n",
       "      <td>112</td>\n",
       "      <td>Jose Manuel</td>\n",
       "      <td>Urman</td>\n",
       "      <td>2006-03-07</td>\n",
       "    </tr>\n",
       "    <tr>\n",
       "      <td>13</td>\n",
       "      <td>113</td>\n",
       "      <td>Luis</td>\n",
       "      <td>Popp</td>\n",
       "      <td>2007-12-07</td>\n",
       "    </tr>\n",
       "    <tr>\n",
       "      <td>14</td>\n",
       "      <td>114</td>\n",
       "      <td>Den</td>\n",
       "      <td>Raphaely</td>\n",
       "      <td>2002-12-07</td>\n",
       "    </tr>\n",
       "    <tr>\n",
       "      <td>15</td>\n",
       "      <td>115</td>\n",
       "      <td>Alexander</td>\n",
       "      <td>Khoo</td>\n",
       "      <td>2003-05-18</td>\n",
       "    </tr>\n",
       "    <tr>\n",
       "      <td>16</td>\n",
       "      <td>116</td>\n",
       "      <td>Shelli</td>\n",
       "      <td>Baida</td>\n",
       "      <td>2005-12-24</td>\n",
       "    </tr>\n",
       "    <tr>\n",
       "      <td>17</td>\n",
       "      <td>117</td>\n",
       "      <td>Sigal</td>\n",
       "      <td>Tobias</td>\n",
       "      <td>2005-07-24</td>\n",
       "    </tr>\n",
       "    <tr>\n",
       "      <td>18</td>\n",
       "      <td>118</td>\n",
       "      <td>Guy</td>\n",
       "      <td>Himuro</td>\n",
       "      <td>2006-11-15</td>\n",
       "    </tr>\n",
       "    <tr>\n",
       "      <td>19</td>\n",
       "      <td>119</td>\n",
       "      <td>Karen</td>\n",
       "      <td>Colmenares</td>\n",
       "      <td>2007-08-10</td>\n",
       "    </tr>\n",
       "    <tr>\n",
       "      <td>0</td>\n",
       "      <td>120</td>\n",
       "      <td>Matthew</td>\n",
       "      <td>Weiss</td>\n",
       "      <td>2004-07-18</td>\n",
       "    </tr>\n",
       "    <tr>\n",
       "      <td>1</td>\n",
       "      <td>121</td>\n",
       "      <td>Adam</td>\n",
       "      <td>Fripp</td>\n",
       "      <td>2005-04-10</td>\n",
       "    </tr>\n",
       "    <tr>\n",
       "      <td>2</td>\n",
       "      <td>122</td>\n",
       "      <td>Payam</td>\n",
       "      <td>Kaufling</td>\n",
       "      <td>2003-05-01</td>\n",
       "    </tr>\n",
       "    <tr>\n",
       "      <td>3</td>\n",
       "      <td>123</td>\n",
       "      <td>Shanta</td>\n",
       "      <td>Vollman</td>\n",
       "      <td>2005-10-10</td>\n",
       "    </tr>\n",
       "    <tr>\n",
       "      <td>4</td>\n",
       "      <td>124</td>\n",
       "      <td>Kevin</td>\n",
       "      <td>Mourgos</td>\n",
       "      <td>2007-11-16</td>\n",
       "    </tr>\n",
       "    <tr>\n",
       "      <td>5</td>\n",
       "      <td>125</td>\n",
       "      <td>Julia</td>\n",
       "      <td>Nayer</td>\n",
       "      <td>2005-07-16</td>\n",
       "    </tr>\n",
       "    <tr>\n",
       "      <td>6</td>\n",
       "      <td>126</td>\n",
       "      <td>Irene</td>\n",
       "      <td>Mikkilineni</td>\n",
       "      <td>2006-09-28</td>\n",
       "    </tr>\n",
       "    <tr>\n",
       "      <td>7</td>\n",
       "      <td>127</td>\n",
       "      <td>James</td>\n",
       "      <td>Landry</td>\n",
       "      <td>2007-01-14</td>\n",
       "    </tr>\n",
       "    <tr>\n",
       "      <td>8</td>\n",
       "      <td>128</td>\n",
       "      <td>Steven</td>\n",
       "      <td>Markle</td>\n",
       "      <td>2008-03-08</td>\n",
       "    </tr>\n",
       "    <tr>\n",
       "      <td>9</td>\n",
       "      <td>129</td>\n",
       "      <td>Laura</td>\n",
       "      <td>Bissot</td>\n",
       "      <td>2005-08-20</td>\n",
       "    </tr>\n",
       "    <tr>\n",
       "      <td>10</td>\n",
       "      <td>130</td>\n",
       "      <td>Mozhe</td>\n",
       "      <td>Atkinson</td>\n",
       "      <td>2005-10-30</td>\n",
       "    </tr>\n",
       "    <tr>\n",
       "      <td>11</td>\n",
       "      <td>131</td>\n",
       "      <td>James</td>\n",
       "      <td>Marlow</td>\n",
       "      <td>2005-02-16</td>\n",
       "    </tr>\n",
       "    <tr>\n",
       "      <td>12</td>\n",
       "      <td>132</td>\n",
       "      <td>TJ</td>\n",
       "      <td>Olson</td>\n",
       "      <td>2007-04-10</td>\n",
       "    </tr>\n",
       "    <tr>\n",
       "      <td>13</td>\n",
       "      <td>133</td>\n",
       "      <td>Jason</td>\n",
       "      <td>Mallin</td>\n",
       "      <td>2004-06-14</td>\n",
       "    </tr>\n",
       "    <tr>\n",
       "      <td>14</td>\n",
       "      <td>134</td>\n",
       "      <td>Michael</td>\n",
       "      <td>Rogers</td>\n",
       "      <td>2006-08-26</td>\n",
       "    </tr>\n",
       "    <tr>\n",
       "      <td>15</td>\n",
       "      <td>135</td>\n",
       "      <td>Ki</td>\n",
       "      <td>Gee</td>\n",
       "      <td>2007-12-12</td>\n",
       "    </tr>\n",
       "    <tr>\n",
       "      <td>16</td>\n",
       "      <td>136</td>\n",
       "      <td>Hazel</td>\n",
       "      <td>Philtanker</td>\n",
       "      <td>2008-02-06</td>\n",
       "    </tr>\n",
       "    <tr>\n",
       "      <td>17</td>\n",
       "      <td>137</td>\n",
       "      <td>Renske</td>\n",
       "      <td>Ladwig</td>\n",
       "      <td>2003-07-14</td>\n",
       "    </tr>\n",
       "    <tr>\n",
       "      <td>18</td>\n",
       "      <td>138</td>\n",
       "      <td>Stephen</td>\n",
       "      <td>Stiles</td>\n",
       "      <td>2005-10-26</td>\n",
       "    </tr>\n",
       "    <tr>\n",
       "      <td>0</td>\n",
       "      <td>141</td>\n",
       "      <td>Trenna</td>\n",
       "      <td>Rajs</td>\n",
       "      <td>2003-10-17</td>\n",
       "    </tr>\n",
       "    <tr>\n",
       "      <td>1</td>\n",
       "      <td>142</td>\n",
       "      <td>Curtis</td>\n",
       "      <td>Davies</td>\n",
       "      <td>2005-01-29</td>\n",
       "    </tr>\n",
       "    <tr>\n",
       "      <td>2</td>\n",
       "      <td>143</td>\n",
       "      <td>Randall</td>\n",
       "      <td>Matos</td>\n",
       "      <td>2006-03-15</td>\n",
       "    </tr>\n",
       "    <tr>\n",
       "      <td>3</td>\n",
       "      <td>144</td>\n",
       "      <td>Peter</td>\n",
       "      <td>Vargas</td>\n",
       "      <td>2006-07-09</td>\n",
       "    </tr>\n",
       "    <tr>\n",
       "      <td>4</td>\n",
       "      <td>145</td>\n",
       "      <td>John</td>\n",
       "      <td>Russell</td>\n",
       "      <td>2004-10-01</td>\n",
       "    </tr>\n",
       "    <tr>\n",
       "      <td>5</td>\n",
       "      <td>146</td>\n",
       "      <td>Karen</td>\n",
       "      <td>Partners</td>\n",
       "      <td>2005-01-05</td>\n",
       "    </tr>\n",
       "    <tr>\n",
       "      <td>6</td>\n",
       "      <td>147</td>\n",
       "      <td>Alberto</td>\n",
       "      <td>Errazuriz</td>\n",
       "      <td>2005-03-10</td>\n",
       "    </tr>\n",
       "    <tr>\n",
       "      <td>7</td>\n",
       "      <td>148</td>\n",
       "      <td>Gerald</td>\n",
       "      <td>Cambrault</td>\n",
       "      <td>2007-10-15</td>\n",
       "    </tr>\n",
       "    <tr>\n",
       "      <td>8</td>\n",
       "      <td>149</td>\n",
       "      <td>Eleni</td>\n",
       "      <td>Zlotkey</td>\n",
       "      <td>2008-01-29</td>\n",
       "    </tr>\n",
       "  </tbody>\n",
       "</table>\n",
       "</div>"
      ],
      "text/plain": [
       "    emp_id   first_name    last_name  hire_date\n",
       "0      100       Steven         King 2003-06-17\n",
       "1      101        Neena      Kochhar 2005-09-21\n",
       "2      102          Lex      De Haan 2001-01-13\n",
       "3      103    Alexander       Hunold 2006-01-03\n",
       "4      104        Bruce        Ernst 2007-05-21\n",
       "5      105        David       Austin 2005-06-25\n",
       "6      106        Valli    Pataballa 2006-02-05\n",
       "7      107        Diana      Lorentz 2007-02-07\n",
       "8      108        Nancy    Greenberg 2002-08-17\n",
       "9      109       Daniel       Faviet 2002-08-16\n",
       "10     110         John         Chen 2005-09-28\n",
       "11     111       Ismael      Sciarra 2005-09-30\n",
       "12     112  Jose Manuel        Urman 2006-03-07\n",
       "13     113         Luis         Popp 2007-12-07\n",
       "14     114          Den     Raphaely 2002-12-07\n",
       "15     115    Alexander         Khoo 2003-05-18\n",
       "16     116       Shelli        Baida 2005-12-24\n",
       "17     117        Sigal       Tobias 2005-07-24\n",
       "18     118          Guy       Himuro 2006-11-15\n",
       "19     119        Karen   Colmenares 2007-08-10\n",
       "0      120      Matthew        Weiss 2004-07-18\n",
       "1      121         Adam        Fripp 2005-04-10\n",
       "2      122        Payam     Kaufling 2003-05-01\n",
       "3      123       Shanta      Vollman 2005-10-10\n",
       "4      124        Kevin      Mourgos 2007-11-16\n",
       "5      125        Julia        Nayer 2005-07-16\n",
       "6      126        Irene  Mikkilineni 2006-09-28\n",
       "7      127        James       Landry 2007-01-14\n",
       "8      128       Steven       Markle 2008-03-08\n",
       "9      129        Laura       Bissot 2005-08-20\n",
       "10     130        Mozhe     Atkinson 2005-10-30\n",
       "11     131        James       Marlow 2005-02-16\n",
       "12     132           TJ        Olson 2007-04-10\n",
       "13     133        Jason       Mallin 2004-06-14\n",
       "14     134      Michael       Rogers 2006-08-26\n",
       "15     135           Ki          Gee 2007-12-12\n",
       "16     136        Hazel   Philtanker 2008-02-06\n",
       "17     137       Renske       Ladwig 2003-07-14\n",
       "18     138      Stephen       Stiles 2005-10-26\n",
       "0      141       Trenna         Rajs 2003-10-17\n",
       "1      142       Curtis       Davies 2005-01-29\n",
       "2      143      Randall        Matos 2006-03-15\n",
       "3      144        Peter       Vargas 2006-07-09\n",
       "4      145         John      Russell 2004-10-01\n",
       "5      146        Karen     Partners 2005-01-05\n",
       "6      147      Alberto    Errazuriz 2005-03-10\n",
       "7      148       Gerald    Cambrault 2007-10-15\n",
       "8      149        Eleni      Zlotkey 2008-01-29"
      ]
     },
     "execution_count": 149,
     "metadata": {},
     "output_type": "execute_result"
    }
   ],
   "source": [
    "df1 = pd.read_excel('D:\\employee.xlsx',sheet_name=0)\n",
    "df2 = pd.read_excel('D:\\employee.xlsx',sheet_name=1)\n",
    "df3 = pd.read_excel('D:\\employee.xlsx',sheet_name=2)\n",
    "df = pd.concat([df1, df2, df3])\n",
    "df"
   ]
  },
  {
   "cell_type": "markdown",
   "metadata": {},
   "source": [
    "### Q 122. Write a pandas program to import three datasheets from a given excel data (employee.xlsx ) into a single data frame and export the result into new Excel file."
   ]
  },
  {
   "cell_type": "code",
   "execution_count": 151,
   "metadata": {},
   "outputs": [
    {
     "data": {
      "text/html": [
       "<div>\n",
       "<style scoped>\n",
       "    .dataframe tbody tr th:only-of-type {\n",
       "        vertical-align: middle;\n",
       "    }\n",
       "\n",
       "    .dataframe tbody tr th {\n",
       "        vertical-align: top;\n",
       "    }\n",
       "\n",
       "    .dataframe thead th {\n",
       "        text-align: right;\n",
       "    }\n",
       "</style>\n",
       "<table border=\"1\" class=\"dataframe\">\n",
       "  <thead>\n",
       "    <tr style=\"text-align: right;\">\n",
       "      <th></th>\n",
       "      <th>emp_id</th>\n",
       "      <th>first_name</th>\n",
       "      <th>last_name</th>\n",
       "      <th>hire_date</th>\n",
       "    </tr>\n",
       "  </thead>\n",
       "  <tbody>\n",
       "    <tr>\n",
       "      <td>0</td>\n",
       "      <td>100</td>\n",
       "      <td>Steven</td>\n",
       "      <td>King</td>\n",
       "      <td>2003-06-17</td>\n",
       "    </tr>\n",
       "    <tr>\n",
       "      <td>1</td>\n",
       "      <td>101</td>\n",
       "      <td>Neena</td>\n",
       "      <td>Kochhar</td>\n",
       "      <td>2005-09-21</td>\n",
       "    </tr>\n",
       "    <tr>\n",
       "      <td>2</td>\n",
       "      <td>102</td>\n",
       "      <td>Lex</td>\n",
       "      <td>De Haan</td>\n",
       "      <td>2001-01-13</td>\n",
       "    </tr>\n",
       "    <tr>\n",
       "      <td>3</td>\n",
       "      <td>103</td>\n",
       "      <td>Alexander</td>\n",
       "      <td>Hunold</td>\n",
       "      <td>2006-01-03</td>\n",
       "    </tr>\n",
       "    <tr>\n",
       "      <td>4</td>\n",
       "      <td>104</td>\n",
       "      <td>Bruce</td>\n",
       "      <td>Ernst</td>\n",
       "      <td>2007-05-21</td>\n",
       "    </tr>\n",
       "    <tr>\n",
       "      <td>5</td>\n",
       "      <td>105</td>\n",
       "      <td>David</td>\n",
       "      <td>Austin</td>\n",
       "      <td>2005-06-25</td>\n",
       "    </tr>\n",
       "    <tr>\n",
       "      <td>6</td>\n",
       "      <td>106</td>\n",
       "      <td>Valli</td>\n",
       "      <td>Pataballa</td>\n",
       "      <td>2006-02-05</td>\n",
       "    </tr>\n",
       "    <tr>\n",
       "      <td>7</td>\n",
       "      <td>107</td>\n",
       "      <td>Diana</td>\n",
       "      <td>Lorentz</td>\n",
       "      <td>2007-02-07</td>\n",
       "    </tr>\n",
       "    <tr>\n",
       "      <td>8</td>\n",
       "      <td>108</td>\n",
       "      <td>Nancy</td>\n",
       "      <td>Greenberg</td>\n",
       "      <td>2002-08-17</td>\n",
       "    </tr>\n",
       "    <tr>\n",
       "      <td>9</td>\n",
       "      <td>109</td>\n",
       "      <td>Daniel</td>\n",
       "      <td>Faviet</td>\n",
       "      <td>2002-08-16</td>\n",
       "    </tr>\n",
       "    <tr>\n",
       "      <td>10</td>\n",
       "      <td>110</td>\n",
       "      <td>John</td>\n",
       "      <td>Chen</td>\n",
       "      <td>2005-09-28</td>\n",
       "    </tr>\n",
       "    <tr>\n",
       "      <td>11</td>\n",
       "      <td>111</td>\n",
       "      <td>Ismael</td>\n",
       "      <td>Sciarra</td>\n",
       "      <td>2005-09-30</td>\n",
       "    </tr>\n",
       "    <tr>\n",
       "      <td>12</td>\n",
       "      <td>112</td>\n",
       "      <td>Jose Manuel</td>\n",
       "      <td>Urman</td>\n",
       "      <td>2006-03-07</td>\n",
       "    </tr>\n",
       "    <tr>\n",
       "      <td>13</td>\n",
       "      <td>113</td>\n",
       "      <td>Luis</td>\n",
       "      <td>Popp</td>\n",
       "      <td>2007-12-07</td>\n",
       "    </tr>\n",
       "    <tr>\n",
       "      <td>14</td>\n",
       "      <td>114</td>\n",
       "      <td>Den</td>\n",
       "      <td>Raphaely</td>\n",
       "      <td>2002-12-07</td>\n",
       "    </tr>\n",
       "    <tr>\n",
       "      <td>15</td>\n",
       "      <td>115</td>\n",
       "      <td>Alexander</td>\n",
       "      <td>Khoo</td>\n",
       "      <td>2003-05-18</td>\n",
       "    </tr>\n",
       "    <tr>\n",
       "      <td>16</td>\n",
       "      <td>116</td>\n",
       "      <td>Shelli</td>\n",
       "      <td>Baida</td>\n",
       "      <td>2005-12-24</td>\n",
       "    </tr>\n",
       "    <tr>\n",
       "      <td>17</td>\n",
       "      <td>117</td>\n",
       "      <td>Sigal</td>\n",
       "      <td>Tobias</td>\n",
       "      <td>2005-07-24</td>\n",
       "    </tr>\n",
       "    <tr>\n",
       "      <td>18</td>\n",
       "      <td>118</td>\n",
       "      <td>Guy</td>\n",
       "      <td>Himuro</td>\n",
       "      <td>2006-11-15</td>\n",
       "    </tr>\n",
       "    <tr>\n",
       "      <td>19</td>\n",
       "      <td>119</td>\n",
       "      <td>Karen</td>\n",
       "      <td>Colmenares</td>\n",
       "      <td>2007-08-10</td>\n",
       "    </tr>\n",
       "    <tr>\n",
       "      <td>0</td>\n",
       "      <td>120</td>\n",
       "      <td>Matthew</td>\n",
       "      <td>Weiss</td>\n",
       "      <td>2004-07-18</td>\n",
       "    </tr>\n",
       "    <tr>\n",
       "      <td>1</td>\n",
       "      <td>121</td>\n",
       "      <td>Adam</td>\n",
       "      <td>Fripp</td>\n",
       "      <td>2005-04-10</td>\n",
       "    </tr>\n",
       "    <tr>\n",
       "      <td>2</td>\n",
       "      <td>122</td>\n",
       "      <td>Payam</td>\n",
       "      <td>Kaufling</td>\n",
       "      <td>2003-05-01</td>\n",
       "    </tr>\n",
       "    <tr>\n",
       "      <td>3</td>\n",
       "      <td>123</td>\n",
       "      <td>Shanta</td>\n",
       "      <td>Vollman</td>\n",
       "      <td>2005-10-10</td>\n",
       "    </tr>\n",
       "    <tr>\n",
       "      <td>4</td>\n",
       "      <td>124</td>\n",
       "      <td>Kevin</td>\n",
       "      <td>Mourgos</td>\n",
       "      <td>2007-11-16</td>\n",
       "    </tr>\n",
       "    <tr>\n",
       "      <td>5</td>\n",
       "      <td>125</td>\n",
       "      <td>Julia</td>\n",
       "      <td>Nayer</td>\n",
       "      <td>2005-07-16</td>\n",
       "    </tr>\n",
       "    <tr>\n",
       "      <td>6</td>\n",
       "      <td>126</td>\n",
       "      <td>Irene</td>\n",
       "      <td>Mikkilineni</td>\n",
       "      <td>2006-09-28</td>\n",
       "    </tr>\n",
       "    <tr>\n",
       "      <td>7</td>\n",
       "      <td>127</td>\n",
       "      <td>James</td>\n",
       "      <td>Landry</td>\n",
       "      <td>2007-01-14</td>\n",
       "    </tr>\n",
       "    <tr>\n",
       "      <td>8</td>\n",
       "      <td>128</td>\n",
       "      <td>Steven</td>\n",
       "      <td>Markle</td>\n",
       "      <td>2008-03-08</td>\n",
       "    </tr>\n",
       "    <tr>\n",
       "      <td>9</td>\n",
       "      <td>129</td>\n",
       "      <td>Laura</td>\n",
       "      <td>Bissot</td>\n",
       "      <td>2005-08-20</td>\n",
       "    </tr>\n",
       "    <tr>\n",
       "      <td>10</td>\n",
       "      <td>130</td>\n",
       "      <td>Mozhe</td>\n",
       "      <td>Atkinson</td>\n",
       "      <td>2005-10-30</td>\n",
       "    </tr>\n",
       "    <tr>\n",
       "      <td>11</td>\n",
       "      <td>131</td>\n",
       "      <td>James</td>\n",
       "      <td>Marlow</td>\n",
       "      <td>2005-02-16</td>\n",
       "    </tr>\n",
       "    <tr>\n",
       "      <td>12</td>\n",
       "      <td>132</td>\n",
       "      <td>TJ</td>\n",
       "      <td>Olson</td>\n",
       "      <td>2007-04-10</td>\n",
       "    </tr>\n",
       "    <tr>\n",
       "      <td>13</td>\n",
       "      <td>133</td>\n",
       "      <td>Jason</td>\n",
       "      <td>Mallin</td>\n",
       "      <td>2004-06-14</td>\n",
       "    </tr>\n",
       "    <tr>\n",
       "      <td>14</td>\n",
       "      <td>134</td>\n",
       "      <td>Michael</td>\n",
       "      <td>Rogers</td>\n",
       "      <td>2006-08-26</td>\n",
       "    </tr>\n",
       "    <tr>\n",
       "      <td>15</td>\n",
       "      <td>135</td>\n",
       "      <td>Ki</td>\n",
       "      <td>Gee</td>\n",
       "      <td>2007-12-12</td>\n",
       "    </tr>\n",
       "    <tr>\n",
       "      <td>16</td>\n",
       "      <td>136</td>\n",
       "      <td>Hazel</td>\n",
       "      <td>Philtanker</td>\n",
       "      <td>2008-02-06</td>\n",
       "    </tr>\n",
       "    <tr>\n",
       "      <td>17</td>\n",
       "      <td>137</td>\n",
       "      <td>Renske</td>\n",
       "      <td>Ladwig</td>\n",
       "      <td>2003-07-14</td>\n",
       "    </tr>\n",
       "    <tr>\n",
       "      <td>18</td>\n",
       "      <td>138</td>\n",
       "      <td>Stephen</td>\n",
       "      <td>Stiles</td>\n",
       "      <td>2005-10-26</td>\n",
       "    </tr>\n",
       "    <tr>\n",
       "      <td>0</td>\n",
       "      <td>141</td>\n",
       "      <td>Trenna</td>\n",
       "      <td>Rajs</td>\n",
       "      <td>2003-10-17</td>\n",
       "    </tr>\n",
       "    <tr>\n",
       "      <td>1</td>\n",
       "      <td>142</td>\n",
       "      <td>Curtis</td>\n",
       "      <td>Davies</td>\n",
       "      <td>2005-01-29</td>\n",
       "    </tr>\n",
       "    <tr>\n",
       "      <td>2</td>\n",
       "      <td>143</td>\n",
       "      <td>Randall</td>\n",
       "      <td>Matos</td>\n",
       "      <td>2006-03-15</td>\n",
       "    </tr>\n",
       "    <tr>\n",
       "      <td>3</td>\n",
       "      <td>144</td>\n",
       "      <td>Peter</td>\n",
       "      <td>Vargas</td>\n",
       "      <td>2006-07-09</td>\n",
       "    </tr>\n",
       "    <tr>\n",
       "      <td>4</td>\n",
       "      <td>145</td>\n",
       "      <td>John</td>\n",
       "      <td>Russell</td>\n",
       "      <td>2004-10-01</td>\n",
       "    </tr>\n",
       "    <tr>\n",
       "      <td>5</td>\n",
       "      <td>146</td>\n",
       "      <td>Karen</td>\n",
       "      <td>Partners</td>\n",
       "      <td>2005-01-05</td>\n",
       "    </tr>\n",
       "    <tr>\n",
       "      <td>6</td>\n",
       "      <td>147</td>\n",
       "      <td>Alberto</td>\n",
       "      <td>Errazuriz</td>\n",
       "      <td>2005-03-10</td>\n",
       "    </tr>\n",
       "    <tr>\n",
       "      <td>7</td>\n",
       "      <td>148</td>\n",
       "      <td>Gerald</td>\n",
       "      <td>Cambrault</td>\n",
       "      <td>2007-10-15</td>\n",
       "    </tr>\n",
       "    <tr>\n",
       "      <td>8</td>\n",
       "      <td>149</td>\n",
       "      <td>Eleni</td>\n",
       "      <td>Zlotkey</td>\n",
       "      <td>2008-01-29</td>\n",
       "    </tr>\n",
       "  </tbody>\n",
       "</table>\n",
       "</div>"
      ],
      "text/plain": [
       "    emp_id   first_name    last_name  hire_date\n",
       "0      100       Steven         King 2003-06-17\n",
       "1      101        Neena      Kochhar 2005-09-21\n",
       "2      102          Lex      De Haan 2001-01-13\n",
       "3      103    Alexander       Hunold 2006-01-03\n",
       "4      104        Bruce        Ernst 2007-05-21\n",
       "5      105        David       Austin 2005-06-25\n",
       "6      106        Valli    Pataballa 2006-02-05\n",
       "7      107        Diana      Lorentz 2007-02-07\n",
       "8      108        Nancy    Greenberg 2002-08-17\n",
       "9      109       Daniel       Faviet 2002-08-16\n",
       "10     110         John         Chen 2005-09-28\n",
       "11     111       Ismael      Sciarra 2005-09-30\n",
       "12     112  Jose Manuel        Urman 2006-03-07\n",
       "13     113         Luis         Popp 2007-12-07\n",
       "14     114          Den     Raphaely 2002-12-07\n",
       "15     115    Alexander         Khoo 2003-05-18\n",
       "16     116       Shelli        Baida 2005-12-24\n",
       "17     117        Sigal       Tobias 2005-07-24\n",
       "18     118          Guy       Himuro 2006-11-15\n",
       "19     119        Karen   Colmenares 2007-08-10\n",
       "0      120      Matthew        Weiss 2004-07-18\n",
       "1      121         Adam        Fripp 2005-04-10\n",
       "2      122        Payam     Kaufling 2003-05-01\n",
       "3      123       Shanta      Vollman 2005-10-10\n",
       "4      124        Kevin      Mourgos 2007-11-16\n",
       "5      125        Julia        Nayer 2005-07-16\n",
       "6      126        Irene  Mikkilineni 2006-09-28\n",
       "7      127        James       Landry 2007-01-14\n",
       "8      128       Steven       Markle 2008-03-08\n",
       "9      129        Laura       Bissot 2005-08-20\n",
       "10     130        Mozhe     Atkinson 2005-10-30\n",
       "11     131        James       Marlow 2005-02-16\n",
       "12     132           TJ        Olson 2007-04-10\n",
       "13     133        Jason       Mallin 2004-06-14\n",
       "14     134      Michael       Rogers 2006-08-26\n",
       "15     135           Ki          Gee 2007-12-12\n",
       "16     136        Hazel   Philtanker 2008-02-06\n",
       "17     137       Renske       Ladwig 2003-07-14\n",
       "18     138      Stephen       Stiles 2005-10-26\n",
       "0      141       Trenna         Rajs 2003-10-17\n",
       "1      142       Curtis       Davies 2005-01-29\n",
       "2      143      Randall        Matos 2006-03-15\n",
       "3      144        Peter       Vargas 2006-07-09\n",
       "4      145         John      Russell 2004-10-01\n",
       "5      146        Karen     Partners 2005-01-05\n",
       "6      147      Alberto    Errazuriz 2005-03-10\n",
       "7      148       Gerald    Cambrault 2007-10-15\n",
       "8      149        Eleni      Zlotkey 2008-01-29"
      ]
     },
     "execution_count": 151,
     "metadata": {},
     "output_type": "execute_result"
    }
   ],
   "source": [
    "df.to_excel('D:/temp.xlsx',index = False)\n",
    "df"
   ]
  },
  {
   "cell_type": "markdown",
   "metadata": {},
   "source": [
    "### Q123. Write a pandas program to create the Pivot table with multiple indexes from the data set of the titanic.csv"
   ]
  },
  {
   "cell_type": "code",
   "execution_count": 152,
   "metadata": {},
   "outputs": [
    {
     "name": "stdout",
     "output_type": "stream",
     "text": [
      "              Unnamed: 15  adult_male  alone      fare  parch  pclass  sibsp  survived\n",
      "sex    age                                                                            \n",
      "female 0.75           0.0         0.0    0.0   38.5166      2       6      4         2\n",
      "       1.00           0.0         0.0    0.0   26.8750      3       6      1         2\n",
      "       2.00           0.0         0.0    0.0  259.4750      9      15      9         2\n",
      "       3.00           0.0         0.0    0.0   62.6542      3       5      4         1\n",
      "       4.00           0.0         0.0    0.0  114.1417      6      13      4         5\n",
      "       5.00           0.0         0.0    1.0   90.8708      5      11      7         4\n",
      "       6.00           0.0         0.0    0.0   64.2750      3       5      4         1\n",
      "       7.00           0.0         0.0    0.0   26.2500      2       2      0         1\n",
      "       8.00           0.0         0.0    0.0   47.3250      3       5      3         1\n",
      "       9.00           0.0         0.0    0.0  108.7958      7      12     10         0\n",
      "       10.00          0.0         0.0    0.0   24.1500      2       3      0         0\n",
      "       11.00          0.0         0.0    0.0   31.2750      2       3      4         0\n",
      "       13.00          0.0         0.0    1.0   26.7292      1       5      0         2\n",
      "       14.00          0.0         0.0    1.0  169.1667      2       9      3         3\n",
      "       14.50          0.0         0.0    0.0   14.4542      0       3      1         0\n",
      "       15.00          0.0         0.0    2.0  241.0459      1      10      1         4\n",
      "       16.00          0.0         0.0    3.0  246.2625      4      12      5         5\n",
      "       17.00          0.0         0.0    3.0  210.7833      2      12      6         5\n",
      "       18.00          0.0         0.0    4.0  697.0167      9      31      6         8\n",
      "       19.00          0.0         0.0    3.0  215.0959      2      13      3         7\n",
      "       20.00          0.0         0.0    1.0   18.4875      0       6      1         0\n",
      "       21.00          0.0         0.0    4.0  410.4333      4      16      5         4\n",
      "       22.00          0.0         0.0    7.0  444.1084      6      26      3        10\n",
      "       23.00          0.0         0.0    3.0  405.5417      2      10      4         4\n",
      "       24.00          0.0         0.0    7.0  772.1708     15      31     10        14\n",
      "       25.00          0.0         0.0    1.0  223.2500      4      11      3         2\n",
      "       26.00          0.0         0.0    3.0  136.7292      1      12      2         3\n",
      "       27.00          0.0         0.0    2.0   76.8916      3      15      2         5\n",
      "       28.00          0.0         0.0    4.0  110.9458      1      16      3         5\n",
      "       29.00          0.0         0.0    2.0  320.6208      7      16      3         5\n",
      "       30.00          0.0         0.0    9.0  465.9917      1      20      4         9\n",
      "       30.50          0.0         0.0    1.0    7.7500      0       3      0         0\n",
      "       31.00          0.0         0.0    2.0  359.4542      4      16      4         5\n",
      "       32.00          0.0         0.0    2.0  104.7917      1       6      1         2\n",
      "       32.50          0.0         0.0    1.0   13.0000      0       2      0         1\n",
      "       33.00          0.0         0.0    1.0  299.2000      4      10      6         6\n",
      "       34.00          0.0         0.0    2.0   79.0000      2       8      1         4\n",
      "       35.00          0.0         0.0    3.0  967.7875      1      11      5         8\n",
      "       36.00          0.0         0.0    3.0  396.0333      4      12      3         7\n",
      "       37.00          0.0         0.0    1.0    9.5875      0       3      0         0\n",
      "       38.00          0.0         0.0    3.0  423.1958      5       8      2         4\n",
      "       39.00          0.0         0.0    0.0  389.9916     13      10      5         4\n",
      "       40.00          0.0         0.0    3.0  365.1875      2      11      3         5\n",
      "       41.00          0.0         0.0    1.0  213.9000      8       9      0         2\n",
      "       42.00          0.0         0.0    2.0  266.5250      0       5      1         3\n",
      "       43.00          0.0         0.0    0.0  258.2375      7       4      1         1\n",
      "       44.00          0.0         0.0    1.0  111.7000      1       4      1         2\n",
      "       45.00          0.0         0.0    2.0  254.7209      7      14      3         3\n",
      "       47.00          0.0         0.0    0.0   67.0542      1       4      2         1\n",
      "       48.00          0.0         0.0    1.0  164.9042      5       7      3         3\n",
      "       49.00          0.0         0.0    1.0  102.6584      0       2      1         2\n",
      "       50.00          0.0         0.0    3.0  323.2333      2       8      0         4\n",
      "       51.00          0.0         0.0    0.0   77.9583      0       1      1         1\n",
      "       52.00          0.0         0.0    0.0  171.7667      1       2      2         2\n",
      "       53.00          0.0         0.0    0.0   51.4792      0       1      2         1\n",
      "       54.00          0.0         0.0    0.0  160.6667      3       4      3         3\n",
      "       55.00          0.0         0.0    1.0   16.0000      0       2      0         1\n",
      "       56.00          0.0         0.0    0.0   83.1583      1       1      0         1\n",
      "       57.00          0.0         0.0    1.0   10.5000      0       2      0         0\n",
      "       58.00          0.0         0.0    2.0  326.5333      1       3      0         3\n",
      "       60.00          0.0         0.0    0.0   75.2500      0       1      1         1\n",
      "       62.00          0.0         0.0    1.0   80.0000      0       1      0         1\n",
      "       63.00          0.0         0.0    1.0   87.5458      0       4      1         2\n",
      "male   0.42           0.0         0.0    0.0    8.5167      1       3      0         1\n",
      "       0.67           0.0         0.0    0.0   14.5000      1       2      1         1\n",
      "       0.83           0.0         0.0    0.0   47.7500      3       4      1         2\n",
      "       0.92           0.0         0.0    0.0  151.5500      2       1      1         1\n",
      "       1.00           0.0         0.0    0.0  183.1667      8      13     12         3\n",
      "       2.00           0.0         0.0    0.0  115.8875      4      11     12         1\n",
      "       3.00           0.0         0.0    0.0   92.0375      5      10      7         4\n",
      "       4.00           0.0         0.0    0.0  181.2916      8      13     12         2\n",
      "       6.00           0.0         0.0    0.0   12.4750      1       3      0         1\n",
      "       7.00           0.0         0.0    0.0   68.8125      2       6      8         0\n",
      "       8.00           0.0         0.0    0.0   65.8750      2       5      5         1\n",
      "       9.00           0.0         0.0    0.0  114.7125      7      12     10         2\n",
      "       10.00          0.0         0.0    0.0   27.9000      2       3      3         0\n",
      "       11.00          0.0         0.0    1.0  185.6875      4       7      6         1\n",
      "       12.00          0.0         0.0    0.0   11.2417      0       3      1         1\n",
      "       14.00          0.0         0.0    0.0   86.5875      3       6      9         0\n",
      "       15.00          0.0         0.0    0.0    7.2292      1       3      1         0\n",
      "       16.00          0.0        11.0    7.0  191.4042      5      31      8         1\n",
      "       17.00          0.0         7.0    4.0  158.2792      3      19      2         1\n",
      "       18.00          0.0        13.0    9.0  292.6333      2      33      4         1\n",
      "       19.00          0.0        18.0   15.0  481.6415      3      46      5         2\n",
      "       20.00          0.0        13.0   11.0  110.8751      1      39      2         3\n",
      "       20.50          0.0         1.0    1.0    7.2500      0       3      0         0\n",
      "       21.00          0.0        17.0   14.0  347.1416      1      46      3         1\n",
      "       22.00          0.0        15.0   14.0  244.5207      0      43      1         1\n",
      "       23.00          0.0        10.0    8.0  164.3791      2      22      2         1\n",
      "       23.50          0.0         1.0    1.0    7.2292      0       3      0         0\n",
      "       24.00          0.0        14.0   10.0  518.8999      1      35      5         1\n",
      "       24.50          0.0         1.0    1.0    8.0500      0       3      0         0\n",
      "       25.00          0.0        18.0   11.0  338.3126      2      45      7         4\n",
      "       26.00          0.0        13.0    9.0  206.8333      2      36      5         3\n",
      "       27.00          0.0        12.0    9.0  469.6125      2      25      2         6\n",
      "       28.00          0.0        18.0   14.0  414.5582      1      42      4         2\n",
      "       28.50          0.0         2.0    2.0   23.3292      0       6      0         0\n",
      "       29.00          0.0        13.0    9.0  221.1957      0      32      4         3\n",
      "       30.00          0.0        14.0   12.0  172.5500      0      35      2         1\n",
      "       30.50          0.0         1.0    1.0    8.0500      0       3      0         0\n",
      "       31.00          0.0        10.0    6.0  269.7000      2      20      4         3\n",
      "       32.00          0.0        15.0   12.0  333.0291      0      40      4         7\n",
      "       32.50          0.0         1.0    0.0   30.0708      0       2      1         0\n",
      "       33.00          0.0         9.0    8.0   88.1833      1      24      1         0\n",
      "       34.00          0.0        11.0    7.0  170.5458      1      25      4         2\n",
      "       34.50          0.0         1.0    1.0    6.4375      0       3      0         0\n",
      "       35.00          0.0        10.0   10.0  639.8375      0      22      0         3\n",
      "       36.00          0.0        15.0    9.0  923.1958      6      29      5         4\n",
      "       36.50          0.0         1.0    0.0   26.0000      2       2      0         0\n",
      "       37.00          0.0         5.0    0.0  169.2792      2       8      5         1\n",
      "       38.00          0.0         6.0    4.0  267.0708      1      12      1         1\n",
      "       39.00          0.0         8.0    7.0  123.2750      5      19      1         1\n",
      "       40.00          0.0         7.0    5.0  117.2416      5      15      2         1\n",
      "       40.50          0.0         2.0    1.0   22.2500      2       6      0         0\n",
      "       41.00          0.0         2.0    1.0   21.2333      0       6      2         0\n",
      "       42.00          0.0        10.0    6.0  216.1084      1      21      3         3\n",
      "       43.00          0.0         3.0    2.0   40.7500      1       8      1         0\n",
      "       44.00          0.0         6.0    3.0  156.1250      1      15      3         1\n",
      "       45.00          0.0         6.0    5.0  187.1000      0      10      1         2\n",
      "       45.50          0.0         2.0    2.0   35.7250      0       4      0         0\n",
      "       46.00          0.0         3.0    2.0  166.3750      0       4      1         0\n",
      "       47.00          0.0         7.0    7.0  181.3583      0      12      0         0\n",
      "       48.00          0.0         5.0    3.0  176.1334      0       8      2         3\n",
      "       49.00          0.0         4.0    1.0  256.9167      1       6      3         2\n",
      "       50.00          0.0         5.0    2.0  317.0250      0       8      4         1\n",
      "       51.00          0.0         6.0    5.0  123.3084      1      13      0         1\n",
      "       52.00          0.0         4.0    3.0  136.6500      1       6      1         1\n",
      "       54.00          0.0         5.0    3.0  195.1500      1       8      1         0\n",
      "       55.00          0.0         1.0    1.0   30.5000      0       1      0         0\n",
      "       55.50          0.0         1.0    1.0    8.0500      0       3      0         0\n",
      "       56.00          0.0         3.0    3.0   92.7458      0       3      0         1\n",
      "       57.00          0.0         1.0    1.0   12.3500      0       2      0         0\n",
      "       58.00          0.0         2.0    1.0  142.9750      2       2      0         0\n",
      "       59.00          0.0         2.0    2.0   20.7500      0       5      0         0\n",
      "       60.00          0.0         3.0    1.0  144.7500      2       4      2         1\n",
      "       61.00          0.0         3.0    3.0   72.0583      0       5      0         0\n",
      "       62.00          0.0         3.0    3.0   63.6000      0       4      0         1\n",
      "       64.00          0.0         2.0    1.0  289.0000      4       2      1         0\n",
      "       65.00          0.0         3.0    2.0   96.2792      1       5      0         0\n",
      "       66.00          0.0         1.0    1.0   10.5000      0       2      0         0\n",
      "       70.00          0.0         2.0    1.0   81.5000      1       3      1         0\n",
      "       70.50          0.0         1.0    1.0    7.7500      0       3      0         0\n",
      "       71.00          0.0         2.0    2.0   84.1584      0       2      0         0\n",
      "       74.00          0.0         1.0    1.0    7.7750      0       3      0         0\n",
      "       80.00          0.0         1.0    1.0   30.0000      0       1      0         1\n"
     ]
    }
   ],
   "source": [
    "df = pd.read_csv('D:/titanic.csv')\n",
    "result = pd.pivot_table(df, index = [\"sex\",\"age\"],aggfunc = np.sum)\n",
    "print(result)"
   ]
  },
  {
   "cell_type": "markdown",
   "metadata": {},
   "source": [
    "### Q124. Write a Pandas program to create the Pivot table and find survival rate by gender?"
   ]
  },
  {
   "cell_type": "code",
   "execution_count": 153,
   "metadata": {},
   "outputs": [
    {
     "data": {
      "text/html": [
       "<div>\n",
       "<style scoped>\n",
       "    .dataframe tbody tr th:only-of-type {\n",
       "        vertical-align: middle;\n",
       "    }\n",
       "\n",
       "    .dataframe tbody tr th {\n",
       "        vertical-align: top;\n",
       "    }\n",
       "\n",
       "    .dataframe thead th {\n",
       "        text-align: right;\n",
       "    }\n",
       "</style>\n",
       "<table border=\"1\" class=\"dataframe\">\n",
       "  <thead>\n",
       "    <tr style=\"text-align: right;\">\n",
       "      <th></th>\n",
       "      <th>survived</th>\n",
       "    </tr>\n",
       "    <tr>\n",
       "      <th>sex</th>\n",
       "      <th></th>\n",
       "    </tr>\n",
       "  </thead>\n",
       "  <tbody>\n",
       "    <tr>\n",
       "      <td>female</td>\n",
       "      <td>0.742038</td>\n",
       "    </tr>\n",
       "    <tr>\n",
       "      <td>male</td>\n",
       "      <td>0.188908</td>\n",
       "    </tr>\n",
       "  </tbody>\n",
       "</table>\n",
       "</div>"
      ],
      "text/plain": [
       "        survived\n",
       "sex             \n",
       "female  0.742038\n",
       "male    0.188908"
      ]
     },
     "execution_count": 153,
     "metadata": {},
     "output_type": "execute_result"
    }
   ],
   "source": [
    "f = df.groupby('sex')[['survived']].mean()\n",
    "f"
   ]
  },
  {
   "cell_type": "markdown",
   "metadata": {},
   "source": [
    "### Q125. Write a pandas program to make partition each of the passengers into 4 categories based on their age."
   ]
  },
  {
   "cell_type": "code",
   "execution_count": 154,
   "metadata": {},
   "outputs": [
    {
     "data": {
      "text/plain": [
       "0      (10.0, 30.0]\n",
       "1      (30.0, 60.0]\n",
       "2      (10.0, 30.0]\n",
       "3      (30.0, 60.0]\n",
       "4      (30.0, 60.0]\n",
       "           ...     \n",
       "886    (10.0, 30.0]\n",
       "887    (10.0, 30.0]\n",
       "888             NaN\n",
       "889    (10.0, 30.0]\n",
       "890    (30.0, 60.0]\n",
       "Name: age, Length: 891, dtype: category\n",
       "Categories (4, interval[int64]): [(0, 10] < (10, 30] < (30, 60] < (60, 80]]"
      ]
     },
     "execution_count": 154,
     "metadata": {},
     "output_type": "execute_result"
    }
   ],
   "source": [
    "t = pd.cut(df['age'], [0, 10, 30, 60, 80])\n",
    "t"
   ]
  },
  {
   "cell_type": "markdown",
   "metadata": {},
   "source": [
    "### Q126. Write a pandas program to create the Pivot table and find survival rate by the gender, age of the different categories of various classes."
   ]
  },
  {
   "cell_type": "code",
   "execution_count": 156,
   "metadata": {},
   "outputs": [
    {
     "data": {
      "text/html": [
       "<div>\n",
       "<style scoped>\n",
       "    .dataframe tbody tr th:only-of-type {\n",
       "        vertical-align: middle;\n",
       "    }\n",
       "\n",
       "    .dataframe tbody tr th {\n",
       "        vertical-align: top;\n",
       "    }\n",
       "\n",
       "    .dataframe thead th {\n",
       "        text-align: right;\n",
       "    }\n",
       "</style>\n",
       "<table border=\"1\" class=\"dataframe\">\n",
       "  <thead>\n",
       "    <tr style=\"text-align: right;\">\n",
       "      <th></th>\n",
       "      <th>class</th>\n",
       "      <th>First</th>\n",
       "      <th>Second</th>\n",
       "      <th>Third</th>\n",
       "    </tr>\n",
       "    <tr>\n",
       "      <th>sex</th>\n",
       "      <th>age</th>\n",
       "      <th></th>\n",
       "      <th></th>\n",
       "      <th></th>\n",
       "    </tr>\n",
       "  </thead>\n",
       "  <tbody>\n",
       "    <tr>\n",
       "      <td rowspan=\"2\" valign=\"top\">female</td>\n",
       "      <td>(0, 20]</td>\n",
       "      <td>0.928571</td>\n",
       "      <td>1.000000</td>\n",
       "      <td>0.510638</td>\n",
       "    </tr>\n",
       "    <tr>\n",
       "      <td>(20, 55]</td>\n",
       "      <td>0.968750</td>\n",
       "      <td>0.912281</td>\n",
       "      <td>0.407407</td>\n",
       "    </tr>\n",
       "    <tr>\n",
       "      <td rowspan=\"2\" valign=\"top\">male</td>\n",
       "      <td>(0, 20]</td>\n",
       "      <td>0.571429</td>\n",
       "      <td>0.526316</td>\n",
       "      <td>0.197368</td>\n",
       "    </tr>\n",
       "    <tr>\n",
       "      <td>(20, 55]</td>\n",
       "      <td>0.440000</td>\n",
       "      <td>0.054054</td>\n",
       "      <td>0.134503</td>\n",
       "    </tr>\n",
       "  </tbody>\n",
       "</table>\n",
       "</div>"
      ],
      "text/plain": [
       "class               First    Second     Third\n",
       "sex    age                                   \n",
       "female (0, 20]   0.928571  1.000000  0.510638\n",
       "       (20, 55]  0.968750  0.912281  0.407407\n",
       "male   (0, 20]   0.571429  0.526316  0.197368\n",
       "       (20, 55]  0.440000  0.054054  0.134503"
      ]
     },
     "execution_count": 156,
     "metadata": {},
     "output_type": "execute_result"
    }
   ],
   "source": [
    "age = pd.cut(df['age'], [0, 20, 55])\n",
    "result = df.pivot_table('survived', index=['sex', age], columns='class')\n",
    "result"
   ]
  },
  {
   "cell_type": "markdown",
   "metadata": {},
   "source": [
    "### Q127. Write a pandas program to create the Pivot table and calculate number of women and men were in a particular cabin class."
   ]
  },
  {
   "cell_type": "code",
   "execution_count": 157,
   "metadata": {},
   "outputs": [
    {
     "data": {
      "text/html": [
       "<div>\n",
       "<style scoped>\n",
       "    .dataframe tbody tr th:only-of-type {\n",
       "        vertical-align: middle;\n",
       "    }\n",
       "\n",
       "    .dataframe tbody tr th {\n",
       "        vertical-align: top;\n",
       "    }\n",
       "\n",
       "    .dataframe thead tr th {\n",
       "        text-align: left;\n",
       "    }\n",
       "\n",
       "    .dataframe thead tr:last-of-type th {\n",
       "        text-align: right;\n",
       "    }\n",
       "</style>\n",
       "<table border=\"1\" class=\"dataframe\">\n",
       "  <thead>\n",
       "    <tr>\n",
       "      <th></th>\n",
       "      <th colspan=\"3\" halign=\"left\">Unnamed: 15</th>\n",
       "      <th colspan=\"3\" halign=\"left\">adult_male</th>\n",
       "      <th colspan=\"3\" halign=\"left\">age</th>\n",
       "      <th colspan=\"3\" halign=\"left\">alive</th>\n",
       "      <th colspan=\"3\" halign=\"left\">alone</th>\n",
       "      <th colspan=\"3\" halign=\"left\">class</th>\n",
       "      <th colspan=\"3\" halign=\"left\">deck</th>\n",
       "      <th colspan=\"3\" halign=\"left\">embark_town</th>\n",
       "      <th colspan=\"3\" halign=\"left\">embarked</th>\n",
       "      <th colspan=\"3\" halign=\"left\">fare</th>\n",
       "      <th colspan=\"3\" halign=\"left\">parch</th>\n",
       "      <th colspan=\"3\" halign=\"left\">sibsp</th>\n",
       "      <th colspan=\"3\" halign=\"left\">survived</th>\n",
       "      <th colspan=\"3\" halign=\"left\">who</th>\n",
       "    </tr>\n",
       "    <tr>\n",
       "      <th>pclass</th>\n",
       "      <th>1</th>\n",
       "      <th>2</th>\n",
       "      <th>3</th>\n",
       "      <th>1</th>\n",
       "      <th>2</th>\n",
       "      <th>3</th>\n",
       "      <th>1</th>\n",
       "      <th>2</th>\n",
       "      <th>3</th>\n",
       "      <th>1</th>\n",
       "      <th>2</th>\n",
       "      <th>3</th>\n",
       "      <th>1</th>\n",
       "      <th>2</th>\n",
       "      <th>3</th>\n",
       "      <th>1</th>\n",
       "      <th>2</th>\n",
       "      <th>3</th>\n",
       "      <th>1</th>\n",
       "      <th>2</th>\n",
       "      <th>3</th>\n",
       "      <th>1</th>\n",
       "      <th>2</th>\n",
       "      <th>3</th>\n",
       "      <th>1</th>\n",
       "      <th>2</th>\n",
       "      <th>3</th>\n",
       "      <th>1</th>\n",
       "      <th>2</th>\n",
       "      <th>3</th>\n",
       "      <th>1</th>\n",
       "      <th>2</th>\n",
       "      <th>3</th>\n",
       "      <th>1</th>\n",
       "      <th>2</th>\n",
       "      <th>3</th>\n",
       "      <th>1</th>\n",
       "      <th>2</th>\n",
       "      <th>3</th>\n",
       "      <th>1</th>\n",
       "      <th>2</th>\n",
       "      <th>3</th>\n",
       "    </tr>\n",
       "    <tr>\n",
       "      <th>sex</th>\n",
       "      <th></th>\n",
       "      <th></th>\n",
       "      <th></th>\n",
       "      <th></th>\n",
       "      <th></th>\n",
       "      <th></th>\n",
       "      <th></th>\n",
       "      <th></th>\n",
       "      <th></th>\n",
       "      <th></th>\n",
       "      <th></th>\n",
       "      <th></th>\n",
       "      <th></th>\n",
       "      <th></th>\n",
       "      <th></th>\n",
       "      <th></th>\n",
       "      <th></th>\n",
       "      <th></th>\n",
       "      <th></th>\n",
       "      <th></th>\n",
       "      <th></th>\n",
       "      <th></th>\n",
       "      <th></th>\n",
       "      <th></th>\n",
       "      <th></th>\n",
       "      <th></th>\n",
       "      <th></th>\n",
       "      <th></th>\n",
       "      <th></th>\n",
       "      <th></th>\n",
       "      <th></th>\n",
       "      <th></th>\n",
       "      <th></th>\n",
       "      <th></th>\n",
       "      <th></th>\n",
       "      <th></th>\n",
       "      <th></th>\n",
       "      <th></th>\n",
       "      <th></th>\n",
       "      <th></th>\n",
       "      <th></th>\n",
       "      <th></th>\n",
       "    </tr>\n",
       "  </thead>\n",
       "  <tbody>\n",
       "    <tr>\n",
       "      <td>female</td>\n",
       "      <td>0</td>\n",
       "      <td>0</td>\n",
       "      <td>0</td>\n",
       "      <td>94</td>\n",
       "      <td>76</td>\n",
       "      <td>144</td>\n",
       "      <td>85</td>\n",
       "      <td>74</td>\n",
       "      <td>102</td>\n",
       "      <td>94</td>\n",
       "      <td>76</td>\n",
       "      <td>144</td>\n",
       "      <td>94</td>\n",
       "      <td>76</td>\n",
       "      <td>144</td>\n",
       "      <td>94</td>\n",
       "      <td>76</td>\n",
       "      <td>144</td>\n",
       "      <td>81</td>\n",
       "      <td>10</td>\n",
       "      <td>6</td>\n",
       "      <td>92</td>\n",
       "      <td>76</td>\n",
       "      <td>144</td>\n",
       "      <td>92</td>\n",
       "      <td>76</td>\n",
       "      <td>144</td>\n",
       "      <td>94</td>\n",
       "      <td>76</td>\n",
       "      <td>144</td>\n",
       "      <td>94</td>\n",
       "      <td>76</td>\n",
       "      <td>144</td>\n",
       "      <td>94</td>\n",
       "      <td>76</td>\n",
       "      <td>144</td>\n",
       "      <td>94</td>\n",
       "      <td>76</td>\n",
       "      <td>144</td>\n",
       "      <td>94</td>\n",
       "      <td>76</td>\n",
       "      <td>144</td>\n",
       "    </tr>\n",
       "    <tr>\n",
       "      <td>male</td>\n",
       "      <td>0</td>\n",
       "      <td>0</td>\n",
       "      <td>0</td>\n",
       "      <td>122</td>\n",
       "      <td>108</td>\n",
       "      <td>347</td>\n",
       "      <td>101</td>\n",
       "      <td>99</td>\n",
       "      <td>253</td>\n",
       "      <td>122</td>\n",
       "      <td>108</td>\n",
       "      <td>347</td>\n",
       "      <td>122</td>\n",
       "      <td>108</td>\n",
       "      <td>347</td>\n",
       "      <td>122</td>\n",
       "      <td>108</td>\n",
       "      <td>347</td>\n",
       "      <td>94</td>\n",
       "      <td>6</td>\n",
       "      <td>6</td>\n",
       "      <td>122</td>\n",
       "      <td>108</td>\n",
       "      <td>347</td>\n",
       "      <td>122</td>\n",
       "      <td>108</td>\n",
       "      <td>347</td>\n",
       "      <td>122</td>\n",
       "      <td>108</td>\n",
       "      <td>347</td>\n",
       "      <td>122</td>\n",
       "      <td>108</td>\n",
       "      <td>347</td>\n",
       "      <td>122</td>\n",
       "      <td>108</td>\n",
       "      <td>347</td>\n",
       "      <td>122</td>\n",
       "      <td>108</td>\n",
       "      <td>347</td>\n",
       "      <td>122</td>\n",
       "      <td>108</td>\n",
       "      <td>347</td>\n",
       "    </tr>\n",
       "  </tbody>\n",
       "</table>\n",
       "</div>"
      ],
      "text/plain": [
       "       Unnamed: 15       adult_male            age          alive           alone           class           deck        embark_town           embarked           fare           parch           sibsp           survived            who          \n",
       "pclass           1  2  3          1    2    3    1   2    3     1    2    3     1    2    3     1    2    3    1   2  3           1    2    3        1    2    3    1    2    3     1    2    3     1    2    3        1    2    3    1    2    3\n",
       "sex                                                                                                                                                                                                                                              \n",
       "female           0  0  0         94   76  144   85  74  102    94   76  144    94   76  144    94   76  144   81  10  6          92   76  144       92   76  144   94   76  144    94   76  144    94   76  144       94   76  144   94   76  144\n",
       "male             0  0  0        122  108  347  101  99  253   122  108  347   122  108  347   122  108  347   94   6  6         122  108  347      122  108  347  122  108  347   122  108  347   122  108  347      122  108  347  122  108  347"
      ]
     },
     "execution_count": 157,
     "metadata": {},
     "output_type": "execute_result"
    }
   ],
   "source": [
    "s = df.pivot_table(index=['sex'], columns=['pclass'], aggfunc='count')\n",
    "s"
   ]
  },
  {
   "cell_type": "markdown",
   "metadata": {},
   "source": [
    "### Q128. Write a pandas program to create the Pivot table and separate the gender according to whether they travelled alone or not to get the probability of survival"
   ]
  },
  {
   "cell_type": "code",
   "execution_count": 158,
   "metadata": {},
   "outputs": [
    {
     "name": "stdout",
     "output_type": "stream",
     "text": [
      "class            First    Second     Third\n",
      "sex    alone                              \n",
      "female False  0.966667  0.931818  0.416667\n",
      "       True   0.970588  0.906250  0.616667\n",
      "male   False  0.425532  0.277778  0.180723\n",
      "       True   0.333333  0.097222  0.121212\n"
     ]
    }
   ],
   "source": [
    "result = df.pivot_table( 'survived' , [ 'sex' , 'alone' ] , 'class' )\n",
    "print(result)"
   ]
  },
  {
   "cell_type": "markdown",
   "metadata": {},
   "source": [
    "### Q129. Write a pandas program to create the Pivot table and find the probability of survival by class, gender, solo boarding, and the port of embarkation."
   ]
  },
  {
   "cell_type": "code",
   "execution_count": 159,
   "metadata": {},
   "outputs": [
    {
     "name": "stdout",
     "output_type": "stream",
     "text": [
      "embark_town  Cherbourg                     Queenstown                  Southampton                    \n",
      "class            First    Second     Third      First Second     Third       First    Second     Third\n",
      "sex    alone                                                                                          \n",
      "female False  1.000000  1.000000  0.611111        1.0    NaN  0.625000    0.941176  0.923077  0.327586\n",
      "       True   0.944444  1.000000  0.800000        NaN    1.0  0.760000    1.000000  0.892857  0.466667\n",
      "male   False  0.473684  0.166667  0.500000        0.0    NaN  0.100000    0.407407  0.300000  0.142857\n",
      "       True   0.347826  0.250000  0.151515        NaN    0.0  0.068966    0.326923  0.089552  0.123762\n"
     ]
    }
   ],
   "source": [
    "u = df.pivot_table('survived', ['sex' , 'alone' ], [ 'embark_town', 'class' ])\n",
    "print(u)"
   ]
  },
  {
   "cell_type": "markdown",
   "metadata": {},
   "source": [
    "### Q130. Write a pandas program to get current date, oldest date and number of days between Current date and the oldest date of Ufo dataset."
   ]
  },
  {
   "cell_type": "code",
   "execution_count": 2,
   "metadata": {},
   "outputs": [
    {
     "name": "stderr",
     "output_type": "stream",
     "text": [
      "C:\\Users\\Chaitanya\\Anaconda3\\lib\\site-packages\\IPython\\core\\interactiveshell.py:3058: DtypeWarning: Columns (5,9) have mixed types. Specify dtype option on import or set low_memory=False.\n",
      "  interactivity=interactivity, compiler=compiler, result=result)\n"
     ]
    },
    {
     "data": {
      "text/html": [
       "<div>\n",
       "<style scoped>\n",
       "    .dataframe tbody tr th:only-of-type {\n",
       "        vertical-align: middle;\n",
       "    }\n",
       "\n",
       "    .dataframe tbody tr th {\n",
       "        vertical-align: top;\n",
       "    }\n",
       "\n",
       "    .dataframe thead th {\n",
       "        text-align: right;\n",
       "    }\n",
       "</style>\n",
       "<table border=\"1\" class=\"dataframe\">\n",
       "  <thead>\n",
       "    <tr style=\"text-align: right;\">\n",
       "      <th></th>\n",
       "      <th>Date_time</th>\n",
       "      <th>city</th>\n",
       "      <th>state/province</th>\n",
       "      <th>country</th>\n",
       "      <th>UFO_shape</th>\n",
       "      <th>length_of_encounter_seconds</th>\n",
       "      <th>described_duration_of_encounter</th>\n",
       "      <th>description</th>\n",
       "      <th>date_documented</th>\n",
       "      <th>latitude</th>\n",
       "      <th>longitude</th>\n",
       "    </tr>\n",
       "  </thead>\n",
       "  <tbody>\n",
       "    <tr>\n",
       "      <td>0</td>\n",
       "      <td>10-10-1949 20:30</td>\n",
       "      <td>san marcos</td>\n",
       "      <td>tx</td>\n",
       "      <td>us</td>\n",
       "      <td>cylinder</td>\n",
       "      <td>2700</td>\n",
       "      <td>45 minutes</td>\n",
       "      <td>This event took place in early fall around 194...</td>\n",
       "      <td>4/27/2004</td>\n",
       "      <td>29.8830556</td>\n",
       "      <td>-97.941111</td>\n",
       "    </tr>\n",
       "    <tr>\n",
       "      <td>1</td>\n",
       "      <td>10-10-1949 21:00</td>\n",
       "      <td>lackland afb</td>\n",
       "      <td>tx</td>\n",
       "      <td>NaN</td>\n",
       "      <td>light</td>\n",
       "      <td>7200</td>\n",
       "      <td>1-2 hrs</td>\n",
       "      <td>1949 Lackland AFB&amp;#44 TX.  Lights racing acros...</td>\n",
       "      <td>12/16/2005</td>\n",
       "      <td>29.38421</td>\n",
       "      <td>-98.581082</td>\n",
       "    </tr>\n",
       "    <tr>\n",
       "      <td>2</td>\n",
       "      <td>10-10-1955 17:00</td>\n",
       "      <td>chester (uk/england)</td>\n",
       "      <td>NaN</td>\n",
       "      <td>gb</td>\n",
       "      <td>circle</td>\n",
       "      <td>20</td>\n",
       "      <td>20 seconds</td>\n",
       "      <td>Green/Orange circular disc over Chester&amp;#44 En...</td>\n",
       "      <td>1/21/2008</td>\n",
       "      <td>53.2</td>\n",
       "      <td>-2.916667</td>\n",
       "    </tr>\n",
       "    <tr>\n",
       "      <td>3</td>\n",
       "      <td>10-10-1956 21:00</td>\n",
       "      <td>edna</td>\n",
       "      <td>tx</td>\n",
       "      <td>us</td>\n",
       "      <td>circle</td>\n",
       "      <td>20</td>\n",
       "      <td>1/2 hour</td>\n",
       "      <td>My older brother and twin sister were leaving ...</td>\n",
       "      <td>1/17/2004</td>\n",
       "      <td>28.9783333</td>\n",
       "      <td>-96.645833</td>\n",
       "    </tr>\n",
       "    <tr>\n",
       "      <td>4</td>\n",
       "      <td>10-10-1960 20:00</td>\n",
       "      <td>kaneohe</td>\n",
       "      <td>hi</td>\n",
       "      <td>us</td>\n",
       "      <td>light</td>\n",
       "      <td>900</td>\n",
       "      <td>15 minutes</td>\n",
       "      <td>AS a Marine 1st Lt. flying an FJ4B fighter/att...</td>\n",
       "      <td>1/22/2004</td>\n",
       "      <td>21.4180556</td>\n",
       "      <td>-157.803611</td>\n",
       "    </tr>\n",
       "  </tbody>\n",
       "</table>\n",
       "</div>"
      ],
      "text/plain": [
       "          Date_time                  city state/province country UFO_shape  \\\n",
       "0  10-10-1949 20:30            san marcos             tx      us  cylinder   \n",
       "1  10-10-1949 21:00          lackland afb             tx     NaN     light   \n",
       "2  10-10-1955 17:00  chester (uk/england)            NaN      gb    circle   \n",
       "3  10-10-1956 21:00                  edna             tx      us    circle   \n",
       "4  10-10-1960 20:00               kaneohe             hi      us     light   \n",
       "\n",
       "  length_of_encounter_seconds described_duration_of_encounter  \\\n",
       "0                        2700                      45 minutes   \n",
       "1                        7200                         1-2 hrs   \n",
       "2                          20                      20 seconds   \n",
       "3                          20                        1/2 hour   \n",
       "4                         900                      15 minutes   \n",
       "\n",
       "                                         description date_documented  \\\n",
       "0  This event took place in early fall around 194...       4/27/2004   \n",
       "1  1949 Lackland AFB&#44 TX.  Lights racing acros...      12/16/2005   \n",
       "2  Green/Orange circular disc over Chester&#44 En...       1/21/2008   \n",
       "3  My older brother and twin sister were leaving ...       1/17/2004   \n",
       "4  AS a Marine 1st Lt. flying an FJ4B fighter/att...       1/22/2004   \n",
       "\n",
       "     latitude   longitude  \n",
       "0  29.8830556  -97.941111  \n",
       "1    29.38421  -98.581082  \n",
       "2        53.2   -2.916667  \n",
       "3  28.9783333  -96.645833  \n",
       "4  21.4180556 -157.803611  "
      ]
     },
     "execution_count": 2,
     "metadata": {},
     "output_type": "execute_result"
    },
    {
     "name": "stdout",
     "output_type": "stream",
     "text": [
      "Original Dataframe:\n",
      "            Date_time                  city state/province country UFO_shape  \\\n",
      "0 1949-10-10 20:30:00            san marcos             tx      us  cylinder   \n",
      "1 1949-10-10 21:00:00          lackland afb             tx     NaN     light   \n",
      "2 1955-10-10 17:00:00  chester (uk/england)            NaN      gb    circle   \n",
      "3 1956-10-10 21:00:00                  edna             tx      us    circle   \n",
      "4 1960-10-10 20:00:00               kaneohe             hi      us     light   \n",
      "\n",
      "  length_of_encounter_seconds described_duration_of_encounter  \\\n",
      "0                        2700                      45 minutes   \n",
      "1                        7200                         1-2 hrs   \n",
      "2                          20                      20 seconds   \n",
      "3                          20                        1/2 hour   \n",
      "4                         900                      15 minutes   \n",
      "\n",
      "                                         description date_documented  \\\n",
      "0  This event took place in early fall around 194...       4/27/2004   \n",
      "1  1949 Lackland AFB&#44 TX.  Lights racing acros...      12/16/2005   \n",
      "2  Green/Orange circular disc over Chester&#44 En...       1/21/2008   \n",
      "3  My older brother and twin sister were leaving ...       1/17/2004   \n",
      "4  AS a Marine 1st Lt. flying an FJ4B fighter/att...       1/22/2004   \n",
      "\n",
      "     latitude   longitude  \n",
      "0  29.8830556  -97.941111  \n",
      "1    29.38421  -98.581082  \n",
      "2        53.2   -2.916667  \n",
      "3  28.9783333  -96.645833  \n",
      "4  21.4180556 -157.803611  \n",
      "\n",
      "Current date of Ufo dataset:\n",
      "2013-10-10 21:30:00\n",
      "\n",
      "Oldest date of Ufo dataset:\n",
      "1949-10-10 20:30:00\n",
      "\n",
      "Number of days between Current date and oldest date of Ufo dataset:\n",
      "23376\n"
     ]
    }
   ],
   "source": [
    "import pandas as pd\n",
    "from datetime import datetime\n",
    "df = pd.read_csv('D:/ufod.csv')\n",
    "df = df.iloc[:380]\n",
    "df.head()\n",
    "df['Date_time'] = df['Date_time'].astype('datetime64[ns]')\n",
    "print(\"Original Dataframe:\")\n",
    "print(df.head())\n",
    "print(\"\\nCurrent date of Ufo dataset:\")\n",
    "print(df.Date_time.max())\n",
    "print(\"\\nOldest date of Ufo dataset:\")\n",
    "print(df.Date_time.min())\n",
    "print(\"\\nNumber of days between Current date and oldest date of Ufo dataset:\")\n",
    "print((df.Date_time.max() - df.Date_time.min()).days)"
   ]
  },
  {
   "cell_type": "markdown",
   "metadata": {},
   "source": [
    "### Q131. Write a pandas program to get all sighting days of the unidentified flying object (ufo) between 1950-10-10 and 1960-10-10."
   ]
  },
  {
   "cell_type": "code",
   "execution_count": 3,
   "metadata": {},
   "outputs": [
    {
     "name": "stdout",
     "output_type": "stream",
     "text": [
      "\n",
      "Sighting days of the unidentified flying object (ufo) between 1949-10-10 and 1960-10-10:\n"
     ]
    },
    {
     "data": {
      "text/html": [
       "<div>\n",
       "<style scoped>\n",
       "    .dataframe tbody tr th:only-of-type {\n",
       "        vertical-align: middle;\n",
       "    }\n",
       "\n",
       "    .dataframe tbody tr th {\n",
       "        vertical-align: top;\n",
       "    }\n",
       "\n",
       "    .dataframe thead th {\n",
       "        text-align: right;\n",
       "    }\n",
       "</style>\n",
       "<table border=\"1\" class=\"dataframe\">\n",
       "  <thead>\n",
       "    <tr style=\"text-align: right;\">\n",
       "      <th></th>\n",
       "      <th>Date_time</th>\n",
       "      <th>city</th>\n",
       "      <th>state/province</th>\n",
       "      <th>country</th>\n",
       "      <th>UFO_shape</th>\n",
       "      <th>length_of_encounter_seconds</th>\n",
       "      <th>described_duration_of_encounter</th>\n",
       "      <th>description</th>\n",
       "      <th>date_documented</th>\n",
       "      <th>latitude</th>\n",
       "      <th>longitude</th>\n",
       "    </tr>\n",
       "  </thead>\n",
       "  <tbody>\n",
       "    <tr>\n",
       "      <td>2</td>\n",
       "      <td>1955-10-10 17:00:00</td>\n",
       "      <td>chester (uk/england)</td>\n",
       "      <td>NaN</td>\n",
       "      <td>gb</td>\n",
       "      <td>circle</td>\n",
       "      <td>20</td>\n",
       "      <td>20 seconds</td>\n",
       "      <td>Green/Orange circular disc over Chester&amp;#44 En...</td>\n",
       "      <td>1/21/2008</td>\n",
       "      <td>53.2</td>\n",
       "      <td>-2.916667</td>\n",
       "    </tr>\n",
       "    <tr>\n",
       "      <td>3</td>\n",
       "      <td>1956-10-10 21:00:00</td>\n",
       "      <td>edna</td>\n",
       "      <td>tx</td>\n",
       "      <td>us</td>\n",
       "      <td>circle</td>\n",
       "      <td>20</td>\n",
       "      <td>1/2 hour</td>\n",
       "      <td>My older brother and twin sister were leaving ...</td>\n",
       "      <td>1/17/2004</td>\n",
       "      <td>28.9783333</td>\n",
       "      <td>-96.645833</td>\n",
       "    </tr>\n",
       "    <tr>\n",
       "      <td>4</td>\n",
       "      <td>1960-10-10 20:00:00</td>\n",
       "      <td>kaneohe</td>\n",
       "      <td>hi</td>\n",
       "      <td>us</td>\n",
       "      <td>light</td>\n",
       "      <td>900</td>\n",
       "      <td>15 minutes</td>\n",
       "      <td>AS a Marine 1st Lt. flying an FJ4B fighter/att...</td>\n",
       "      <td>1/22/2004</td>\n",
       "      <td>21.4180556</td>\n",
       "      <td>-157.803611</td>\n",
       "    </tr>\n",
       "  </tbody>\n",
       "</table>\n",
       "</div>"
      ],
      "text/plain": [
       "            Date_time                  city state/province country UFO_shape  \\\n",
       "2 1955-10-10 17:00:00  chester (uk/england)            NaN      gb    circle   \n",
       "3 1956-10-10 21:00:00                  edna             tx      us    circle   \n",
       "4 1960-10-10 20:00:00               kaneohe             hi      us     light   \n",
       "\n",
       "  length_of_encounter_seconds described_duration_of_encounter  \\\n",
       "2                          20                      20 seconds   \n",
       "3                          20                        1/2 hour   \n",
       "4                         900                      15 minutes   \n",
       "\n",
       "                                         description date_documented  \\\n",
       "2  Green/Orange circular disc over Chester&#44 En...       1/21/2008   \n",
       "3  My older brother and twin sister were leaving ...       1/17/2004   \n",
       "4  AS a Marine 1st Lt. flying an FJ4B fighter/att...       1/22/2004   \n",
       "\n",
       "     latitude   longitude  \n",
       "2        53.2   -2.916667  \n",
       "3  28.9783333  -96.645833  \n",
       "4  21.4180556 -157.803611  "
      ]
     },
     "execution_count": 3,
     "metadata": {},
     "output_type": "execute_result"
    }
   ],
   "source": [
    "print(\"\\nSighting days of the unidentified flying object (ufo) between 1949-10-10 and 1960-10-10:\")\n",
    "selected_period = df[(df['Date_time'] >= '1950-01-01 00:00:00') & (df['Date_time'] <= '1960-12-31 23:59:59')]\n",
    "selected_period"
   ]
  },
  {
   "cell_type": "markdown",
   "metadata": {},
   "source": [
    "### Q132. Write a Pandas program to extract the year, month, day, hour, minute, second, and weekday from unidentified flying object (UFO) reporting date."
   ]
  },
  {
   "cell_type": "code",
   "execution_count": 4,
   "metadata": {},
   "outputs": [
    {
     "name": "stdout",
     "output_type": "stream",
     "text": [
      "\n",
      "Year:\n",
      "0    1949\n",
      "1    1949\n",
      "2    1955\n",
      "3    1956\n",
      "4    1960\n",
      "Name: Date_time, dtype: int64\n",
      "\n",
      "Month:\n",
      "0    10\n",
      "1    10\n",
      "2    10\n",
      "3    10\n",
      "4    10\n",
      "Name: Date_time, dtype: int64\n",
      "\n",
      "Day:\n",
      "0    10\n",
      "1    10\n",
      "2    10\n",
      "3    10\n",
      "4    10\n",
      "Name: Date_time, dtype: int64\n",
      "\n",
      "Hour:\n",
      "0    20\n",
      "1    21\n",
      "2    17\n",
      "3    21\n",
      "4    20\n",
      "Name: Date_time, dtype: int64\n",
      "\n",
      "Minute:\n",
      "0    30\n",
      "1     0\n",
      "2     0\n",
      "3     0\n",
      "4     0\n",
      "Name: Date_time, dtype: int64\n",
      "\n",
      "Second:\n",
      "0    0\n",
      "1    0\n",
      "2    0\n",
      "3    0\n",
      "4    0\n",
      "Name: Date_time, dtype: int64\n",
      "\n",
      "Weekday:\n",
      "0       Monday\n",
      "1       Monday\n",
      "2       Monday\n",
      "3    Wednesday\n",
      "4       Monday\n",
      "Name: Date_time, dtype: object\n"
     ]
    }
   ],
   "source": [
    "print(\"\\nYear:\")\n",
    "print(df.Date_time.dt.year.head())\n",
    "print(\"\\nMonth:\")\n",
    "print(df.Date_time.dt.month.head())\n",
    "print(\"\\nDay:\")\n",
    "print(df.Date_time.dt.day.head())\n",
    "print(\"\\nHour:\")\n",
    "print(df.Date_time.dt.hour.head())\n",
    "print(\"\\nMinute:\")\n",
    "print(df.Date_time.dt.minute.head())\n",
    "print(\"\\nSecond:\")\n",
    "print(df.Date_time.dt.second.head())\n",
    "print(\"\\nWeekday:\")\n",
    "print(df.Date_time.dt.weekday_name.head())"
   ]
  },
  {
   "cell_type": "markdown",
   "metadata": {},
   "source": [
    "### Q133. Write a pandas program to count year-country wise frequency of reporting dates of the unidentified flying object(UFO)."
   ]
  },
  {
   "cell_type": "code",
   "execution_count": 5,
   "metadata": {},
   "outputs": [
    {
     "name": "stdout",
     "output_type": "stream",
     "text": [
      "\n",
      "Country-year wise frequency of reporting dates of UFO:\n"
     ]
    },
    {
     "data": {
      "text/plain": [
       "Year  country\n",
       "1949  us          1\n",
       "1955  gb          1\n",
       "1956  us          1\n",
       "1960  us          1\n",
       "1961  us          1\n",
       "                 ..\n",
       "2011  gb          1\n",
       "      us         12\n",
       "2012  us         18\n",
       "2013  ca          2\n",
       "      us         13\n",
       "Length: 68, dtype: int64"
      ]
     },
     "execution_count": 5,
     "metadata": {},
     "output_type": "execute_result"
    }
   ],
   "source": [
    "df['Year'] = df['Date_time'].apply(lambda x: \"%d\" % (x.year))\n",
    "result = df.groupby(['Year', 'country']).size()\n",
    "print(\"\\nCountry-year wise frequency of reporting dates of UFO:\")\n",
    "result"
   ]
  },
  {
   "cell_type": "markdown",
   "metadata": {},
   "source": [
    "### Q134. Write a pandas program to get the difference (in days) between documented date and reporting date of unidentified flying object (UFO)."
   ]
  },
  {
   "cell_type": "code",
   "execution_count": 6,
   "metadata": {},
   "outputs": [
    {
     "name": "stdout",
     "output_type": "stream",
     "text": [
      "Original Dataframe:\n"
     ]
    },
    {
     "data": {
      "text/html": [
       "<div>\n",
       "<style scoped>\n",
       "    .dataframe tbody tr th:only-of-type {\n",
       "        vertical-align: middle;\n",
       "    }\n",
       "\n",
       "    .dataframe tbody tr th {\n",
       "        vertical-align: top;\n",
       "    }\n",
       "\n",
       "    .dataframe thead th {\n",
       "        text-align: right;\n",
       "    }\n",
       "</style>\n",
       "<table border=\"1\" class=\"dataframe\">\n",
       "  <thead>\n",
       "    <tr style=\"text-align: right;\">\n",
       "      <th></th>\n",
       "      <th>Date_time</th>\n",
       "      <th>city</th>\n",
       "      <th>state/province</th>\n",
       "      <th>country</th>\n",
       "      <th>UFO_shape</th>\n",
       "      <th>length_of_encounter_seconds</th>\n",
       "      <th>described_duration_of_encounter</th>\n",
       "      <th>description</th>\n",
       "      <th>date_documented</th>\n",
       "      <th>latitude</th>\n",
       "      <th>longitude</th>\n",
       "      <th>Year</th>\n",
       "    </tr>\n",
       "  </thead>\n",
       "  <tbody>\n",
       "    <tr>\n",
       "      <td>0</td>\n",
       "      <td>1949-10-10 20:30:00</td>\n",
       "      <td>san marcos</td>\n",
       "      <td>tx</td>\n",
       "      <td>us</td>\n",
       "      <td>cylinder</td>\n",
       "      <td>2700</td>\n",
       "      <td>45 minutes</td>\n",
       "      <td>This event took place in early fall around 194...</td>\n",
       "      <td>2004-04-27</td>\n",
       "      <td>29.8830556</td>\n",
       "      <td>-97.941111</td>\n",
       "      <td>1949</td>\n",
       "    </tr>\n",
       "    <tr>\n",
       "      <td>1</td>\n",
       "      <td>1949-10-10 21:00:00</td>\n",
       "      <td>lackland afb</td>\n",
       "      <td>tx</td>\n",
       "      <td>NaN</td>\n",
       "      <td>light</td>\n",
       "      <td>7200</td>\n",
       "      <td>1-2 hrs</td>\n",
       "      <td>1949 Lackland AFB&amp;#44 TX.  Lights racing acros...</td>\n",
       "      <td>2005-12-16</td>\n",
       "      <td>29.38421</td>\n",
       "      <td>-98.581082</td>\n",
       "      <td>1949</td>\n",
       "    </tr>\n",
       "    <tr>\n",
       "      <td>2</td>\n",
       "      <td>1955-10-10 17:00:00</td>\n",
       "      <td>chester (uk/england)</td>\n",
       "      <td>NaN</td>\n",
       "      <td>gb</td>\n",
       "      <td>circle</td>\n",
       "      <td>20</td>\n",
       "      <td>20 seconds</td>\n",
       "      <td>Green/Orange circular disc over Chester&amp;#44 En...</td>\n",
       "      <td>2008-01-21</td>\n",
       "      <td>53.2</td>\n",
       "      <td>-2.916667</td>\n",
       "      <td>1955</td>\n",
       "    </tr>\n",
       "    <tr>\n",
       "      <td>3</td>\n",
       "      <td>1956-10-10 21:00:00</td>\n",
       "      <td>edna</td>\n",
       "      <td>tx</td>\n",
       "      <td>us</td>\n",
       "      <td>circle</td>\n",
       "      <td>20</td>\n",
       "      <td>1/2 hour</td>\n",
       "      <td>My older brother and twin sister were leaving ...</td>\n",
       "      <td>2004-01-17</td>\n",
       "      <td>28.9783333</td>\n",
       "      <td>-96.645833</td>\n",
       "      <td>1956</td>\n",
       "    </tr>\n",
       "    <tr>\n",
       "      <td>4</td>\n",
       "      <td>1960-10-10 20:00:00</td>\n",
       "      <td>kaneohe</td>\n",
       "      <td>hi</td>\n",
       "      <td>us</td>\n",
       "      <td>light</td>\n",
       "      <td>900</td>\n",
       "      <td>15 minutes</td>\n",
       "      <td>AS a Marine 1st Lt. flying an FJ4B fighter/att...</td>\n",
       "      <td>2004-01-22</td>\n",
       "      <td>21.4180556</td>\n",
       "      <td>-157.803611</td>\n",
       "      <td>1960</td>\n",
       "    </tr>\n",
       "  </tbody>\n",
       "</table>\n",
       "</div>"
      ],
      "text/plain": [
       "            Date_time                  city state/province country UFO_shape  \\\n",
       "0 1949-10-10 20:30:00            san marcos             tx      us  cylinder   \n",
       "1 1949-10-10 21:00:00          lackland afb             tx     NaN     light   \n",
       "2 1955-10-10 17:00:00  chester (uk/england)            NaN      gb    circle   \n",
       "3 1956-10-10 21:00:00                  edna             tx      us    circle   \n",
       "4 1960-10-10 20:00:00               kaneohe             hi      us     light   \n",
       "\n",
       "  length_of_encounter_seconds described_duration_of_encounter  \\\n",
       "0                        2700                      45 minutes   \n",
       "1                        7200                         1-2 hrs   \n",
       "2                          20                      20 seconds   \n",
       "3                          20                        1/2 hour   \n",
       "4                         900                      15 minutes   \n",
       "\n",
       "                                         description date_documented  \\\n",
       "0  This event took place in early fall around 194...      2004-04-27   \n",
       "1  1949 Lackland AFB&#44 TX.  Lights racing acros...      2005-12-16   \n",
       "2  Green/Orange circular disc over Chester&#44 En...      2008-01-21   \n",
       "3  My older brother and twin sister were leaving ...      2004-01-17   \n",
       "4  AS a Marine 1st Lt. flying an FJ4B fighter/att...      2004-01-22   \n",
       "\n",
       "     latitude   longitude  Year  \n",
       "0  29.8830556  -97.941111  1949  \n",
       "1    29.38421  -98.581082  1949  \n",
       "2        53.2   -2.916667  1955  \n",
       "3  28.9783333  -96.645833  1956  \n",
       "4  21.4180556 -157.803611  1960  "
      ]
     },
     "execution_count": 6,
     "metadata": {},
     "output_type": "execute_result"
    },
    {
     "name": "stdout",
     "output_type": "stream",
     "text": [
      "\n",
      "Difference (in days) between documented date and reporting date of UFO:\n"
     ]
    },
    {
     "data": {
      "text/html": [
       "<div>\n",
       "<style scoped>\n",
       "    .dataframe tbody tr th:only-of-type {\n",
       "        vertical-align: middle;\n",
       "    }\n",
       "\n",
       "    .dataframe tbody tr th {\n",
       "        vertical-align: top;\n",
       "    }\n",
       "\n",
       "    .dataframe thead th {\n",
       "        text-align: right;\n",
       "    }\n",
       "</style>\n",
       "<table border=\"1\" class=\"dataframe\">\n",
       "  <thead>\n",
       "    <tr style=\"text-align: right;\">\n",
       "      <th></th>\n",
       "      <th>Date_time</th>\n",
       "      <th>city</th>\n",
       "      <th>state/province</th>\n",
       "      <th>country</th>\n",
       "      <th>UFO_shape</th>\n",
       "      <th>length_of_encounter_seconds</th>\n",
       "      <th>described_duration_of_encounter</th>\n",
       "      <th>description</th>\n",
       "      <th>date_documented</th>\n",
       "      <th>latitude</th>\n",
       "      <th>longitude</th>\n",
       "      <th>Year</th>\n",
       "      <th>Difference</th>\n",
       "    </tr>\n",
       "  </thead>\n",
       "  <tbody>\n",
       "    <tr>\n",
       "      <td>0</td>\n",
       "      <td>1949-10-10 20:30:00</td>\n",
       "      <td>san marcos</td>\n",
       "      <td>tx</td>\n",
       "      <td>us</td>\n",
       "      <td>cylinder</td>\n",
       "      <td>2700</td>\n",
       "      <td>45 minutes</td>\n",
       "      <td>This event took place in early fall around 194...</td>\n",
       "      <td>2004-04-27</td>\n",
       "      <td>29.8830556</td>\n",
       "      <td>-97.941111</td>\n",
       "      <td>1949</td>\n",
       "      <td>19922</td>\n",
       "    </tr>\n",
       "    <tr>\n",
       "      <td>1</td>\n",
       "      <td>1949-10-10 21:00:00</td>\n",
       "      <td>lackland afb</td>\n",
       "      <td>tx</td>\n",
       "      <td>NaN</td>\n",
       "      <td>light</td>\n",
       "      <td>7200</td>\n",
       "      <td>1-2 hrs</td>\n",
       "      <td>1949 Lackland AFB&amp;#44 TX.  Lights racing acros...</td>\n",
       "      <td>2005-12-16</td>\n",
       "      <td>29.38421</td>\n",
       "      <td>-98.581082</td>\n",
       "      <td>1949</td>\n",
       "      <td>20520</td>\n",
       "    </tr>\n",
       "    <tr>\n",
       "      <td>2</td>\n",
       "      <td>1955-10-10 17:00:00</td>\n",
       "      <td>chester (uk/england)</td>\n",
       "      <td>NaN</td>\n",
       "      <td>gb</td>\n",
       "      <td>circle</td>\n",
       "      <td>20</td>\n",
       "      <td>20 seconds</td>\n",
       "      <td>Green/Orange circular disc over Chester&amp;#44 En...</td>\n",
       "      <td>2008-01-21</td>\n",
       "      <td>53.2</td>\n",
       "      <td>-2.916667</td>\n",
       "      <td>1955</td>\n",
       "      <td>19095</td>\n",
       "    </tr>\n",
       "    <tr>\n",
       "      <td>3</td>\n",
       "      <td>1956-10-10 21:00:00</td>\n",
       "      <td>edna</td>\n",
       "      <td>tx</td>\n",
       "      <td>us</td>\n",
       "      <td>circle</td>\n",
       "      <td>20</td>\n",
       "      <td>1/2 hour</td>\n",
       "      <td>My older brother and twin sister were leaving ...</td>\n",
       "      <td>2004-01-17</td>\n",
       "      <td>28.9783333</td>\n",
       "      <td>-96.645833</td>\n",
       "      <td>1956</td>\n",
       "      <td>17264</td>\n",
       "    </tr>\n",
       "    <tr>\n",
       "      <td>4</td>\n",
       "      <td>1960-10-10 20:00:00</td>\n",
       "      <td>kaneohe</td>\n",
       "      <td>hi</td>\n",
       "      <td>us</td>\n",
       "      <td>light</td>\n",
       "      <td>900</td>\n",
       "      <td>15 minutes</td>\n",
       "      <td>AS a Marine 1st Lt. flying an FJ4B fighter/att...</td>\n",
       "      <td>2004-01-22</td>\n",
       "      <td>21.4180556</td>\n",
       "      <td>-157.803611</td>\n",
       "      <td>1960</td>\n",
       "      <td>15808</td>\n",
       "    </tr>\n",
       "    <tr>\n",
       "      <td>...</td>\n",
       "      <td>...</td>\n",
       "      <td>...</td>\n",
       "      <td>...</td>\n",
       "      <td>...</td>\n",
       "      <td>...</td>\n",
       "      <td>...</td>\n",
       "      <td>...</td>\n",
       "      <td>...</td>\n",
       "      <td>...</td>\n",
       "      <td>...</td>\n",
       "      <td>...</td>\n",
       "      <td>...</td>\n",
       "      <td>...</td>\n",
       "    </tr>\n",
       "    <tr>\n",
       "      <td>375</td>\n",
       "      <td>2006-10-11 01:25:00</td>\n",
       "      <td>nashville</td>\n",
       "      <td>tn</td>\n",
       "      <td>us</td>\n",
       "      <td>disk</td>\n",
       "      <td>13</td>\n",
       "      <td>13 sec</td>\n",
       "      <td>Circle shaped solid white object flying throug...</td>\n",
       "      <td>2006-10-30</td>\n",
       "      <td>36.1658333</td>\n",
       "      <td>-86.784444</td>\n",
       "      <td>2006</td>\n",
       "      <td>18</td>\n",
       "    </tr>\n",
       "    <tr>\n",
       "      <td>376</td>\n",
       "      <td>2006-10-11 02:00:00</td>\n",
       "      <td>calumet city</td>\n",
       "      <td>in</td>\n",
       "      <td>NaN</td>\n",
       "      <td>circle</td>\n",
       "      <td>420</td>\n",
       "      <td>7 minutes</td>\n",
       "      <td>i work as a security guard at the calume t cit...</td>\n",
       "      <td>2006-10-30</td>\n",
       "      <td>41.615591</td>\n",
       "      <td>-87.529487</td>\n",
       "      <td>2006</td>\n",
       "      <td>18</td>\n",
       "    </tr>\n",
       "    <tr>\n",
       "      <td>377</td>\n",
       "      <td>2006-10-11 05:40:00</td>\n",
       "      <td>york</td>\n",
       "      <td>me</td>\n",
       "      <td>NaN</td>\n",
       "      <td>disk</td>\n",
       "      <td>30</td>\n",
       "      <td>30 seconds</td>\n",
       "      <td>Illuminated but not shiny disc  with three lar...</td>\n",
       "      <td>2006-10-30</td>\n",
       "      <td>43.161748</td>\n",
       "      <td>-70.648258</td>\n",
       "      <td>2006</td>\n",
       "      <td>18</td>\n",
       "    </tr>\n",
       "    <tr>\n",
       "      <td>378</td>\n",
       "      <td>2006-10-11 09:00:00</td>\n",
       "      <td>littlerock</td>\n",
       "      <td>ar</td>\n",
       "      <td>NaN</td>\n",
       "      <td>oval</td>\n",
       "      <td>600</td>\n",
       "      <td>10 minutes</td>\n",
       "      <td>The first object was shaped like an oval and a...</td>\n",
       "      <td>2006-10-30</td>\n",
       "      <td>34.746481</td>\n",
       "      <td>-92.289595</td>\n",
       "      <td>2006</td>\n",
       "      <td>18</td>\n",
       "    </tr>\n",
       "    <tr>\n",
       "      <td>379</td>\n",
       "      <td>2006-10-11 11:29:00</td>\n",
       "      <td>lynnwood</td>\n",
       "      <td>wa</td>\n",
       "      <td>us</td>\n",
       "      <td>unknown</td>\n",
       "      <td>120</td>\n",
       "      <td>a few minutes</td>\n",
       "      <td>I noticed a very white tail behind an object t...</td>\n",
       "      <td>2006-10-30</td>\n",
       "      <td>47.8211111</td>\n",
       "      <td>-122.313889</td>\n",
       "      <td>2006</td>\n",
       "      <td>18</td>\n",
       "    </tr>\n",
       "  </tbody>\n",
       "</table>\n",
       "<p>380 rows × 13 columns</p>\n",
       "</div>"
      ],
      "text/plain": [
       "              Date_time                  city state/province country  \\\n",
       "0   1949-10-10 20:30:00            san marcos             tx      us   \n",
       "1   1949-10-10 21:00:00          lackland afb             tx     NaN   \n",
       "2   1955-10-10 17:00:00  chester (uk/england)            NaN      gb   \n",
       "3   1956-10-10 21:00:00                  edna             tx      us   \n",
       "4   1960-10-10 20:00:00               kaneohe             hi      us   \n",
       "..                  ...                   ...            ...     ...   \n",
       "375 2006-10-11 01:25:00             nashville             tn      us   \n",
       "376 2006-10-11 02:00:00          calumet city             in     NaN   \n",
       "377 2006-10-11 05:40:00                  york             me     NaN   \n",
       "378 2006-10-11 09:00:00            littlerock             ar     NaN   \n",
       "379 2006-10-11 11:29:00              lynnwood             wa      us   \n",
       "\n",
       "    UFO_shape length_of_encounter_seconds described_duration_of_encounter  \\\n",
       "0    cylinder                        2700                      45 minutes   \n",
       "1       light                        7200                         1-2 hrs   \n",
       "2      circle                          20                      20 seconds   \n",
       "3      circle                          20                        1/2 hour   \n",
       "4       light                         900                      15 minutes   \n",
       "..        ...                         ...                             ...   \n",
       "375      disk                          13                          13 sec   \n",
       "376    circle                         420                       7 minutes   \n",
       "377      disk                          30                      30 seconds   \n",
       "378      oval                         600                      10 minutes   \n",
       "379   unknown                         120                   a few minutes   \n",
       "\n",
       "                                           description date_documented  \\\n",
       "0    This event took place in early fall around 194...      2004-04-27   \n",
       "1    1949 Lackland AFB&#44 TX.  Lights racing acros...      2005-12-16   \n",
       "2    Green/Orange circular disc over Chester&#44 En...      2008-01-21   \n",
       "3    My older brother and twin sister were leaving ...      2004-01-17   \n",
       "4    AS a Marine 1st Lt. flying an FJ4B fighter/att...      2004-01-22   \n",
       "..                                                 ...             ...   \n",
       "375  Circle shaped solid white object flying throug...      2006-10-30   \n",
       "376  i work as a security guard at the calume t cit...      2006-10-30   \n",
       "377  Illuminated but not shiny disc  with three lar...      2006-10-30   \n",
       "378  The first object was shaped like an oval and a...      2006-10-30   \n",
       "379  I noticed a very white tail behind an object t...      2006-10-30   \n",
       "\n",
       "       latitude   longitude  Year  Difference  \n",
       "0    29.8830556  -97.941111  1949       19922  \n",
       "1      29.38421  -98.581082  1949       20520  \n",
       "2          53.2   -2.916667  1955       19095  \n",
       "3    28.9783333  -96.645833  1956       17264  \n",
       "4    21.4180556 -157.803611  1960       15808  \n",
       "..          ...         ...   ...         ...  \n",
       "375  36.1658333  -86.784444  2006          18  \n",
       "376   41.615591  -87.529487  2006          18  \n",
       "377   43.161748  -70.648258  2006          18  \n",
       "378   34.746481  -92.289595  2006          18  \n",
       "379  47.8211111 -122.313889  2006          18  \n",
       "\n",
       "[380 rows x 13 columns]"
      ]
     },
     "execution_count": 6,
     "metadata": {},
     "output_type": "execute_result"
    }
   ],
   "source": [
    "df['Date_time'] = df['Date_time'].astype('datetime64[ns]')\n",
    "df['date_documented'] = df['date_documented'].astype('datetime64[ns]')\n",
    "print(\"Original Dataframe:\")\n",
    "df.head()\n",
    "print(\"\\nDifference (in days) between documented date and reporting date of UFO:\")\n",
    "df['Difference'] = (df['date_documented'] - df['Date_time']).dt.days\n",
    "df"
   ]
  },
  {
   "cell_type": "markdown",
   "metadata": {},
   "source": [
    "### Q135. Write a pandas program to generate sequences of fixedfrequency dates and time spans."
   ]
  },
  {
   "cell_type": "code",
   "execution_count": 7,
   "metadata": {},
   "outputs": [
    {
     "name": "stdout",
     "output_type": "stream",
     "text": [
      "Hourly frequency:\n",
      "DatetimeIndex(['2018-01-01 00:00:00', '2018-01-01 01:00:00',\n",
      "               '2018-01-01 02:00:00', '2018-01-01 03:00:00',\n",
      "               '2018-01-01 04:00:00', '2018-01-01 05:00:00',\n",
      "               '2018-01-01 06:00:00', '2018-01-01 07:00:00',\n",
      "               '2018-01-01 08:00:00', '2018-01-01 09:00:00',\n",
      "               '2018-01-01 10:00:00', '2018-01-01 11:00:00'],\n",
      "              dtype='datetime64[ns]', freq='H')\n",
      "\n",
      "Minutely frequency:\n",
      "DatetimeIndex(['2018-01-01 00:00:00', '2018-01-01 00:01:00',\n",
      "               '2018-01-01 00:02:00', '2018-01-01 00:03:00',\n",
      "               '2018-01-01 00:04:00', '2018-01-01 00:05:00',\n",
      "               '2018-01-01 00:06:00', '2018-01-01 00:07:00',\n",
      "               '2018-01-01 00:08:00', '2018-01-01 00:09:00',\n",
      "               '2018-01-01 00:10:00', '2018-01-01 00:11:00'],\n",
      "              dtype='datetime64[ns]', freq='T')\n",
      "\n",
      "Secondly frequency:\n",
      "DatetimeIndex(['2018-01-01 00:00:00', '2018-01-01 00:00:01',\n",
      "               '2018-01-01 00:00:02', '2018-01-01 00:00:03',\n",
      "               '2018-01-01 00:00:04', '2018-01-01 00:00:05',\n",
      "               '2018-01-01 00:00:06', '2018-01-01 00:00:07',\n",
      "               '2018-01-01 00:00:08', '2018-01-01 00:00:09',\n",
      "               '2018-01-01 00:00:10', '2018-01-01 00:00:11'],\n",
      "              dtype='datetime64[ns]', freq='S')\n",
      "nMultiple Hourly frequency:\n",
      "DatetimeIndex(['2018-01-01 00:00:00', '2018-01-01 02:00:00',\n",
      "               '2018-01-01 04:00:00', '2018-01-01 06:00:00',\n",
      "               '2018-01-01 08:00:00', '2018-01-01 10:00:00',\n",
      "               '2018-01-01 12:00:00', '2018-01-01 14:00:00',\n",
      "               '2018-01-01 16:00:00', '2018-01-01 18:00:00',\n",
      "               '2018-01-01 20:00:00', '2018-01-01 22:00:00'],\n",
      "              dtype='datetime64[ns]', freq='2H')\n",
      "\n",
      "Multiple Minutely frequency:\n",
      "DatetimeIndex(['2018-01-01 00:00:00', '2018-01-01 00:05:00',\n",
      "               '2018-01-01 00:10:00', '2018-01-01 00:15:00',\n",
      "               '2018-01-01 00:20:00', '2018-01-01 00:25:00',\n",
      "               '2018-01-01 00:30:00', '2018-01-01 00:35:00',\n",
      "               '2018-01-01 00:40:00', '2018-01-01 00:45:00',\n",
      "               '2018-01-01 00:50:00', '2018-01-01 00:55:00'],\n",
      "              dtype='datetime64[ns]', freq='5T')\n",
      "\n",
      "Multiple Secondly frequency:\n",
      "DatetimeIndex(['2018-03-30', '2018-06-29', '2018-09-28', '2018-12-31',\n",
      "               '2019-03-29', '2019-06-28', '2019-09-30', '2019-12-31',\n",
      "               '2020-03-31', '2020-06-30', '2020-09-30', '2020-12-31'],\n",
      "              dtype='datetime64[ns]', freq='BQ-DEC')\n",
      "\n",
      "Weekly frequency:\n",
      "DatetimeIndex(['2018-01-07', '2018-01-14', '2018-01-21', '2018-01-28',\n",
      "               '2018-02-04', '2018-02-11', '2018-02-18', '2018-02-25',\n",
      "               '2018-03-04', '2018-03-11', '2018-03-18', '2018-03-25'],\n",
      "              dtype='datetime64[ns]', freq='W-SUN')\n",
      "\n",
      "Combine together day and intraday offsets-1:\n",
      "DatetimeIndex(['2018-01-01 00:00:00', '2018-01-01 02:20:00',\n",
      "               '2018-01-01 04:40:00', '2018-01-01 07:00:00',\n",
      "               '2018-01-01 09:20:00', '2018-01-01 11:40:00',\n",
      "               '2018-01-01 14:00:00', '2018-01-01 16:20:00',\n",
      "               '2018-01-01 18:40:00', '2018-01-01 21:00:00',\n",
      "               '2018-01-01 23:20:00', '2018-01-02 01:40:00'],\n",
      "              dtype='datetime64[ns]', freq='140T')\n",
      "\n",
      "Combine together day and intraday offsets-2:\n",
      "DatetimeIndex([       '2018-01-01 00:00:00', '2018-01-02 00:00:00.000010',\n",
      "               '2018-01-03 00:00:00.000020', '2018-01-04 00:00:00.000030',\n",
      "               '2018-01-05 00:00:00.000040', '2018-01-06 00:00:00.000050',\n",
      "               '2018-01-07 00:00:00.000060', '2018-01-08 00:00:00.000070',\n",
      "               '2018-01-09 00:00:00.000080', '2018-01-10 00:00:00.000090',\n",
      "               '2018-01-11 00:00:00.000100', '2018-01-12 00:00:00.000110'],\n",
      "              dtype='datetime64[ns]', freq='86400000010U')\n"
     ]
    }
   ],
   "source": [
    "dtr = pd.date_range('2018-01-01', periods=12, freq='H')\n",
    "print(\"Hourly frequency:\")\n",
    "print(dtr)\n",
    "dtr = pd.date_range('2018-01-01', periods=12, freq='min')\n",
    "print(\"\\nMinutely frequency:\")\n",
    "print(dtr)\n",
    "dtr = pd.date_range('2018-01-01', periods=12, freq='S')\n",
    "print(\"\\nSecondly frequency:\")\n",
    "print(dtr)\n",
    "dtr = pd.date_range('2018-01-01', periods=12, freq='2H')\n",
    "print(\"nMultiple Hourly frequency:\")\n",
    "print(dtr)\n",
    "dtr = pd.date_range('2018-01-01', periods=12, freq='5min')\n",
    "print(\"\\nMultiple Minutely frequency:\")\n",
    "print(dtr)\n",
    "dtr = pd.date_range('2018-01-01', periods=12, freq='BQ')\n",
    "print(\"\\nMultiple Secondly frequency:\")\n",
    "print(dtr)\n",
    "dtr = pd.date_range('2018-01-01', periods=12, freq='w')\n",
    "print(\"\\nWeekly frequency:\")\n",
    "print(dtr)\n",
    "dtr = pd.date_range('2018-01-01', periods=12, freq='2h20min')\n",
    "print(\"\\nCombine together day and intraday offsets-1:\")\n",
    "print(dtr)\n",
    "dtr = pd.date_range('2018-01-01', periods=12, freq='1D10U')\n",
    "print(\"\\nCombine together day and intraday offsets-2:\")\n",
    "print(dtr)"
   ]
  },
  {
   "cell_type": "markdown",
   "metadata": {},
   "source": [
    "### Q136. Write a pandas program to manipulate and convert date times with timezone information"
   ]
  },
  {
   "cell_type": "code",
   "execution_count": 8,
   "metadata": {},
   "outputs": [
    {
     "name": "stdout",
     "output_type": "stream",
     "text": [
      "DatetimeIndex(['2018-01-01 00:00:00+00:00', '2018-01-01 01:00:00+00:00',\n",
      "               '2018-01-01 02:00:00+00:00'],\n",
      "              dtype='datetime64[ns, UTC]', freq='H')\n",
      "\n",
      "From UTC to America/Los_Angeles:\n",
      "DatetimeIndex(['2017-12-31 16:00:00-08:00', '2017-12-31 17:00:00-08:00',\n",
      "               '2017-12-31 18:00:00-08:00'],\n",
      "              dtype='datetime64[ns, America/Los_Angeles]', freq='H')\n"
     ]
    }
   ],
   "source": [
    "dtt = pd.date_range('2018-01-01', periods=3, freq='H')\n",
    "dtt = dtt.tz_localize('UTC')\n",
    "print(dtt)\n",
    "print(\"\\nFrom UTC to America/Los_Angeles:\")\n",
    "dtt = dtt.tz_convert('America/Los_Angeles')\n",
    "print(dtt)"
   ]
  },
  {
   "cell_type": "markdown",
   "metadata": {},
   "source": [
    "### Q137. Write a pandas program to create the graphical analysis of UFO (unidentified flying object) Sightings year"
   ]
  },
  {
   "cell_type": "code",
   "execution_count": 9,
   "metadata": {},
   "outputs": [
    {
     "data": {
      "text/plain": [
       "1999    29\n",
       "2004    29\n",
       "2005    26\n",
       "2003    21\n",
       "2012    20\n",
       "2007    20\n",
       "2010    18\n",
       "2008    18\n",
       "2013    17\n",
       "2011    16\n",
       "2006    16\n",
       "1998    16\n",
       "2001    14\n",
       "2000    14\n",
       "2002    11\n",
       "2009     9\n",
       "1994     6\n",
       "1989     5\n",
       "1997     5\n",
       "1996     5\n",
       "1992     5\n",
       "1979     4\n",
       "1988     4\n",
       "1995     4\n",
       "1993     3\n",
       "1984     3\n",
       "1980     3\n",
       "1973     3\n",
       "1974     3\n",
       "1949     2\n",
       "1991     2\n",
       "1966     2\n",
       "1968     2\n",
       "1970     2\n",
       "1972     2\n",
       "1977     2\n",
       "1976     2\n",
       "1978     2\n",
       "1986     2\n",
       "1987     2\n",
       "1965     2\n",
       "1961     1\n",
       "1956     1\n",
       "1960     1\n",
       "1955     1\n",
       "1990     1\n",
       "1971     1\n",
       "1982     1\n",
       "1985     1\n",
       "1975     1\n",
       "Name: ufo_yr, dtype: int64"
      ]
     },
     "execution_count": 9,
     "metadata": {},
     "output_type": "execute_result"
    },
    {
     "data": {
      "text/plain": [
       "Int64Index([1999, 2004, 2005, 2003, 2012, 2007, 2010, 2008, 2013, 2011, 2006,\n",
       "            1998, 2001, 2000, 2002, 2009, 1994, 1989, 1997, 1996, 1992, 1979,\n",
       "            1988, 1995, 1993, 1984, 1980, 1973, 1974, 1949, 1991, 1966, 1968,\n",
       "            1970, 1972, 1977, 1976, 1978, 1986, 1987, 1965, 1961, 1956, 1960,\n",
       "            1955, 1990, 1971, 1982, 1985, 1975],\n",
       "           dtype='int64')"
      ]
     },
     "execution_count": 9,
     "metadata": {},
     "output_type": "execute_result"
    },
    {
     "name": "stderr",
     "output_type": "stream",
     "text": [
      "C:\\Users\\Chaitanya\\Anaconda3\\lib\\site-packages\\ipykernel_launcher.py:10: FutureWarning: The 'get_values' method is deprecated and will be removed in a future version. Use '.to_numpy()' or '.array' instead.\n",
      "  # Remove the CWD from sys.path while we load stuff.\n"
     ]
    },
    {
     "data": {
      "text/plain": [
       "array([29, 29, 26, 21, 20, 20, 18, 18, 17, 16, 16, 16, 14, 14, 11,  9,  6,\n",
       "        5,  5,  5,  5,  4,  4,  4,  3,  3,  3,  3,  3,  2,  2,  2,  2,  2,\n",
       "        2,  2,  2,  2,  2,  2,  2,  1,  1,  1,  1,  1,  1,  1,  1,  1],\n",
       "      dtype=int64)"
      ]
     },
     "execution_count": 9,
     "metadata": {},
     "output_type": "execute_result"
    },
    {
     "data": {
      "text/plain": [
       "<Figure size 1080x576 with 0 Axes>"
      ]
     },
     "execution_count": 9,
     "metadata": {},
     "output_type": "execute_result"
    },
    {
     "data": {
      "text/plain": [
       "(array([0. , 0.2, 0.4, 0.6, 0.8, 1. ]), <a list of 6 Text xticklabel objects>)"
      ]
     },
     "execution_count": 9,
     "metadata": {},
     "output_type": "execute_result"
    },
    {
     "data": {
      "text/plain": [
       "Text(0.5, 1.0, 'UFO Sightings by Year')"
      ]
     },
     "execution_count": 9,
     "metadata": {},
     "output_type": "execute_result"
    },
    {
     "data": {
      "text/plain": [
       "Text(0.5, 0, 'Year')"
      ]
     },
     "execution_count": 9,
     "metadata": {},
     "output_type": "execute_result"
    },
    {
     "data": {
      "text/plain": [
       "Text(0, 0.5, 'Number of reports')"
      ]
     },
     "execution_count": 9,
     "metadata": {},
     "output_type": "execute_result"
    },
    {
     "data": {
      "image/png": "[encoded data removed]",
      "text/plain": [
       "<Figure size 1080x576 with 1 Axes>"
      ]
     },
     "metadata": {
      "needs_background": "light"
     },
     "output_type": "display_data"
    }
   ],
   "source": [
    "import matplotlib.pyplot as plt\n",
    "import seaborn as sns\n",
    "%matplotlib inline\n",
    "df['Date_time'] = df['Date_time'].astype('datetime64[ns]')\n",
    "df[\"ufo_yr\"] = df.Date_time.dt.year\n",
    "years_data = df.ufo_yr.value_counts()\n",
    "years_data\n",
    "years_index = years_data.index  # x ticks\n",
    "years_index\n",
    "years_values = years_data.get_values()\n",
    "years_values\n",
    "plt.figure(figsize=(15,8))\n",
    "plt.xticks(rotation = 60)\n",
    "plt.title('UFO Sightings by Year')\n",
    "plt.xlabel(\"Year\")\n",
    "plt.ylabel(\"Number of reports\")\n",
    "years_plot = sns.barplot(x=years_index[:60],y=years_values[:60], palette = \"Reds\")"
   ]
  },
  {
   "cell_type": "markdown",
   "metadata": {},
   "source": [
    "### Q138. Write a pandas program to create a comparison of the top 10 years in which the (UFO) was sighted VS each Month."
   ]
  },
  {
   "cell_type": "code",
   "execution_count": 12,
   "metadata": {},
   "outputs": [
    {
     "data": {
      "text/html": [
       "<div>\n",
       "<style scoped>\n",
       "    .dataframe tbody tr th:only-of-type {\n",
       "        vertical-align: middle;\n",
       "    }\n",
       "\n",
       "    .dataframe tbody tr th {\n",
       "        vertical-align: top;\n",
       "    }\n",
       "\n",
       "    .dataframe thead th {\n",
       "        text-align: right;\n",
       "    }\n",
       "</style>\n",
       "<table border=\"1\" class=\"dataframe\">\n",
       "  <thead>\n",
       "    <tr style=\"text-align: right;\">\n",
       "      <th>Date_time</th>\n",
       "      <th>10</th>\n",
       "    </tr>\n",
       "    <tr>\n",
       "      <th>Date_time</th>\n",
       "      <th></th>\n",
       "    </tr>\n",
       "  </thead>\n",
       "  <tbody>\n",
       "    <tr>\n",
       "      <td>1999.0</td>\n",
       "      <td>29</td>\n",
       "    </tr>\n",
       "    <tr>\n",
       "      <td>2003.0</td>\n",
       "      <td>21</td>\n",
       "    </tr>\n",
       "    <tr>\n",
       "      <td>2004.0</td>\n",
       "      <td>29</td>\n",
       "    </tr>\n",
       "    <tr>\n",
       "      <td>2005.0</td>\n",
       "      <td>26</td>\n",
       "    </tr>\n",
       "    <tr>\n",
       "      <td>2007.0</td>\n",
       "      <td>20</td>\n",
       "    </tr>\n",
       "    <tr>\n",
       "      <td>2008.0</td>\n",
       "      <td>18</td>\n",
       "    </tr>\n",
       "    <tr>\n",
       "      <td>2010.0</td>\n",
       "      <td>18</td>\n",
       "    </tr>\n",
       "    <tr>\n",
       "      <td>2011.0</td>\n",
       "      <td>16</td>\n",
       "    </tr>\n",
       "    <tr>\n",
       "      <td>2012.0</td>\n",
       "      <td>20</td>\n",
       "    </tr>\n",
       "    <tr>\n",
       "      <td>2013.0</td>\n",
       "      <td>17</td>\n",
       "    </tr>\n",
       "  </tbody>\n",
       "</table>\n",
       "</div>"
      ],
      "text/plain": [
       "Date_time  10\n",
       "Date_time    \n",
       "1999.0     29\n",
       "2003.0     21\n",
       "2004.0     29\n",
       "2005.0     26\n",
       "2007.0     20\n",
       "2008.0     18\n",
       "2010.0     18\n",
       "2011.0     16\n",
       "2012.0     20\n",
       "2013.0     17"
      ]
     },
     "execution_count": 12,
     "metadata": {},
     "output_type": "execute_result"
    },
    {
     "name": "stdout",
     "output_type": "stream",
     "text": [
      "\n",
      "Comparison of the top 10 years in which the UFO was sighted vs each month:\n"
     ]
    },
    {
     "data": {
      "text/html": [
       "<div>\n",
       "<style scoped>\n",
       "    .dataframe tbody tr th:only-of-type {\n",
       "        vertical-align: middle;\n",
       "    }\n",
       "\n",
       "    .dataframe tbody tr th {\n",
       "        vertical-align: top;\n",
       "    }\n",
       "\n",
       "    .dataframe thead th {\n",
       "        text-align: right;\n",
       "    }\n",
       "</style>\n",
       "<table border=\"1\" class=\"dataframe\">\n",
       "  <thead>\n",
       "    <tr style=\"text-align: right;\">\n",
       "      <th>Date_time</th>\n",
       "      <th>10</th>\n",
       "    </tr>\n",
       "    <tr>\n",
       "      <th>Date_time</th>\n",
       "      <th></th>\n",
       "    </tr>\n",
       "  </thead>\n",
       "  <tbody>\n",
       "    <tr>\n",
       "      <td>1999</td>\n",
       "      <td>29</td>\n",
       "    </tr>\n",
       "    <tr>\n",
       "      <td>2003</td>\n",
       "      <td>21</td>\n",
       "    </tr>\n",
       "    <tr>\n",
       "      <td>2004</td>\n",
       "      <td>29</td>\n",
       "    </tr>\n",
       "    <tr>\n",
       "      <td>2005</td>\n",
       "      <td>26</td>\n",
       "    </tr>\n",
       "    <tr>\n",
       "      <td>2007</td>\n",
       "      <td>20</td>\n",
       "    </tr>\n",
       "    <tr>\n",
       "      <td>2008</td>\n",
       "      <td>18</td>\n",
       "    </tr>\n",
       "    <tr>\n",
       "      <td>2010</td>\n",
       "      <td>18</td>\n",
       "    </tr>\n",
       "    <tr>\n",
       "      <td>2011</td>\n",
       "      <td>16</td>\n",
       "    </tr>\n",
       "    <tr>\n",
       "      <td>2012</td>\n",
       "      <td>20</td>\n",
       "    </tr>\n",
       "    <tr>\n",
       "      <td>2013</td>\n",
       "      <td>17</td>\n",
       "    </tr>\n",
       "  </tbody>\n",
       "</table>\n",
       "</div>"
      ],
      "text/plain": [
       "Date_time  10\n",
       "Date_time    \n",
       "1999       29\n",
       "2003       21\n",
       "2004       29\n",
       "2005       26\n",
       "2007       20\n",
       "2008       18\n",
       "2010       18\n",
       "2011       16\n",
       "2012       20\n",
       "2013       17"
      ]
     },
     "execution_count": 12,
     "metadata": {},
     "output_type": "execute_result"
    }
   ],
   "source": [
    "df['Date_time'] = df['Date_time'].astype('datetime64[ns]')\n",
    "most_sightings_years = df['Date_time'].dt.year.value_counts().head(10)\n",
    "def is_top_years(year):\n",
    "   if year in most_sightings_years.index:\n",
    "       return year\n",
    "month_vs_year = df.pivot_table(columns=df['Date_time'].dt.month,index=df['Date_time'].dt.year.apply(is_top_years),aggfunc='count',values='city')\n",
    "month_vs_year\n",
    "month_vs_year.index = month_vs_year.index.astype(int)\n",
    "month_vs_year.columns = month_vs_year.columns.astype(int)\n",
    "print(\"\\nComparison of the top 10 years in which the UFO was sighted vs each month:\")\n",
    "month_vs_year.head(10)"
   ]
  },
  {
   "cell_type": "markdown",
   "metadata": {},
   "source": [
    "### Q139. Write a pandas program to create a heatmap (rectangular data as a colour-encoded matrix) for comparison of top 10 years in which (UFO ) was sighted VS each Month"
   ]
  },
  {
   "cell_type": "code",
   "execution_count": 20,
   "metadata": {},
   "outputs": [
    {
     "name": "stdout",
     "output_type": "stream",
     "text": [
      "\n",
      "Heatmap for comparison of the top 10 years in which the UFO was sighted vs each month:\n"
     ]
    },
    {
     "data": {
      "text/plain": [
       "<Figure size 720x576 with 0 Axes>"
      ]
     },
     "execution_count": 20,
     "metadata": {},
     "output_type": "execute_result"
    },
    {
     "data": {
      "text/plain": [
       "(array([0.5, 1.5, 2.5, 3.5, 4.5, 5.5, 6.5, 7.5, 8.5, 9.5]),\n",
       " <a list of 10 Text yticklabel objects>)"
      ]
     },
     "execution_count": 20,
     "metadata": {},
     "output_type": "execute_result"
    },
    {
     "data": {
      "image/png": "[encoded data removed]",
      "text/plain": [
       "<Figure size 720x576 with 2 Axes>"
      ]
     },
     "metadata": {
      "needs_background": "light"
     },
     "output_type": "display_data"
    }
   ],
   "source": [
    "print(\"\\nHeatmap for comparison of the top 10 years in which the UFO was sighted vs each month:\")\n",
    "plt.figure(figsize=(10,8))\n",
    "ax = sns.heatmap(month_vs_year, vmin = 10,vmax = 40)\n",
    "ax.set_xlabel('Month').set_size(10)\n",
    "ax.set_ylabel('Year').set_size(10)\n",
    "plt.yticks(rotation=0)"
   ]
  },
  {
   "cell_type": "markdown",
   "metadata": {},
   "source": [
    "### Q140. Write a pandas program to create a Timewheel of Hour VS Year comparison of the top 10 years in which the (UFO) was sighted."
   ]
  },
  {
   "cell_type": "code",
   "execution_count": 21,
   "metadata": {},
   "outputs": [
    {
     "name": "stdout",
     "output_type": "stream",
     "text": [
      "\n",
      "Comparison of the top 10 years in which the UFO was sighted vs each month:\n"
     ]
    },
    {
     "data": {
      "text/plain": [
       "<Figure size 576x576 with 0 Axes>"
      ]
     },
     "execution_count": 21,
     "metadata": {},
     "output_type": "execute_result"
    },
    {
     "data": {
      "text/plain": [
       "Text(0.5, 1.08, 'Timewheel of Hour Vs Year')"
      ]
     },
     "execution_count": 21,
     "metadata": {},
     "output_type": "execute_result"
    },
    {
     "data": {
      "image/png": "[encoded data removed]",
      "text/plain": [
       "<Figure size 576x576 with 1 Axes>"
      ]
     },
     "metadata": {},
     "output_type": "display_data"
    }
   ],
   "source": [
    "import matplotlib as mpl\n",
    "import matplotlib.cm as cm\n",
    "print(\"\\nComparison of the top 10 years in which the UFO was sighted vs each month:\")\n",
    "def pie_heatmap(table, cmap='coolwarm_r', vmin=None, vmax=None,inner_r=0.25, pie_args={}):\n",
    "   n, m = table.shape\n",
    "   vmin= table.min().min() if vmin is None else vmin\n",
    "   vmax= table.max().max() if vmax is None else vmax\n",
    "\n",
    "   centre_circle = plt.Circle((0,0),inner_r,edgecolor='black',facecolor='white',fill=True,linewidth=0.25)\n",
    "   plt.gcf().gca().add_artist(centre_circle)\n",
    "   norm = mpl.colors.Normalize(vmin=vmin, vmax=vmax)\n",
    "   cmapper = cm.ScalarMappable(norm=norm, cmap=cmap)\n",
    "\n",
    "   for i, (row_name, row) in enumerate(table.iterrows()):\n",
    "       labels = None if i > 0 else table.columns\n",
    "       wedges = plt.pie([1] * m,radius=inner_r+float(n-i)/n, colors=[cmapper.to_rgba(x) for x in row.values],\n",
    "           labels=labels, startangle=90, counterclock=False, wedgeprops={'linewidth':-1}, **pie_args)\n",
    "       plt.setp(wedges[0], edgecolor='grey',linewidth=1.5)\n",
    "       wedges = plt.pie([1], radius=inner_r+float(n-i-1)/n, colors=['w'], labels=[row_name], startangle=-90, wedgeprops={'linewidth':0})\n",
    "       plt.setp(wedges[0], edgecolor='grey',linewidth=1.5)\n",
    "plt.figure(figsize=(8,8))\n",
    "plt.title(\"Timewheel of Hour Vs Year\",y=1.08,fontsize=30)\n",
    "pie_heatmap(month_vs_year, vmin=-20,vmax=80,inner_r=0.2)"
   ]
  },
  {
   "cell_type": "markdown",
   "metadata": {},
   "source": [
    "### Q141. Write a python program to draw the line using given axis values with the suitable label in the x-axis, y-axis, and a title."
   ]
  },
  {
   "cell_type": "code",
   "execution_count": 22,
   "metadata": {},
   "outputs": [
    {
     "name": "stdout",
     "output_type": "stream",
     "text": [
      "Values of X:\n",
      "1 2 3 4 5 6 7 8 9 10 11 12 13 14 15 16 17 18 19 20 21 22 23 24 25 26 27 28 29 30 31 32 33 34 35 36 37 38 39 40 41 42 43 44 45 46 47 48 49\n",
      "Values of Y (thrice of X):\n",
      "[3, 6, 9, 12, 15, 18, 21, 24, 27, 30, 33, 36, 39, 42, 45, 48, 51, 54, 57, 60, 63, 66, 69, 72, 75, 78, 81, 84, 87, 90, 93, 96, 99, 102, 105, 108, 111, 114, 117, 120, 123, 126, 129, 132, 135, 138, 141, 144, 147]\n"
     ]
    },
    {
     "data": {
      "text/plain": [
       "[<matplotlib.lines.Line2D at 0x1413f3abc18>]"
      ]
     },
     "execution_count": 22,
     "metadata": {},
     "output_type": "execute_result"
    },
    {
     "data": {
      "text/plain": [
       "Text(0.5, 0, 'x - axis')"
      ]
     },
     "execution_count": 22,
     "metadata": {},
     "output_type": "execute_result"
    },
    {
     "data": {
      "text/plain": [
       "Text(0, 0.5, 'y - axis')"
      ]
     },
     "execution_count": 22,
     "metadata": {},
     "output_type": "execute_result"
    },
    {
     "data": {
      "text/plain": [
       "Text(0.5, 1.0, 'Draw a line.')"
      ]
     },
     "execution_count": 22,
     "metadata": {},
     "output_type": "execute_result"
    },
    {
     "data": {
      "image/png": "[encoded data removed]",
      "text/plain": [
       "<Figure size 432x288 with 1 Axes>"
      ]
     },
     "metadata": {
      "needs_background": "light"
     },
     "output_type": "display_data"
    }
   ],
   "source": [
    "X = range(1, 50)\n",
    "Y = [value * 3 for value in X]\n",
    "print(\"Values of X:\")\n",
    "print(*range(1,50)) \n",
    "print(\"Values of Y (thrice of X):\")\n",
    "print(Y)\n",
    "# Plot lines and/or markers to the Axes.\n",
    "plt.plot(X, Y)\n",
    "# Set the x axis label of the current axis.\n",
    "plt.xlabel('x - axis')\n",
    "# Set the y axis label of the current axis.\n",
    "plt.ylabel('y - axis')\n",
    "# Set a title \n",
    "plt.title('Draw a line.')"
   ]
  },
  {
   "cell_type": "markdown",
   "metadata": {},
   "source": [
    "### Q142. Write a python program to draw the line charts of the financial data of the Alphabet Inc., between October."
   ]
  },
  {
   "cell_type": "code",
   "execution_count": null,
   "metadata": {},
   "outputs": [],
   "source": [
    "df = pd.read_csv('D:/fdata.csv',parse_dates=True, index_col=0)\n",
    "df.plot()"
   ]
  },
  {
   "cell_type": "markdown",
   "metadata": {},
   "source": [
    "### Q143. Write a Python program to plot two or more lines on same plot with the suitable legends of each line."
   ]
  },
  {
   "cell_type": "code",
   "execution_count": 23,
   "metadata": {},
   "outputs": [
    {
     "data": {
      "text/plain": [
       "[<matplotlib.lines.Line2D at 0x1413ec23b70>]"
      ]
     },
     "execution_count": 23,
     "metadata": {},
     "output_type": "execute_result"
    },
    {
     "data": {
      "text/plain": [
       "[<matplotlib.lines.Line2D at 0x1413f3b61d0>]"
      ]
     },
     "execution_count": 23,
     "metadata": {},
     "output_type": "execute_result"
    },
    {
     "data": {
      "text/plain": [
       "Text(0.5, 0, 'x - axis')"
      ]
     },
     "execution_count": 23,
     "metadata": {},
     "output_type": "execute_result"
    },
    {
     "data": {
      "text/plain": [
       "Text(0, 0.5, 'y - axis')"
      ]
     },
     "execution_count": 23,
     "metadata": {},
     "output_type": "execute_result"
    },
    {
     "data": {
      "text/plain": [
       "Text(0.5, 1.0, 'Two or more lines on same plot with suitable legends ')"
      ]
     },
     "execution_count": 23,
     "metadata": {},
     "output_type": "execute_result"
    },
    {
     "data": {
      "text/plain": [
       "<matplotlib.legend.Legend at 0x1413ec34128>"
      ]
     },
     "execution_count": 23,
     "metadata": {},
     "output_type": "execute_result"
    },
    {
     "data": {
      "image/png": "[encoded data removed]",
      "text/plain": [
       "<Figure size 432x288 with 1 Axes>"
      ]
     },
     "metadata": {
      "needs_background": "light"
     },
     "output_type": "display_data"
    }
   ],
   "source": [
    "# line 1 points\n",
    "x1 = [10,20,30]\n",
    "y1 = [20,40,10]\n",
    "# plotting the line 1 points \n",
    "plt.plot(x1, y1, label = \"line 1\")\n",
    "# line 2 points\n",
    "x2 = [10,20,30]\n",
    "y2 = [40,10,30]\n",
    "# plotting the line 2 points \n",
    "plt.plot(x2, y2, label = \"line 2\")\n",
    "plt.xlabel('x - axis')\n",
    "# Set the y axis label of the current axis.\n",
    "plt.ylabel('y - axis')\n",
    "# Set a title of the current axes.\n",
    "plt.title('Two or more lines on same plot with suitable legends ')\n",
    "# show a legend on the plot\n",
    "plt.legend()"
   ]
  },
  {
   "cell_type": "markdown",
   "metadata": {},
   "source": [
    "### Q144. Write a python programming to display a bar chart of the popularity of programming languages."
   ]
  },
  {
   "cell_type": "code",
   "execution_count": 25,
   "metadata": {},
   "outputs": [
    {
     "data": {
      "text/plain": [
       "[0, 1, 2, 3, 4, 5]"
      ]
     },
     "execution_count": 25,
     "metadata": {},
     "output_type": "execute_result"
    },
    {
     "data": {
      "text/plain": [
       "<BarContainer object of 6 artists>"
      ]
     },
     "execution_count": 25,
     "metadata": {},
     "output_type": "execute_result"
    },
    {
     "data": {
      "text/plain": [
       "Text(0.5, 0, 'Languages')"
      ]
     },
     "execution_count": 25,
     "metadata": {},
     "output_type": "execute_result"
    },
    {
     "data": {
      "text/plain": [
       "Text(0, 0.5, 'Popularity')"
      ]
     },
     "execution_count": 25,
     "metadata": {},
     "output_type": "execute_result"
    },
    {
     "data": {
      "text/plain": [
       "Text(0.5, 1.0, 'PopularitY of Programming Language\\nWorldwide, Oct 2017 compared to a year ago')"
      ]
     },
     "execution_count": 25,
     "metadata": {},
     "output_type": "execute_result"
    },
    {
     "data": {
      "text/plain": [
       "([<matplotlib.axis.XTick at 0x1413f738f60>,\n",
       "  <matplotlib.axis.XTick at 0x1413f748dd8>,\n",
       "  <matplotlib.axis.XTick at 0x1413f7486a0>,\n",
       "  <matplotlib.axis.XTick at 0x1413f78c4e0>,\n",
       "  <matplotlib.axis.XTick at 0x1413f78c9e8>,\n",
       "  <matplotlib.axis.XTick at 0x1413f78ceb8>],\n",
       " <a list of 6 Text xticklabel objects>)"
      ]
     },
     "execution_count": 25,
     "metadata": {},
     "output_type": "execute_result"
    },
    {
     "data": {
      "image/png": "[encoded data removed]",
      "text/plain": [
       "<Figure size 432x288 with 1 Axes>"
      ]
     },
     "metadata": {
      "needs_background": "light"
     },
     "output_type": "display_data"
    }
   ],
   "source": [
    "x = ['Java', 'Python', 'PHP', 'JavaScript', 'C#', 'C++']\n",
    "popularity = [22.2, 17.6, 8.8, 8, 7.7, 6.7]\n",
    "x_pos = [i for i, _ in enumerate(x)]\n",
    "x_pos\n",
    "plt.bar(x_pos, popularity, color='blue')\n",
    "plt.xlabel(\"Languages\")\n",
    "plt.ylabel(\"Popularity\")\n",
    "plt.title(\"PopularitY of Programming Language\\n\" + \"Worldwide, Oct 2017 compared to a year ago\")\n",
    "plt.xticks(x_pos, x)\n",
    "# Turn on the grid\n",
    "plt.minorticks_on()\n",
    "plt.grid(which='major', linestyle='-', linewidth='0.5', color='red')\n",
    "# Customize the minor grid\n",
    "plt.grid(which='minor', linestyle=':', linewidth='0.5', color='black')"
   ]
  },
  {
   "cell_type": "markdown",
   "metadata": {},
   "source": [
    "### Q145. Write a python programming to display a horizontal bar chart of the popularity of programming languages."
   ]
  },
  {
   "cell_type": "code",
   "execution_count": 26,
   "metadata": {},
   "outputs": [
    {
     "data": {
      "text/plain": [
       "<BarContainer object of 6 artists>"
      ]
     },
     "execution_count": 26,
     "metadata": {},
     "output_type": "execute_result"
    },
    {
     "data": {
      "text/plain": [
       "Text(0.5, 0, 'Popularity')"
      ]
     },
     "execution_count": 26,
     "metadata": {},
     "output_type": "execute_result"
    },
    {
     "data": {
      "text/plain": [
       "Text(0, 0.5, 'Languages')"
      ]
     },
     "execution_count": 26,
     "metadata": {},
     "output_type": "execute_result"
    },
    {
     "data": {
      "text/plain": [
       "Text(0.5, 1.0, 'PopularitY of Programming Language\\nWorldwide, Oct 2017 compared to a year ago')"
      ]
     },
     "execution_count": 26,
     "metadata": {},
     "output_type": "execute_result"
    },
    {
     "data": {
      "text/plain": [
       "([<matplotlib.axis.YTick at 0x1413f82c860>,\n",
       "  <matplotlib.axis.YTick at 0x1413f82c160>,\n",
       "  <matplotlib.axis.YTick at 0x1413f82b2b0>,\n",
       "  <matplotlib.axis.YTick at 0x1413f850da0>,\n",
       "  <matplotlib.axis.YTick at 0x1413f85b358>,\n",
       "  <matplotlib.axis.YTick at 0x1413f85b8d0>],\n",
       " <a list of 6 Text yticklabel objects>)"
      ]
     },
     "execution_count": 26,
     "metadata": {},
     "output_type": "execute_result"
    },
    {
     "data": {
      "image/png": "[encoded data removed]",
      "text/plain": [
       "<Figure size 432x288 with 1 Axes>"
      ]
     },
     "metadata": {
      "needs_background": "light"
     },
     "output_type": "display_data"
    }
   ],
   "source": [
    "x = ['Java', 'Python', 'PHP', 'JS', 'C#', 'C++']\n",
    "popularity = [22.2, 17.6, 8.8, 8, 7.7, 6.7]\n",
    "x_pos = [i for i, _ in enumerate(x)]\n",
    "plt.barh(x_pos, popularity, color='green')\n",
    "plt.xlabel(\"Popularity\")\n",
    "plt.ylabel(\"Languages\")\n",
    "plt.title(\"PopularitY of Programming Language\\n\" + \"Worldwide, Oct 2017 compared to a year ago\")\n",
    "plt.yticks(x_pos, x)\n",
    "# Turn on the grid\n",
    "plt.minorticks_on()\n",
    "plt.grid(which='major', linestyle='-', linewidth='0.5', color='red')\n",
    "# Customize the minor grid\n",
    "plt.grid(which='minor', linestyle=':', linewidth='0.5', color='black')"
   ]
  },
  {
   "cell_type": "markdown",
   "metadata": {},
   "source": [
    "### Q146. Write a python programming to display a bar chart of the Popularity of programming languages. Increase bottom margin."
   ]
  },
  {
   "cell_type": "code",
   "execution_count": 28,
   "metadata": {},
   "outputs": [
    {
     "data": {
      "text/plain": [
       "<BarContainer object of 6 artists>"
      ]
     },
     "execution_count": 28,
     "metadata": {},
     "output_type": "execute_result"
    },
    {
     "data": {
      "text/plain": [
       "Text(0.5, 0, 'Languages')"
      ]
     },
     "execution_count": 28,
     "metadata": {},
     "output_type": "execute_result"
    },
    {
     "data": {
      "text/plain": [
       "Text(0, 0.5, 'Popularity')"
      ]
     },
     "execution_count": 28,
     "metadata": {},
     "output_type": "execute_result"
    },
    {
     "data": {
      "text/plain": [
       "Text(0.5, 1.0, 'PopularitY of Programming Language\\nWorldwide, Oct 2017 compared to a year ago')"
      ]
     },
     "execution_count": 28,
     "metadata": {},
     "output_type": "execute_result"
    },
    {
     "data": {
      "text/plain": [
       "([<matplotlib.axis.XTick at 0x14140243e80>,\n",
       "  <matplotlib.axis.XTick at 0x1413c90ffd0>,\n",
       "  <matplotlib.axis.XTick at 0x1413c90fac8>,\n",
       "  <matplotlib.axis.XTick at 0x1414029d240>,\n",
       "  <matplotlib.axis.XTick at 0x1414029d7b8>,\n",
       "  <matplotlib.axis.XTick at 0x1414029dd30>],\n",
       " <a list of 6 Text xticklabel objects>)"
      ]
     },
     "execution_count": 28,
     "metadata": {},
     "output_type": "execute_result"
    },
    {
     "data": {
      "image/png": "[encoded data removed]",
      "text/plain": [
       "<Figure size 432x288 with 1 Axes>"
      ]
     },
     "metadata": {
      "needs_background": "light"
     },
     "output_type": "display_data"
    }
   ],
   "source": [
    "x = ['Java', 'Python', 'PHP', 'JavaScript', 'C#', 'C++']\n",
    "popularity = [22.2, 17.6, 8.8, 8, 7.7, 6.7]\n",
    "x_pos = [i for i, _ in enumerate(x)]\n",
    "plt.bar(x_pos, popularity, color=(0.4, 0.6, 0.8, 1.0))\n",
    "plt.xlabel(\"Languages\")\n",
    "plt.ylabel(\"Popularity\")\n",
    "plt.title(\"PopularitY of Programming Language\\n\" + \"Worldwide, Oct 2017 compared to a year ago\")\n",
    "# Rotation of the bars names\n",
    "plt.xticks(x_pos, x, rotation=90)\n",
    "# Custom the subplot layout\n",
    "plt.subplots_adjust(bottom=0.4, top=.8)\n",
    "# Turn on the grid\n",
    "plt.minorticks_on()\n",
    "plt.grid(which='major', linestyle='-', linewidth='0.5', color='red')\n",
    "# Customize the minor grid\n",
    "plt.grid(which='minor', linestyle=':', linewidth='0.5', color='black')"
   ]
  },
  {
   "cell_type": "markdown",
   "metadata": {},
   "source": [
    "### Q147. Write a python program to create the bar plot from a DataFrame."
   ]
  },
  {
   "cell_type": "code",
   "execution_count": 29,
   "metadata": {},
   "outputs": [
    {
     "data": {
      "text/plain": [
       "<matplotlib.axes._subplots.AxesSubplot at 0x14140350048>"
      ]
     },
     "execution_count": 29,
     "metadata": {},
     "output_type": "execute_result"
    },
    {
     "data": {
      "image/png": "[encoded data removed]",
      "text/plain": [
       "<Figure size 432x288 with 1 Axes>"
      ]
     },
     "metadata": {
      "needs_background": "light"
     },
     "output_type": "display_data"
    }
   ],
   "source": [
    "from pandas import DataFrame\n",
    "import matplotlib.pyplot as plt\n",
    "import numpy as np\n",
    "\n",
    "a=np.array([[4,8,5,7,6],[2,3,4,2,6],[4,7,4,7,8],[2,6,4,8,6],[2,4,3,3,2]])\n",
    "df=DataFrame(a, columns=['a','b','c','d','e'], index=[2,4,6,8,10])\n",
    "\n",
    "df.plot(kind='bar')\n",
    "# Turn on the grid\n",
    "plt.minorticks_on()\n",
    "plt.grid(which='major', linestyle='-', linewidth='0.5', color='green')\n",
    "plt.grid(which='minor', linestyle=':', linewidth='0.5', color='black')"
   ]
  },
  {
   "cell_type": "markdown",
   "metadata": {},
   "source": [
    "### Q148. Write a python program to draw the scatter plot comparing two subject marks of Mathematics and Science. Use marks of 10 students."
   ]
  },
  {
   "cell_type": "code",
   "execution_count": 30,
   "metadata": {},
   "outputs": [
    {
     "data": {
      "text/plain": [
       "<matplotlib.collections.PathCollection at 0x141414a16a0>"
      ]
     },
     "execution_count": 30,
     "metadata": {},
     "output_type": "execute_result"
    },
    {
     "data": {
      "text/plain": [
       "<matplotlib.collections.PathCollection at 0x141414a19b0>"
      ]
     },
     "execution_count": 30,
     "metadata": {},
     "output_type": "execute_result"
    },
    {
     "data": {
      "text/plain": [
       "Text(0.5, 1.0, 'Scatter Plot')"
      ]
     },
     "execution_count": 30,
     "metadata": {},
     "output_type": "execute_result"
    },
    {
     "data": {
      "text/plain": [
       "Text(0.5, 0, 'Marks Range')"
      ]
     },
     "execution_count": 30,
     "metadata": {},
     "output_type": "execute_result"
    },
    {
     "data": {
      "text/plain": [
       "Text(0, 0.5, 'Marks Scored')"
      ]
     },
     "execution_count": 30,
     "metadata": {},
     "output_type": "execute_result"
    },
    {
     "data": {
      "text/plain": [
       "<matplotlib.legend.Legend at 0x14141479cf8>"
      ]
     },
     "execution_count": 30,
     "metadata": {},
     "output_type": "execute_result"
    },
    {
     "data": {
      "image/png": "[encoded data removed]",
      "text/plain": [
       "<Figure size 432x288 with 1 Axes>"
      ]
     },
     "metadata": {
      "needs_background": "light"
     },
     "output_type": "display_data"
    }
   ],
   "source": [
    "math_marks = [88, 92, 80, 89, 100, 80, 60, 100, 80, 34]\n",
    "science_marks = [35, 79, 79, 48, 100, 88, 32, 45, 20, 30]\n",
    "marks_range = [10, 20, 30, 40, 50, 60, 70, 80, 90, 100]\n",
    "plt.scatter(marks_range, math_marks, label='Math marks', color='r')\n",
    "plt.scatter(marks_range, science_marks, label='Science marks', color='g')\n",
    "plt.title('Scatter Plot')\n",
    "plt.xlabel('Marks Range')\n",
    "plt.ylabel('Marks Scored')\n",
    "plt.legend()"
   ]
  },
  {
   "cell_type": "markdown",
   "metadata": {},
   "source": [
    "### Q149. Write a python program to draw the scatter plot for three different groups comparing weights and heights."
   ]
  },
  {
   "cell_type": "code",
   "execution_count": null,
   "metadata": {},
   "outputs": [],
   "source": [
    "import numpy as np \n",
    "weight1=[67,57.2,59.6,59.64,55.8,61.2,60.45,61,56.23,56]\n",
    "height1=[101.7,197.6,98.3,125.1,113.7,157.7,136,148.9,125.3,114.9] \n",
    "weight2=[61.9,64,62.1,64.2,62.3,65.4,62.4,61.4,62.5,63.6]\n",
    "height2=[152.8,155.3,135.1,125.2,151.3,135,182.2,195.9,165.1,125.1] \n",
    "weight3=[68.2,67.2,68.4,68.7,71,71.3,70.8,70,71.1,71.7]\n",
    "height3=[165.8,170.9,192.8,135.4,161.4,136.1,167.1,235.1,181.1,177.3]\n",
    "weight=np.concatenate((weight1,weight2,weight3))\n",
    "height=np.concatenate((height1,height2,height3))\n",
    "plt.scatter(weight, height, marker='*', color=['red','green','blue'])\n",
    "plt.xlabel('weight', fontsize=16)\n",
    "plt.ylabel('height', fontsize=16)\n",
    "plt.title('Group wise Weight vs Height scatter plot',fontsize=20)"
   ]
  },
  {
   "cell_type": "markdown",
   "metadata": {},
   "source": [
    "### Q150. Write a python program to draw a scatter plot to find sea-level rise in past 100 years"
   ]
  },
  {
   "cell_type": "code",
   "execution_count": null,
   "metadata": {},
   "outputs": [],
   "source": [
    "import datetime\n",
    "import pandas as pd\n",
    "columns = ['year','sea_level','leb','ueb','asl']\n",
    "data = pd.read_excel('D:/sealevel.xlsx',header = None)\n",
    "data.columns = columns\n",
    "year = data['year']\n",
    "sea_levels = data['sea_level']\n",
    "plt.scatter(year, sea_levels,edgecolors = 'g')\n",
    "plt.xlabel('Year')\n",
    "plt.ylabel('Sea Level (inches)')\n",
    "plt.title('Rise in Sealevel')\n",
    "plt.show()"
   ]
  }
 ],
 "metadata": {
  "kernelspec": {
   "display_name": "Python 3",
   "language": "python",
   "name": "python3"
  },
  "language_info": {
   "codemirror_mode": {
    "name": "ipython",
    "version": 3
   },
   "file_extension": ".py",
   "mimetype": "text/x-python",
   "name": "python",
   "nbconvert_exporter": "python",
   "pygments_lexer": "ipython3",
   "version": "3.7.3"
  }
 },
 "nbformat": 4,
 "nbformat_minor": 2
}
