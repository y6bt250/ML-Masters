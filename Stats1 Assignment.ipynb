{
 "cells": [
  {
   "cell_type": "raw",
   "metadata": {},
   "source": [
    "1. You survey households in your area to find the average rent they are paying. Find the standard deviation from the           following data: $1550, $1700, $900, $850, $1000, $950."
   ]
  },
  {
   "cell_type": "code",
   "execution_count": 6,
   "metadata": {},
   "outputs": [
    {
     "data": {
      "text/plain": [
       "367.99003609699366"
      ]
     },
     "execution_count": 6,
     "metadata": {},
     "output_type": "execute_result"
    }
   ],
   "source": [
    "import numpy as np\n",
    "rent=[1550,1700,900,850,1000,950]\n",
    "np.std(rent,ddof=1)"
   ]
  },
  {
   "cell_type": "raw",
   "metadata": {},
   "source": [
    "2. Find the variance for the following set of data representing trees in California (heights in feet):\n",
    "   3, 21, 98, 203, 17, 9."
   ]
  },
  {
   "cell_type": "code",
   "execution_count": 7,
   "metadata": {},
   "outputs": [
    {
     "data": {
      "text/plain": [
       "6219.9"
      ]
     },
     "execution_count": 7,
     "metadata": {},
     "output_type": "execute_result"
    }
   ],
   "source": [
    "heights=[3, 21, 98, 203, 17, 9]\n",
    "np.var(heights,ddof=1)"
   ]
  },
  {
   "cell_type": "raw",
   "metadata": {},
   "source": [
    "3. In a class on 100 students, 80 students passed in all subjects, 10 failed in one subject, 7 failed in two subjects and 3 failed in three subjects. Find the probability distribution of the variable for number of subjects a student from the given class has failed in."
   ]
  },
  {
   "cell_type": "raw",
   "metadata": {},
   "source": [
    "The probability of failing in 0 subjects, P(X=0) =80/100 =0.8\n",
    "The probability of failing in 1 subjects, P(X=1) =10/100 = 0.1\n",
    "The probability of failing in 2 subjects, P(X=2) =7/100 = 0.07\n",
    "The probability of failing in 3 subjects, P(X=3) = 3/100 = 0.03"
   ]
  }
 ],
 "metadata": {
  "kernelspec": {
   "display_name": "Python 3",
   "language": "python",
   "name": "python3"
  },
  "language_info": {
   "codemirror_mode": {
    "name": "ipython",
    "version": 3
   },
   "file_extension": ".py",
   "mimetype": "text/x-python",
   "name": "python",
   "nbconvert_exporter": "python",
   "pygments_lexer": "ipython3",
   "version": "3.7.3"
  }
 },
 "nbformat": 4,
 "nbformat_minor": 2
}
